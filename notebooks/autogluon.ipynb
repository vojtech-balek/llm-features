{
 "cells": [
  {
   "cell_type": "code",
   "execution_count": 1,
   "id": "initial_id",
   "metadata": {
    "collapsed": true,
    "ExecuteTime": {
     "end_time": "2024-06-26T23:07:31.270326900Z",
     "start_time": "2024-06-26T23:07:13.214709600Z"
    }
   },
   "outputs": [],
   "source": [
    "import pandas as pd\n",
    "import shap\n",
    "from sklearn.model_selection import train_test_split\n",
    "from sklearn.metrics import accuracy_score,f1_score, precision_score, recall_score, mean_absolute_error, confusion_matrix, ConfusionMatrixDisplay, root_mean_squared_error, mean_squared_error\n",
    "from autogluon.tabular import TabularPredictor\n",
    "from autogluon.multimodal import MultiModalPredictor\n",
    "from sklearn.preprocessing import OrdinalEncoder, LabelEncoder"
   ]
  },
  {
   "cell_type": "code",
   "execution_count": 2,
   "outputs": [],
   "source": [
    "import numpy as np"
   ],
   "metadata": {
    "collapsed": false,
    "ExecuteTime": {
     "end_time": "2024-06-16T21:02:43.400417Z",
     "start_time": "2024-06-16T21:02:43.384631300Z"
    }
   },
   "id": "1b6b9a7461106967"
  },
  {
   "cell_type": "code",
   "execution_count": 3,
   "outputs": [],
   "source": [
    "import autogluon.eda.analysis as eda\n",
    "import autogluon.eda.visualization as viz\n",
    "import autogluon.eda.auto as auto"
   ],
   "metadata": {
    "collapsed": false,
    "ExecuteTime": {
     "end_time": "2024-06-16T21:02:43.585612500Z",
     "start_time": "2024-06-16T21:02:43.399410600Z"
    }
   },
   "id": "a0a82725c3af03a9"
  },
  {
   "cell_type": "code",
   "execution_count": 2,
   "outputs": [
    {
     "name": "stdout",
     "output_type": "stream",
     "text": [
      "True\n",
      "1\n"
     ]
    }
   ],
   "source": [
    "import torch\n",
    "print(torch.cuda.is_available())  # Should be True\n",
    "print(torch.cuda.device_count())  # Should be > 0"
   ],
   "metadata": {
    "collapsed": false,
    "ExecuteTime": {
     "end_time": "2024-06-24T19:52:40.878643900Z",
     "start_time": "2024-06-24T19:52:40.856776600Z"
    }
   },
   "id": "b0c9488602d5f6cd"
  },
  {
   "cell_type": "code",
   "execution_count": 28,
   "outputs": [
    {
     "data": {
      "text/plain": "tensor([0.], device='cuda:0')"
     },
     "execution_count": 28,
     "metadata": {},
     "output_type": "execute_result"
    }
   ],
   "source": [
    "torch.zeros(1).cuda()"
   ],
   "metadata": {
    "collapsed": false,
    "ExecuteTime": {
     "end_time": "2024-06-20T14:42:49.327714700Z",
     "start_time": "2024-06-20T14:42:49.280204600Z"
    }
   },
   "id": "ece38b52af74546b"
  },
  {
   "cell_type": "code",
   "execution_count": 2,
   "outputs": [],
   "source": [
    "df_c19 = pd.read_csv(\"final_datasets/c19_final_2.csv\")\n",
    "df_m17 = pd.read_csv(\"final_datasets/m17_final_2.csv\")\n",
    "df_c19 = df_c19.sample(n=len(df_c19), random_state=42)\n",
    "df_m17 = df_m17.sample(n=len(df_m17), random_state=42)"
   ],
   "metadata": {
    "collapsed": false,
    "ExecuteTime": {
     "end_time": "2024-06-26T23:07:31.380230700Z",
     "start_time": "2024-06-26T23:07:31.273334600Z"
    }
   },
   "id": "afa8aaee3ef932c8"
  },
  {
   "cell_type": "code",
   "execution_count": 3,
   "outputs": [],
   "source": [
    "def get_train_test(df, text = False):\n",
    "    df.drop(['science_field', 'collaborators', 'journal_name'], axis = 1, inplace= True, errors='ignore')\n",
    "    enc = OrdinalEncoder(categories=[['low', 'medium', 'high']])\n",
    "    df['rigor'] = enc.fit_transform(df[['rigor']])\n",
    "    df['novelty'] = enc.fit_transform(df[['novelty']])\n",
    "    df['accessibility'] = enc.fit_transform(df[['accessibility']])\n",
    "    # df_c19[['rigor', 'novelty', 'accessibility']] = df_c19[['rigor', 'novelty', 'accessibility']].astype('category')\n",
    "    # enc = OrdinalEncoder(categories=[['low', 'medium', 'high']])\n",
    "    # df['rigor'] = enc.fit_transform(df[['rigor']])\n",
    "    # df['novelty'] = enc.fit_transform(df[['novelty']])\n",
    "    # df['accessibility'] = enc.fit_transform(df[['accessibility']])\n",
    "    if 'evaluation' in df.columns:\n",
    "        if text:\n",
    "            df = df[['evaluation', 'abstract', 'title']]\n",
    "        y  = df['evaluation']\n",
    "    else:\n",
    "        if text:\n",
    "            df = df[['cited', 'abstract', 'title']]\n",
    "        y  = df['cited']\n",
    "        \n",
    "    X =  df.drop(['cited', 'evaluation'], axis=1, errors='ignore')\n",
    "    X_train, X_test, y_train, y_test = train_test_split(X, y, test_size=0.2, random_state=42)\n",
    "    \n",
    "    X_train['label'] = y_train\n",
    "    return  X_train, X_test, y_test"
   ],
   "metadata": {
    "collapsed": false,
    "ExecuteTime": {
     "end_time": "2024-06-26T23:07:31.396750900Z",
     "start_time": "2024-06-26T23:07:31.384236400Z"
    }
   },
   "id": "d0f447e10a39cd32"
  },
  {
   "cell_type": "code",
   "execution_count": 4,
   "outputs": [],
   "source": [
    "def get_conf_matrix(y_test, y_pred):\n",
    "    intensity = confusion_matrix(y_test, y_pred)\n",
    "    disp = ConfusionMatrixDisplay(confusion_matrix = intensity, display_labels=set(y_test))\n",
    "    disp.plot()"
   ],
   "metadata": {
    "collapsed": false,
    "ExecuteTime": {
     "end_time": "2024-06-26T23:07:31.422484100Z",
     "start_time": "2024-06-26T23:07:31.397752300Z"
    }
   },
   "id": "e1822f3a93741dff"
  },
  {
   "cell_type": "code",
   "execution_count": 5,
   "outputs": [],
   "source": [
    "X_train_m17, X_test_m17, y_test_m17 = get_train_test(df_m17)\n",
    "X_train_c19, X_test_c19, y_test_c19 = get_train_test(df_c19)"
   ],
   "metadata": {
    "collapsed": false,
    "ExecuteTime": {
     "end_time": "2024-06-26T23:07:31.442645700Z",
     "start_time": "2024-06-26T23:07:31.414387200Z"
    }
   },
   "id": "96e26e74331dc1fc"
  },
  {
   "cell_type": "code",
   "execution_count": 6,
   "outputs": [],
   "source": [
    "def train_multimodal(X_train, X_test, y_test):\n",
    "    predictor = TabularPredictor(label='label')\n",
    "    predictor.fit(X_train, hyperparameters = 'multimodal')\n",
    "    y_pred = predictor.predict(X_test)\n",
    "\n",
    "    # if task == 'classification': \n",
    "    display(\"Task: Classification\")\n",
    "    display(f\"Multimodal Predictor Accuracy score: {accuracy_score(y_test, y_pred)}\")\n",
    "    display(f\"Multimodal Predictor Recall score: {recall_score(y_test, y_pred, average='macro')}\")\n",
    "    display(f\"Multimodal Predictor F1 score: {f1_score(y_test, y_pred, average='macro')}\")\n",
    "    display(f\"Multimodal Predictor Precision score: {precision_score(y_test, y_pred, average='macro')}\")\n",
    "    display(f\"Multimodal Predictor MAE score: {mean_absolute_error(y_test, y_pred)}\")\n",
    "    display(f\"Multimodal Predictor MSE score: {mean_squared_error(y_test, y_pred)}\")\n",
    "    display(f\"Multimodal Predictor RMSE score: {root_mean_squared_error(y_test, y_pred)}\")\n",
    "    # else:\n",
    "    #     display(\"Task: Regression\")\n",
    "    #     display(f\"Multimodal Predictor MAE score before roudning: {mean_absolute_error(y_test, y_pred)}\")\n",
    "    #     y_pred = [round(val) for val in y_pred]\n",
    "    #     display(f\"Multimodal Predictor Accuracy score: {accuracy_score(y_test, y_pred)}\")\n",
    "    #     display(f\"Multimodal Predictor Recall score: {recall_score(y_test, y_pred, average='macro')}\")\n",
    "    #     display(f\"Multimodal Predictor F1 score: {f1_score(y_test, y_pred, average='macro')}\")\n",
    "    #     display(f\"Multimodal Predictor Precision score: {precision_score(y_test, y_pred, average='macro')}\")\n",
    "    #     display(f\"Multimodal Predictor MAE score: {mean_absolute_error(y_test, y_pred)}\")\n",
    "    #     display(f\"Multimodal Predictor MSE score: {mean_squared_error(y_test, y_pred)}\")\n",
    "    #     display(f\"Multimodal Predictor RMSE score: {root_mean_squared_error(y_test, y_pred)}\")\n",
    "        \n",
    "    get_conf_matrix(y_test, y_pred)\n",
    "    X_test['label'] = y_test\n",
    "    predictor.feature_importance(X_test)\n",
    "    return predictor"
   ],
   "metadata": {
    "collapsed": false,
    "ExecuteTime": {
     "end_time": "2024-06-26T23:07:31.462674800Z",
     "start_time": "2024-06-26T23:07:31.444649900Z"
    }
   },
   "id": "d37f4a282b5356a3"
  },
  {
   "cell_type": "code",
   "execution_count": 34,
   "outputs": [
    {
     "data": {
      "text/plain": "                                                  title  \\\n545   Educational gains of in‐person vs. distance le...   \n624   Emetine suppresses SARS-CoV-2 replication by i...   \n2739  Gynecological laparoscopic surgery in the shad...   \n2786  Infections on the move: how transient phases o...   \n394   A New Method of Differentiation Between a Biol...   \n...                                                 ...   \n2619  Impacts of SARS on health-seeking behaviors in...   \n2078  Exercise-induced immune system response: Anti-...   \n890   SOFIA(®)RSV: prospective laboratory evaluation...   \n2517  Rapid response in the COVID-19 pandemic: a Del...   \n802   Pulmonary embolism in patients with COVID-19: ...   \n\n                                               abstract  rigor  novelty  \\\n545   Using data from a computer‐based formative fee...    2.0      2.0   \n624   Emetine is a FDA-approved drug for the treatme...    2.0      2.0   \n2739  A global public health problem with a high rat...    1.0      0.0   \n2786  Animal movement impacts the spread of human an...    2.0      2.0   \n394   The main obstacle in identifying a biological ...    1.0      2.0   \n...                                                 ...    ...      ...   \n2619  BACKGROUND. The severe acute respiratory syndr...    1.0      2.0   \n2078  Abstract A wide array of molecular pathways ha...    1.0      2.0   \n890   BACKGROUND: Respiratory syncytial virus (RSV) ...    2.0      2.0   \n2517  BACKGROUND: COVID-19 was declared a global hea...    2.0      2.0   \n802   BACKGROUND: Pulmonary embolism (PE) has been d...    2.0      2.0   \n\n      grammar  replicability  accessibility  mathematics  computer_sciences  \\\n545         0              1            2.0          0.0                0.0   \n624         0              1            2.0          0.0                1.0   \n2739        0              0            1.0          0.0                1.0   \n2786        0              1            2.0          0.0                1.0   \n394         0              1            2.0          0.0                1.0   \n...       ...            ...            ...          ...                ...   \n2619        0              1            2.0          1.0                1.0   \n2078        0              1            2.0          0.0                1.0   \n890         0              1            2.0          0.0                0.0   \n2517        0              1            2.0          0.0                1.0   \n802         0              1            2.0          0.0                0.0   \n\n      physical_sciences  ...  focus_groups  interviews  mixed_methods  \\\n545                 0.0  ...             0           0              0   \n624                 1.0  ...             0           0              0   \n2739                0.0  ...             0           0              0   \n2786                0.0  ...             0           0              1   \n394                 0.0  ...             0           0              0   \n...                 ...  ...           ...         ...            ...   \n2619                1.0  ...             0           0              1   \n2078                1.0  ...             0           0              0   \n890                 0.0  ...             0           0              1   \n2517                0.0  ...             0           0              1   \n802                 0.0  ...             0           0              1   \n\n      observation  qualitative_research  quantitative_research  \\\n545             0                     0                      0   \n624             0                     0                      0   \n2739            0                     0                      0   \n2786            0                     1                      0   \n394             0                     0                      0   \n...           ...                   ...                    ...   \n2619            0                     1                      0   \n2078            0                     0                      0   \n890             0                     1                      1   \n2517            0                     1                      0   \n802             0                     1                      1   \n\n      questionnaires  secondary_research  survey_methodology  label  \n545                0                   0                   0      0  \n624                0                   0                   0      0  \n2739               0                   0                   0      1  \n2786               0                   0                   0      1  \n394                0                   0                   0      0  \n...              ...                 ...                 ...    ...  \n2619               0                   0                   1      1  \n2078               0                   0                   0      1  \n890                0                   0                   0      0  \n2517               0                   0                   0      1  \n802                0                   0                   0      0  \n\n[2398 rows x 65 columns]",
      "text/html": "<div>\n<style scoped>\n    .dataframe tbody tr th:only-of-type {\n        vertical-align: middle;\n    }\n\n    .dataframe tbody tr th {\n        vertical-align: top;\n    }\n\n    .dataframe thead th {\n        text-align: right;\n    }\n</style>\n<table border=\"1\" class=\"dataframe\">\n  <thead>\n    <tr style=\"text-align: right;\">\n      <th></th>\n      <th>title</th>\n      <th>abstract</th>\n      <th>rigor</th>\n      <th>novelty</th>\n      <th>grammar</th>\n      <th>replicability</th>\n      <th>accessibility</th>\n      <th>mathematics</th>\n      <th>computer_sciences</th>\n      <th>physical_sciences</th>\n      <th>...</th>\n      <th>focus_groups</th>\n      <th>interviews</th>\n      <th>mixed_methods</th>\n      <th>observation</th>\n      <th>qualitative_research</th>\n      <th>quantitative_research</th>\n      <th>questionnaires</th>\n      <th>secondary_research</th>\n      <th>survey_methodology</th>\n      <th>label</th>\n    </tr>\n  </thead>\n  <tbody>\n    <tr>\n      <th>545</th>\n      <td>Educational gains of in‐person vs. distance le...</td>\n      <td>Using data from a computer‐based formative fee...</td>\n      <td>2.0</td>\n      <td>2.0</td>\n      <td>0</td>\n      <td>1</td>\n      <td>2.0</td>\n      <td>0.0</td>\n      <td>0.0</td>\n      <td>0.0</td>\n      <td>...</td>\n      <td>0</td>\n      <td>0</td>\n      <td>0</td>\n      <td>0</td>\n      <td>0</td>\n      <td>0</td>\n      <td>0</td>\n      <td>0</td>\n      <td>0</td>\n      <td>0</td>\n    </tr>\n    <tr>\n      <th>624</th>\n      <td>Emetine suppresses SARS-CoV-2 replication by i...</td>\n      <td>Emetine is a FDA-approved drug for the treatme...</td>\n      <td>2.0</td>\n      <td>2.0</td>\n      <td>0</td>\n      <td>1</td>\n      <td>2.0</td>\n      <td>0.0</td>\n      <td>1.0</td>\n      <td>1.0</td>\n      <td>...</td>\n      <td>0</td>\n      <td>0</td>\n      <td>0</td>\n      <td>0</td>\n      <td>0</td>\n      <td>0</td>\n      <td>0</td>\n      <td>0</td>\n      <td>0</td>\n      <td>0</td>\n    </tr>\n    <tr>\n      <th>2739</th>\n      <td>Gynecological laparoscopic surgery in the shad...</td>\n      <td>A global public health problem with a high rat...</td>\n      <td>1.0</td>\n      <td>0.0</td>\n      <td>0</td>\n      <td>0</td>\n      <td>1.0</td>\n      <td>0.0</td>\n      <td>1.0</td>\n      <td>0.0</td>\n      <td>...</td>\n      <td>0</td>\n      <td>0</td>\n      <td>0</td>\n      <td>0</td>\n      <td>0</td>\n      <td>0</td>\n      <td>0</td>\n      <td>0</td>\n      <td>0</td>\n      <td>1</td>\n    </tr>\n    <tr>\n      <th>2786</th>\n      <td>Infections on the move: how transient phases o...</td>\n      <td>Animal movement impacts the spread of human an...</td>\n      <td>2.0</td>\n      <td>2.0</td>\n      <td>0</td>\n      <td>1</td>\n      <td>2.0</td>\n      <td>0.0</td>\n      <td>1.0</td>\n      <td>0.0</td>\n      <td>...</td>\n      <td>0</td>\n      <td>0</td>\n      <td>1</td>\n      <td>0</td>\n      <td>1</td>\n      <td>0</td>\n      <td>0</td>\n      <td>0</td>\n      <td>0</td>\n      <td>1</td>\n    </tr>\n    <tr>\n      <th>394</th>\n      <td>A New Method of Differentiation Between a Biol...</td>\n      <td>The main obstacle in identifying a biological ...</td>\n      <td>1.0</td>\n      <td>2.0</td>\n      <td>0</td>\n      <td>1</td>\n      <td>2.0</td>\n      <td>0.0</td>\n      <td>1.0</td>\n      <td>0.0</td>\n      <td>...</td>\n      <td>0</td>\n      <td>0</td>\n      <td>0</td>\n      <td>0</td>\n      <td>0</td>\n      <td>0</td>\n      <td>0</td>\n      <td>0</td>\n      <td>0</td>\n      <td>0</td>\n    </tr>\n    <tr>\n      <th>...</th>\n      <td>...</td>\n      <td>...</td>\n      <td>...</td>\n      <td>...</td>\n      <td>...</td>\n      <td>...</td>\n      <td>...</td>\n      <td>...</td>\n      <td>...</td>\n      <td>...</td>\n      <td>...</td>\n      <td>...</td>\n      <td>...</td>\n      <td>...</td>\n      <td>...</td>\n      <td>...</td>\n      <td>...</td>\n      <td>...</td>\n      <td>...</td>\n      <td>...</td>\n      <td>...</td>\n    </tr>\n    <tr>\n      <th>2619</th>\n      <td>Impacts of SARS on health-seeking behaviors in...</td>\n      <td>BACKGROUND. The severe acute respiratory syndr...</td>\n      <td>1.0</td>\n      <td>2.0</td>\n      <td>0</td>\n      <td>1</td>\n      <td>2.0</td>\n      <td>1.0</td>\n      <td>1.0</td>\n      <td>1.0</td>\n      <td>...</td>\n      <td>0</td>\n      <td>0</td>\n      <td>1</td>\n      <td>0</td>\n      <td>1</td>\n      <td>0</td>\n      <td>0</td>\n      <td>0</td>\n      <td>1</td>\n      <td>1</td>\n    </tr>\n    <tr>\n      <th>2078</th>\n      <td>Exercise-induced immune system response: Anti-...</td>\n      <td>Abstract A wide array of molecular pathways ha...</td>\n      <td>1.0</td>\n      <td>2.0</td>\n      <td>0</td>\n      <td>1</td>\n      <td>2.0</td>\n      <td>0.0</td>\n      <td>1.0</td>\n      <td>1.0</td>\n      <td>...</td>\n      <td>0</td>\n      <td>0</td>\n      <td>0</td>\n      <td>0</td>\n      <td>0</td>\n      <td>0</td>\n      <td>0</td>\n      <td>0</td>\n      <td>0</td>\n      <td>1</td>\n    </tr>\n    <tr>\n      <th>890</th>\n      <td>SOFIA(®)RSV: prospective laboratory evaluation...</td>\n      <td>BACKGROUND: Respiratory syncytial virus (RSV) ...</td>\n      <td>2.0</td>\n      <td>2.0</td>\n      <td>0</td>\n      <td>1</td>\n      <td>2.0</td>\n      <td>0.0</td>\n      <td>0.0</td>\n      <td>0.0</td>\n      <td>...</td>\n      <td>0</td>\n      <td>0</td>\n      <td>1</td>\n      <td>0</td>\n      <td>1</td>\n      <td>1</td>\n      <td>0</td>\n      <td>0</td>\n      <td>0</td>\n      <td>0</td>\n    </tr>\n    <tr>\n      <th>2517</th>\n      <td>Rapid response in the COVID-19 pandemic: a Del...</td>\n      <td>BACKGROUND: COVID-19 was declared a global hea...</td>\n      <td>2.0</td>\n      <td>2.0</td>\n      <td>0</td>\n      <td>1</td>\n      <td>2.0</td>\n      <td>0.0</td>\n      <td>1.0</td>\n      <td>0.0</td>\n      <td>...</td>\n      <td>0</td>\n      <td>0</td>\n      <td>1</td>\n      <td>0</td>\n      <td>1</td>\n      <td>0</td>\n      <td>0</td>\n      <td>0</td>\n      <td>0</td>\n      <td>1</td>\n    </tr>\n    <tr>\n      <th>802</th>\n      <td>Pulmonary embolism in patients with COVID-19: ...</td>\n      <td>BACKGROUND: Pulmonary embolism (PE) has been d...</td>\n      <td>2.0</td>\n      <td>2.0</td>\n      <td>0</td>\n      <td>1</td>\n      <td>2.0</td>\n      <td>0.0</td>\n      <td>0.0</td>\n      <td>0.0</td>\n      <td>...</td>\n      <td>0</td>\n      <td>0</td>\n      <td>1</td>\n      <td>0</td>\n      <td>1</td>\n      <td>1</td>\n      <td>0</td>\n      <td>0</td>\n      <td>0</td>\n      <td>0</td>\n    </tr>\n  </tbody>\n</table>\n<p>2398 rows × 65 columns</p>\n</div>"
     },
     "execution_count": 34,
     "metadata": {},
     "output_type": "execute_result"
    }
   ],
   "source": [
    "X_train_c19"
   ],
   "metadata": {
    "collapsed": false,
    "ExecuteTime": {
     "end_time": "2024-06-20T14:42:54.719424700Z",
     "start_time": "2024-06-20T14:42:54.680893600Z"
    }
   },
   "id": "f5bb2f5860fa17b1"
  },
  {
   "cell_type": "markdown",
   "source": [
    "### Run CORD-19 Multimodal model\n",
    "abstract text + title text + generated features"
   ],
   "metadata": {
    "collapsed": false
   },
   "id": "30a1ef07452e9a79"
  },
  {
   "cell_type": "code",
   "execution_count": 37,
   "outputs": [
    {
     "name": "stderr",
     "output_type": "stream",
     "text": [
      "No path specified. Models will be saved in: \"AutogluonModels\\ag-20240620_144309\"\n",
      "No presets specified! To achieve strong results with AutoGluon, it is recommended to use the available presets.\n",
      "\tRecommended Presets (For more details refer to https://auto.gluon.ai/stable/tutorials/tabular/tabular-essentials.html#presets):\n",
      "\tpresets='best_quality'   : Maximize accuracy. Default time_limit=3600.\n",
      "\tpresets='high_quality'   : Strong accuracy with fast inference speed. Default time_limit=3600.\n",
      "\tpresets='good_quality'   : Good accuracy with very fast inference speed. Default time_limit=3600.\n",
      "\tpresets='medium_quality' : Fast training time, ideal for initial prototyping.\n",
      "Beginning AutoGluon training ...\n",
      "AutoGluon will save models to \"AutogluonModels\\ag-20240620_144309\"\n",
      "=================== System Info ===================\n",
      "AutoGluon Version:  1.0.0\n",
      "Python Version:     3.10.14\n",
      "Operating System:   Windows\n",
      "Platform Machine:   AMD64\n",
      "Platform Version:   10.0.22631\n",
      "CPU Count:          16\n",
      "Memory Avail:       15.46 GB / 31.92 GB (48.4%)\n",
      "Disk Space Avail:   201.87 GB / 930.81 GB (21.7%)\n",
      "===================================================\n",
      "Train Data Rows:    2398\n",
      "Train Data Columns: 64\n",
      "Label Column:       label\n",
      "AutoGluon infers your prediction problem is: 'binary' (because only two unique label-values observed).\n",
      "\t2 unique label values:  [0, 1]\n",
      "\tIf 'binary' is not the correct problem_type, please manually specify the problem_type parameter during predictor init (You may specify problem_type as one of: ['binary', 'multiclass', 'regression'])\n",
      "Problem Type:       binary\n",
      "Preprocessing data ...\n",
      "Selected class <--> label mapping:  class 1 = 1, class 0 = 0\n",
      "Using Feature Generators to preprocess the data ...\n",
      "Fitting AutoMLPipelineFeatureGenerator...\n",
      "\tAvailable Memory:                    15838.90 MB\n",
      "\tTrain Data (Original)  Memory Usage: 6.43 MB (0.0% of available memory)\n",
      "\tInferring data type of each feature based on column values. Set feature_metadata_in to manually specify special dtypes of the features.\n",
      "\tStage 1 Generators:\n",
      "\t\tFitting AsTypeFeatureGenerator...\n",
      "\t\t\tNote: Converting 60 features to boolean dtype as they only contain 2 unique values.\n",
      "\tStage 2 Generators:\n",
      "\t\tFitting FillNaFeatureGenerator...\n",
      "\tStage 3 Generators:\n",
      "\t\tFitting IdentityFeatureGenerator...\n",
      "\t\tFitting IdentityFeatureGenerator...\n",
      "\t\t\tFitting RenameFeatureGenerator...\n",
      "\t\tFitting CategoryFeatureGenerator...\n",
      "\t\t\tFitting CategoryMemoryMinimizeFeatureGenerator...\n",
      "\t\tFitting TextSpecialFeatureGenerator...\n",
      "\t\t\tFitting BinnedFeatureGenerator...\n",
      "\t\t\tFitting DropDuplicatesFeatureGenerator...\n",
      "\t\tFitting TextNgramFeatureGenerator...\n",
      "\t\t\tFitting CountVectorizer for text features: ['title', 'abstract']\n",
      "\t\t\tCountVectorizer fit with vocabulary size = 3008\n",
      "\tStage 4 Generators:\n",
      "\t\tFitting DropUniqueFeatureGenerator...\n",
      "\tStage 5 Generators:\n",
      "\t\tFitting DropDuplicatesFeatureGenerator...\n",
      "\tTypes of features in original data (raw dtype, special dtypes):\n",
      "\t\t('float', [])        : 44 | ['rigor', 'novelty', 'accessibility', 'mathematics', 'computer_sciences', ...]\n",
      "\t\t('int', [])          : 18 | ['grammar', 'replicability', 'applied_research', 'conclusive_research', 'correlational_research', ...]\n",
      "\t\t('object', ['text']) :  2 | ['title', 'abstract']\n",
      "\tTypes of features in processed data (raw dtype, special dtypes):\n",
      "\t\t('category', ['text_as_category'])  :    1 | ['title']\n",
      "\t\t('float', [])                       :    2 | ['rigor', 'novelty']\n",
      "\t\t('int', ['binned', 'text_special']) :   40 | ['title.char_count', 'title.word_count', 'title.capital_ratio', 'title.lower_ratio', 'title.digit_ratio', ...]\n",
      "\t\t('int', ['bool'])                   :   60 | ['grammar', 'replicability', 'accessibility', 'mathematics', 'computer_sciences', ...]\n",
      "\t\t('int', ['text_ngram'])             : 2957 | ['__nlp__.000', '__nlp__.001', '__nlp__.01', '__nlp__.02', '__nlp__.020', ...]\n",
      "\t\t('object', ['text'])                :    2 | ['title_raw_text', 'abstract_raw_text']\n",
      "\t16.3s = Fit runtime\n",
      "\t64 features in original data used to generate 3062 features in processed data.\n",
      "\tTrain Data (Processed) Memory Usage: 20.90 MB (0.1% of available memory)\n",
      "Data preprocessing and feature engineering runtime = 16.56s ...\n",
      "AutoGluon will gauge predictive performance using evaluation metric: 'accuracy'\n",
      "\tTo change this, specify the eval_metric parameter of Predictor()\n",
      "Automatically generating train/validation split with holdout_frac=0.2, Train Rows: 1918, Val Rows: 480\n",
      "User-specified model hyperparameters to be fit:\n",
      "{\n",
      "\t'NN_TORCH': {},\n",
      "\t'GBM': [{}, {'extra_trees': True, 'ag_args': {'name_suffix': 'XT'}}, 'GBMLarge'],\n",
      "\t'CAT': {},\n",
      "\t'XGB': {},\n",
      "\t'AG_AUTOMM': {},\n",
      "\t'VW': {},\n",
      "}\n",
      "Fitting 8 L1 models ...\n",
      "Fitting model: LightGBM ...\n",
      "\t0.7125\t = Validation score   (accuracy)\n",
      "\t2.22s\t = Training   runtime\n",
      "\t0.03s\t = Validation runtime\n",
      "Fitting model: LightGBMXT ...\n",
      "\t0.6896\t = Validation score   (accuracy)\n",
      "\t2.03s\t = Training   runtime\n",
      "\t0.03s\t = Validation runtime\n",
      "Fitting model: CatBoost ...\n",
      "\t0.7063\t = Validation score   (accuracy)\n",
      "\t29.14s\t = Training   runtime\n",
      "\t0.1s\t = Validation runtime\n",
      "Fitting model: XGBoost ...\n",
      "\t0.6896\t = Validation score   (accuracy)\n",
      "\t3.96s\t = Training   runtime\n",
      "\t0.03s\t = Validation runtime\n",
      "Fitting model: NeuralNetTorch ...\n",
      "\n",
      "The format of the columns of the 'remainder' transformer in ColumnTransformer.transformers_ will change in version 1.7 to match the format of the other transformers.\n",
      "At the moment the remainder columns are stored as indices (of type int). With the same ColumnTransformer configuration, in the future they will be stored as column names (of type str).\n",
      "To use the new behavior now and suppress this warning, use ColumnTransformer(force_int_remainder_cols=False).\n",
      "\n",
      "\t0.6438\t = Validation score   (accuracy)\n",
      "\t2.64s\t = Training   runtime\n",
      "\t0.02s\t = Validation runtime\n",
      "Fitting model: VowpalWabbit ...\n",
      "\tWarning: Exception caused VowpalWabbit to fail during training (ImportError)... Skipping this model.\n",
      "\t\t`import vowpalwabbit` failed.\n",
      "A quick tip is to install via `pip install vowpalwabbit>=9,<9.9\n",
      "Fitting model: LightGBMLarge ...\n",
      "\t0.7083\t = Validation score   (accuracy)\n",
      "\t4.98s\t = Training   runtime\n",
      "\t0.03s\t = Validation runtime\n",
      "Fitting model: MultiModalPredictor ...\n",
      "Global seed set to 0\n",
      "`resume_download` is deprecated and will be removed in version 1.0.0. Downloads always resume when possible. If you want to force a new download, use `force_download=True`.\n",
      "Using 16bit Automatic Mixed Precision (AMP)\n",
      "GPU available: True (cuda), used: True\n",
      "TPU available: False, using: 0 TPU cores\n",
      "IPU available: False, using: 0 IPUs\n",
      "HPU available: False, using: 0 HPUs\n",
      "LOCAL_RANK: 0 - CUDA_VISIBLE_DEVICES: [0]\n",
      "\n",
      "  | Name              | Type                | Params\n",
      "----------------------------------------------------------\n",
      "0 | model             | MultimodalFusionMLP | 110 M \n",
      "1 | validation_metric | MulticlassAccuracy  | 0     \n",
      "2 | loss_func         | CrossEntropyLoss    | 0     \n",
      "----------------------------------------------------------\n",
      "110 M     Trainable params\n",
      "0         Non-trainable params\n",
      "110 M     Total params\n",
      "442.696   Total estimated model params size (MB)\n",
      "Epoch 0, global step 7: 'val_accuracy' reached 0.50417 (best 0.50417), saving model to 'C:\\\\Users\\\\vojta\\\\OneDrive\\\\Skola\\\\bachelor-thesis\\\\AutogluonModels\\\\ag-20240620_144309\\\\models\\\\MultiModalPredictor\\\\automm_model\\\\epoch=0-step=7.ckpt' as top 3\n",
      "Epoch 0, global step 15: 'val_accuracy' reached 0.49375 (best 0.50417), saving model to 'C:\\\\Users\\\\vojta\\\\OneDrive\\\\Skola\\\\bachelor-thesis\\\\AutogluonModels\\\\ag-20240620_144309\\\\models\\\\MultiModalPredictor\\\\automm_model\\\\epoch=0-step=15.ckpt' as top 3\n",
      "Epoch 1, global step 22: 'val_accuracy' reached 0.49792 (best 0.50417), saving model to 'C:\\\\Users\\\\vojta\\\\OneDrive\\\\Skola\\\\bachelor-thesis\\\\AutogluonModels\\\\ag-20240620_144309\\\\models\\\\MultiModalPredictor\\\\automm_model\\\\epoch=1-step=22.ckpt' as top 3\n",
      "Epoch 1, global step 30: 'val_accuracy' reached 0.60625 (best 0.60625), saving model to 'C:\\\\Users\\\\vojta\\\\OneDrive\\\\Skola\\\\bachelor-thesis\\\\AutogluonModels\\\\ag-20240620_144309\\\\models\\\\MultiModalPredictor\\\\automm_model\\\\epoch=1-step=30.ckpt' as top 3\n",
      "Epoch 2, global step 37: 'val_accuracy' reached 0.63333 (best 0.63333), saving model to 'C:\\\\Users\\\\vojta\\\\OneDrive\\\\Skola\\\\bachelor-thesis\\\\AutogluonModels\\\\ag-20240620_144309\\\\models\\\\MultiModalPredictor\\\\automm_model\\\\epoch=2-step=37.ckpt' as top 3\n",
      "Epoch 2, global step 45: 'val_accuracy' reached 0.65833 (best 0.65833), saving model to 'C:\\\\Users\\\\vojta\\\\OneDrive\\\\Skola\\\\bachelor-thesis\\\\AutogluonModels\\\\ag-20240620_144309\\\\models\\\\MultiModalPredictor\\\\automm_model\\\\epoch=2-step=45.ckpt' as top 3\n",
      "Epoch 3, global step 52: 'val_accuracy' reached 0.64792 (best 0.65833), saving model to 'C:\\\\Users\\\\vojta\\\\OneDrive\\\\Skola\\\\bachelor-thesis\\\\AutogluonModels\\\\ag-20240620_144309\\\\models\\\\MultiModalPredictor\\\\automm_model\\\\epoch=3-step=52.ckpt' as top 3\n",
      "Epoch 3, global step 60: 'val_accuracy' reached 0.67708 (best 0.67708), saving model to 'C:\\\\Users\\\\vojta\\\\OneDrive\\\\Skola\\\\bachelor-thesis\\\\AutogluonModels\\\\ag-20240620_144309\\\\models\\\\MultiModalPredictor\\\\automm_model\\\\epoch=3-step=60.ckpt' as top 3\n",
      "Epoch 4, global step 67: 'val_accuracy' reached 0.67500 (best 0.67708), saving model to 'C:\\\\Users\\\\vojta\\\\OneDrive\\\\Skola\\\\bachelor-thesis\\\\AutogluonModels\\\\ag-20240620_144309\\\\models\\\\MultiModalPredictor\\\\automm_model\\\\epoch=4-step=67.ckpt' as top 3\n",
      "Epoch 4, global step 75: 'val_accuracy' was not in top 3\n",
      "Epoch 5, global step 82: 'val_accuracy' reached 0.66667 (best 0.67708), saving model to 'C:\\\\Users\\\\vojta\\\\OneDrive\\\\Skola\\\\bachelor-thesis\\\\AutogluonModels\\\\ag-20240620_144309\\\\models\\\\MultiModalPredictor\\\\automm_model\\\\epoch=5-step=82.ckpt' as top 3\n",
      "Epoch 5, global step 90: 'val_accuracy' reached 0.66875 (best 0.67708), saving model to 'C:\\\\Users\\\\vojta\\\\OneDrive\\\\Skola\\\\bachelor-thesis\\\\AutogluonModels\\\\ag-20240620_144309\\\\models\\\\MultiModalPredictor\\\\automm_model\\\\epoch=5-step=90.ckpt' as top 3\n",
      "Epoch 6, global step 97: 'val_accuracy' was not in top 3\n",
      "Epoch 6, global step 105: 'val_accuracy' was not in top 3\n",
      "Epoch 7, global step 112: 'val_accuracy' was not in top 3\n",
      "Epoch 7, global step 120: 'val_accuracy' reached 0.67917 (best 0.67917), saving model to 'C:\\\\Users\\\\vojta\\\\OneDrive\\\\Skola\\\\bachelor-thesis\\\\AutogluonModels\\\\ag-20240620_144309\\\\models\\\\MultiModalPredictor\\\\automm_model\\\\epoch=7-step=120.ckpt' as top 3\n",
      "Epoch 8, global step 127: 'val_accuracy' was not in top 3\n",
      "Epoch 8, global step 135: 'val_accuracy' was not in top 3\n",
      "Epoch 9, global step 142: 'val_accuracy' was not in top 3\n",
      "Epoch 9, global step 150: 'val_accuracy' was not in top 3\n",
      "`Trainer.fit` stopped: `max_epochs=10` reached.\n",
      "\t0.6792\t = Validation score   (accuracy)\n",
      "\t638.42s\t = Training   runtime\n",
      "\t21.51s\t = Validation runtime\n",
      "Fitting model: WeightedEnsemble_L2 ...\n",
      "\tEnsemble Weights: {'CatBoost': 0.321, 'NeuralNetTorch': 0.245, 'LightGBM': 0.226, 'LightGBMLarge': 0.151, 'XGBoost': 0.038, 'LightGBMXT': 0.019}\n",
      "\t0.7438\t = Validation score   (accuracy)\n",
      "\t0.31s\t = Training   runtime\n",
      "\t0.0s\t = Validation runtime\n",
      "AutoGluon training complete, total runtime = 723.62s ... Best model: \"WeightedEnsemble_L2\"\n",
      "TabularPredictor saved. To load, use: predictor = TabularPredictor.load(\"AutogluonModels\\ag-20240620_144309\")\n"
     ]
    },
    {
     "data": {
      "text/plain": "'Task: Classification'"
     },
     "metadata": {},
     "output_type": "display_data"
    },
    {
     "data": {
      "text/plain": "'Multimodal Predictor Accuracy score: 0.665'"
     },
     "metadata": {},
     "output_type": "display_data"
    },
    {
     "data": {
      "text/plain": "'Multimodal Predictor Recall score: 0.6679950061865323'"
     },
     "metadata": {},
     "output_type": "display_data"
    },
    {
     "data": {
      "text/plain": "'Multimodal Predictor F1 score: 0.6649246080368083'"
     },
     "metadata": {},
     "output_type": "display_data"
    },
    {
     "data": {
      "text/plain": "'Multimodal Predictor Precision score: 0.6687228516412163'"
     },
     "metadata": {},
     "output_type": "display_data"
    },
    {
     "data": {
      "text/plain": "'Multimodal Predictor MAE score: 0.335'"
     },
     "metadata": {},
     "output_type": "display_data"
    },
    {
     "data": {
      "text/plain": "'Multimodal Predictor MSE score: 0.335'"
     },
     "metadata": {},
     "output_type": "display_data"
    },
    {
     "data": {
      "text/plain": "'Multimodal Predictor RMSE score: 0.5787918451395113'"
     },
     "metadata": {},
     "output_type": "display_data"
    },
    {
     "name": "stderr",
     "output_type": "stream",
     "text": [
      "Computing feature importance via permutation shuffling for 64 features using 600 rows with 5 shuffle sets...\n",
      "\t229.96s\t= Expected runtime (45.99s per shuffle set)\n",
      "\n",
      "KeyboardInterrupt\n",
      "\n"
     ]
    },
    {
     "data": {
      "text/plain": "<Figure size 640x480 with 2 Axes>",
      "image/png": "[encoded data removed]"
     },
     "metadata": {},
     "output_type": "display_data"
    }
   ],
   "source": [
    "train_multimodal(X_train_c19, X_test_c19, y_test_c19)"
   ],
   "metadata": {
    "collapsed": false,
    "ExecuteTime": {
     "end_time": "2024-06-20T14:56:16.599294900Z",
     "start_time": "2024-06-20T14:43:09.137962200Z"
    }
   },
   "id": "b6353c5f64f39f42"
  },
  {
   "cell_type": "code",
   "execution_count": 19,
   "outputs": [
    {
     "name": "stderr",
     "output_type": "stream",
     "text": [
      "No path specified. Models will be saved in: \"AutogluonModels\\ag-20240616_201629\"\n",
      "No presets specified! To achieve strong results with AutoGluon, it is recommended to use the available presets.\n",
      "\tRecommended Presets (For more details refer to https://auto.gluon.ai/stable/tutorials/tabular/tabular-essentials.html#presets):\n",
      "\tpresets='best_quality'   : Maximize accuracy. Default time_limit=3600.\n",
      "\tpresets='high_quality'   : Strong accuracy with fast inference speed. Default time_limit=3600.\n",
      "\tpresets='good_quality'   : Good accuracy with very fast inference speed. Default time_limit=3600.\n",
      "\tpresets='medium_quality' : Fast training time, ideal for initial prototyping.\n",
      "Beginning AutoGluon training ...\n",
      "AutoGluon will save models to \"AutogluonModels\\ag-20240616_201629\"\n",
      "=================== System Info ===================\n",
      "AutoGluon Version:  1.0.0\n",
      "Python Version:     3.10.14\n",
      "Operating System:   Windows\n",
      "Platform Machine:   AMD64\n",
      "Platform Version:   10.0.22631\n",
      "CPU Count:          16\n",
      "Memory Avail:       12.34 GB / 31.92 GB (38.7%)\n",
      "Disk Space Avail:   203.85 GB / 930.81 GB (21.9%)\n",
      "===================================================\n",
      "Train Data Rows:    2398\n",
      "Train Data Columns: 1\n",
      "Label Column:       label\n",
      "Problem Type:       binary\n",
      "Preprocessing data ...\n",
      "Selected class <--> label mapping:  class 1 = 1, class 0 = 0\n",
      "Using Feature Generators to preprocess the data ...\n",
      "Fitting AutoMLPipelineFeatureGenerator...\n",
      "\tAvailable Memory:                    12644.83 MB\n",
      "\tTrain Data (Original)  Memory Usage: 6.68 MB (0.1% of available memory)\n",
      "\tInferring data type of each feature based on column values. Set feature_metadata_in to manually specify special dtypes of the features.\n",
      "\tStage 1 Generators:\n",
      "\t\tFitting AsTypeFeatureGenerator...\n",
      "\tStage 2 Generators:\n",
      "\t\tFitting FillNaFeatureGenerator...\n",
      "\tStage 3 Generators:\n",
      "\t\tFitting IdentityFeatureGenerator...\n",
      "\t\t\tFitting RenameFeatureGenerator...\n",
      "\t\tFitting CategoryFeatureGenerator...\n",
      "\t\t\tFitting CategoryMemoryMinimizeFeatureGenerator...\n",
      "\t\tFitting TextSpecialFeatureGenerator...\n",
      "\t\t\tFitting BinnedFeatureGenerator...\n",
      "\t\t\tFitting DropDuplicatesFeatureGenerator...\n",
      "\t\tFitting TextNgramFeatureGenerator...\n",
      "\t\t\tFitting CountVectorizer for text features: ['abstract']\n",
      "\t\t\tCountVectorizer fit with vocabulary size = 2900\n",
      "\t\tWarning: Due to memory constraints, ngram feature count is being reduced. Allocate more memory to maximize model quality.\n",
      "\t\tReducing Vectorizer vocab size from 2900 to 2299 to avoid OOM error\n",
      "\tStage 4 Generators:\n",
      "\t\tFitting DropUniqueFeatureGenerator...\n",
      "\tStage 5 Generators:\n",
      "\t\tFitting DropDuplicatesFeatureGenerator...\n",
      "\tTypes of features in original data (raw dtype, special dtypes):\n",
      "\t\t('object', ['text']) : 1 | ['abstract']\n",
      "\tTypes of features in processed data (raw dtype, special dtypes):\n",
      "\t\t('category', ['text_as_category'])  :    1 | ['abstract']\n",
      "\t\t('int', ['binned', 'text_special']) :   23 | ['abstract.char_count', 'abstract.word_count', 'abstract.capital_ratio', 'abstract.lower_ratio', 'abstract.digit_ratio', ...]\n",
      "\t\t('int', ['text_ngram'])             : 2264 | ['__nlp__.000', '__nlp__.001', '__nlp__.01', '__nlp__.02', '__nlp__.05', ...]\n",
      "\t\t('object', ['text'])                :    1 | ['abstract_raw_text']\n",
      "\t13.3s = Fit runtime\n",
      "\t1 features in original data used to generate 2289 features in processed data.\n",
      "\tTrain Data (Processed) Memory Usage: 17.09 MB (0.1% of available memory)\n",
      "Data preprocessing and feature engineering runtime = 13.44s ...\n",
      "AutoGluon will gauge predictive performance using evaluation metric: 'accuracy'\n",
      "\tTo change this, specify the eval_metric parameter of Predictor()\n",
      "Automatically generating train/validation split with holdout_frac=0.2, Train Rows: 1918, Val Rows: 480\n",
      "User-specified model hyperparameters to be fit:\n",
      "{\n",
      "\t'NN_TORCH': {},\n",
      "\t'GBM': [{}, {'extra_trees': True, 'ag_args': {'name_suffix': 'XT'}}, 'GBMLarge'],\n",
      "\t'CAT': {},\n",
      "\t'XGB': {},\n",
      "\t'AG_AUTOMM': {},\n",
      "\t'VW': {},\n",
      "}\n",
      "Fitting 8 L1 models ...\n",
      "Fitting model: LightGBM ...\n",
      "\t0.6667\t = Validation score   (accuracy)\n",
      "\t2.05s\t = Training   runtime\n",
      "\t0.03s\t = Validation runtime\n",
      "Fitting model: LightGBMXT ...\n",
      "\t0.6667\t = Validation score   (accuracy)\n",
      "\t1.66s\t = Training   runtime\n",
      "\t0.03s\t = Validation runtime\n",
      "Fitting model: CatBoost ...\n",
      "\t0.6667\t = Validation score   (accuracy)\n",
      "\t15.45s\t = Training   runtime\n",
      "\t0.08s\t = Validation runtime\n",
      "Fitting model: XGBoost ...\n",
      "\t0.6521\t = Validation score   (accuracy)\n",
      "\t3.33s\t = Training   runtime\n",
      "\t0.02s\t = Validation runtime\n",
      "Fitting model: NeuralNetTorch ...\n",
      "\t0.5625\t = Validation score   (accuracy)\n",
      "\t3.06s\t = Training   runtime\n",
      "\t0.02s\t = Validation runtime\n",
      "Fitting model: VowpalWabbit ...\n",
      "\tWarning: Exception caused VowpalWabbit to fail during training (ImportError)... Skipping this model.\n",
      "\t\t`import vowpalwabbit` failed.\n",
      "A quick tip is to install via `pip install vowpalwabbit>=9,<9.9\n",
      "Fitting model: LightGBMLarge ...\n",
      "\t0.6604\t = Validation score   (accuracy)\n",
      "\t4.38s\t = Training   runtime\n",
      "\t0.03s\t = Validation runtime\n",
      "Fitting model: MultiModalPredictor ...\n",
      "Global seed set to 0\n",
      "`resume_download` is deprecated and will be removed in version 1.0.0. Downloads always resume when possible. If you want to force a new download, use `force_download=True`.\n",
      "Using 16bit Automatic Mixed Precision (AMP)\n",
      "GPU available: True (cuda), used: True\n",
      "TPU available: False, using: 0 TPU cores\n",
      "IPU available: False, using: 0 IPUs\n",
      "HPU available: False, using: 0 HPUs\n",
      "LOCAL_RANK: 0 - CUDA_VISIBLE_DEVICES: [0]\n",
      "\n",
      "  | Name              | Type                         | Params\n",
      "-------------------------------------------------------------------\n",
      "0 | model             | HFAutoModelForTextPrediction | 108 M \n",
      "1 | validation_metric | MulticlassAccuracy           | 0     \n",
      "2 | loss_func         | CrossEntropyLoss             | 0     \n",
      "-------------------------------------------------------------------\n",
      "108 M     Trainable params\n",
      "0         Non-trainable params\n",
      "108 M     Total params\n",
      "435.573   Total estimated model params size (MB)\n",
      "Epoch 0, global step 7: 'val_accuracy' reached 0.57708 (best 0.57708), saving model to 'C:\\\\Users\\\\vojta\\\\OneDrive\\\\Skola\\\\bachelor-thesis\\\\AutogluonModels\\\\ag-20240616_201629\\\\models\\\\MultiModalPredictor\\\\automm_model\\\\epoch=0-step=7.ckpt' as top 3\n",
      "Epoch 0, global step 15: 'val_accuracy' reached 0.63750 (best 0.63750), saving model to 'C:\\\\Users\\\\vojta\\\\OneDrive\\\\Skola\\\\bachelor-thesis\\\\AutogluonModels\\\\ag-20240616_201629\\\\models\\\\MultiModalPredictor\\\\automm_model\\\\epoch=0-step=15.ckpt' as top 3\n",
      "Epoch 1, global step 22: 'val_accuracy' reached 0.61667 (best 0.63750), saving model to 'C:\\\\Users\\\\vojta\\\\OneDrive\\\\Skola\\\\bachelor-thesis\\\\AutogluonModels\\\\ag-20240616_201629\\\\models\\\\MultiModalPredictor\\\\automm_model\\\\epoch=1-step=22.ckpt' as top 3\n",
      "Epoch 1, global step 30: 'val_accuracy' reached 0.62292 (best 0.63750), saving model to 'C:\\\\Users\\\\vojta\\\\OneDrive\\\\Skola\\\\bachelor-thesis\\\\AutogluonModels\\\\ag-20240616_201629\\\\models\\\\MultiModalPredictor\\\\automm_model\\\\epoch=1-step=30.ckpt' as top 3\n",
      "Epoch 2, global step 37: 'val_accuracy' reached 0.65208 (best 0.65208), saving model to 'C:\\\\Users\\\\vojta\\\\OneDrive\\\\Skola\\\\bachelor-thesis\\\\AutogluonModels\\\\ag-20240616_201629\\\\models\\\\MultiModalPredictor\\\\automm_model\\\\epoch=2-step=37.ckpt' as top 3\n",
      "Epoch 2, global step 45: 'val_accuracy' was not in top 3\n",
      "Epoch 3, global step 52: 'val_accuracy' reached 0.66458 (best 0.66458), saving model to 'C:\\\\Users\\\\vojta\\\\OneDrive\\\\Skola\\\\bachelor-thesis\\\\AutogluonModels\\\\ag-20240616_201629\\\\models\\\\MultiModalPredictor\\\\automm_model\\\\epoch=3-step=52.ckpt' as top 3\n",
      "Epoch 3, global step 60: 'val_accuracy' was not in top 3\n",
      "Epoch 4, global step 67: 'val_accuracy' was not in top 3\n",
      "Epoch 4, global step 75: 'val_accuracy' was not in top 3\n",
      "Epoch 5, global step 82: 'val_accuracy' reached 0.63958 (best 0.66458), saving model to 'C:\\\\Users\\\\vojta\\\\OneDrive\\\\Skola\\\\bachelor-thesis\\\\AutogluonModels\\\\ag-20240616_201629\\\\models\\\\MultiModalPredictor\\\\automm_model\\\\epoch=5-step=82.ckpt' as top 3\n",
      "Epoch 5, global step 90: 'val_accuracy' reached 0.65208 (best 0.66458), saving model to 'C:\\\\Users\\\\vojta\\\\OneDrive\\\\Skola\\\\bachelor-thesis\\\\AutogluonModels\\\\ag-20240616_201629\\\\models\\\\MultiModalPredictor\\\\automm_model\\\\epoch=5-step=90.ckpt' as top 3\n",
      "Epoch 6, global step 97: 'val_accuracy' reached 0.65417 (best 0.66458), saving model to 'C:\\\\Users\\\\vojta\\\\OneDrive\\\\Skola\\\\bachelor-thesis\\\\AutogluonModels\\\\ag-20240616_201629\\\\models\\\\MultiModalPredictor\\\\automm_model\\\\epoch=6-step=97.ckpt' as top 3\n",
      "Epoch 6, global step 105: 'val_accuracy' reached 0.65417 (best 0.66458), saving model to 'C:\\\\Users\\\\vojta\\\\OneDrive\\\\Skola\\\\bachelor-thesis\\\\AutogluonModels\\\\ag-20240616_201629\\\\models\\\\MultiModalPredictor\\\\automm_model\\\\epoch=6-step=105.ckpt' as top 3\n",
      "Epoch 7, global step 112: 'val_accuracy' reached 0.65833 (best 0.66458), saving model to 'C:\\\\Users\\\\vojta\\\\OneDrive\\\\Skola\\\\bachelor-thesis\\\\AutogluonModels\\\\ag-20240616_201629\\\\models\\\\MultiModalPredictor\\\\automm_model\\\\epoch=7-step=112.ckpt' as top 3\n",
      "Epoch 7, global step 120: 'val_accuracy' was not in top 3\n",
      "Epoch 8, global step 127: 'val_accuracy' was not in top 3\n",
      "\t0.6667\t = Validation score   (accuracy)\n",
      "\t514.95s\t = Training   runtime\n",
      "\t23.7s\t = Validation runtime\n",
      "Fitting model: WeightedEnsemble_L2 ...\n",
      "\tEnsemble Weights: {'MultiModalPredictor': 0.4, 'LightGBM': 0.2, 'CatBoost': 0.2, 'LightGBMLarge': 0.2}\n",
      "\t0.7083\t = Validation score   (accuracy)\n",
      "\t0.31s\t = Training   runtime\n",
      "\t0.0s\t = Validation runtime\n",
      "AutoGluon training complete, total runtime = 583.71s ... Best model: \"WeightedEnsemble_L2\"\n",
      "TabularPredictor saved. To load, use: predictor = TabularPredictor.load(\"AutogluonModels\\ag-20240616_201629\")\n",
      "Load pretrained checkpoint: C:\\Users\\vojta\\OneDrive\\Skola\\bachelor-thesis\\AutogluonModels\\ag-20240616_201629\\models\\MultiModalPredictor\\automm_model\\model.ckpt\n"
     ]
    },
    {
     "data": {
      "text/plain": "Predicting: 0it [00:00, ?it/s]",
      "application/vnd.jupyter.widget-view+json": {
       "version_major": 2,
       "version_minor": 0,
       "model_id": "ad409a641922421aa2c86af565d94922"
      }
     },
     "metadata": {},
     "output_type": "display_data"
    },
    {
     "data": {
      "text/plain": "'Task: Regression'"
     },
     "metadata": {},
     "output_type": "display_data"
    },
    {
     "ename": "ValueError",
     "evalue": "Found input variables with inconsistent numbers of samples: [600, 2398]",
     "output_type": "error",
     "traceback": [
      "\u001B[1;31m---------------------------------------------------------------------------\u001B[0m",
      "\u001B[1;31mValueError\u001B[0m                                Traceback (most recent call last)",
      "Cell \u001B[1;32mIn[19], line 1\u001B[0m\n\u001B[1;32m----> 1\u001B[0m \u001B[43mtrain_multimodal\u001B[49m\u001B[43m(\u001B[49m\u001B[43mX_train_c19\u001B[49m\u001B[43m[\u001B[49m\u001B[43m[\u001B[49m\u001B[38;5;124;43m'\u001B[39;49m\u001B[38;5;124;43mabstract\u001B[39;49m\u001B[38;5;124;43m'\u001B[39;49m\u001B[43m,\u001B[49m\u001B[43m \u001B[49m\u001B[38;5;124;43m'\u001B[39;49m\u001B[38;5;124;43mlabel\u001B[39;49m\u001B[38;5;124;43m'\u001B[39;49m\u001B[43m]\u001B[49m\u001B[43m]\u001B[49m\u001B[43m,\u001B[49m\u001B[43m \u001B[49m\u001B[43mpd\u001B[49m\u001B[38;5;241;43m.\u001B[39;49m\u001B[43mDataFrame\u001B[49m\u001B[43m(\u001B[49m\u001B[43mX_train_c19\u001B[49m\u001B[43m[\u001B[49m\u001B[38;5;124;43m'\u001B[39;49m\u001B[38;5;124;43mabstract\u001B[39;49m\u001B[38;5;124;43m'\u001B[39;49m\u001B[43m]\u001B[49m\u001B[43m)\u001B[49m\u001B[43m,\u001B[49m\u001B[43m \u001B[49m\u001B[43my_test_c19\u001B[49m\u001B[43m,\u001B[49m\u001B[43m \u001B[49m\u001B[38;5;124;43m'\u001B[39;49m\u001B[38;5;124;43mbinary\u001B[39;49m\u001B[38;5;124;43m'\u001B[39;49m\u001B[43m)\u001B[49m\n",
      "Cell \u001B[1;32mIn[7], line 17\u001B[0m, in \u001B[0;36mtrain_multimodal\u001B[1;34m(X_train, X_test, y_test, task)\u001B[0m\n\u001B[0;32m     15\u001B[0m \u001B[38;5;28;01melse\u001B[39;00m:\n\u001B[0;32m     16\u001B[0m     display(\u001B[38;5;124m\"\u001B[39m\u001B[38;5;124mTask: Regression\u001B[39m\u001B[38;5;124m\"\u001B[39m)\n\u001B[1;32m---> 17\u001B[0m     display(\u001B[38;5;124mf\u001B[39m\u001B[38;5;124m\"\u001B[39m\u001B[38;5;124mMultimodal Predictor MAE score before roudning: \u001B[39m\u001B[38;5;132;01m{\u001B[39;00mmean_absolute_error(y_test,\u001B[38;5;250m \u001B[39my_pred)\u001B[38;5;132;01m}\u001B[39;00m\u001B[38;5;124m\"\u001B[39m)\n\u001B[0;32m     18\u001B[0m     y_pred \u001B[38;5;241m=\u001B[39m [\u001B[38;5;28mround\u001B[39m(val) \u001B[38;5;28;01mfor\u001B[39;00m val \u001B[38;5;129;01min\u001B[39;00m y_pred]\n\u001B[0;32m     19\u001B[0m     display(\u001B[38;5;124mf\u001B[39m\u001B[38;5;124m\"\u001B[39m\u001B[38;5;124mMultimodal Predictor Accuracy score: \u001B[39m\u001B[38;5;132;01m{\u001B[39;00maccuracy_score(y_test,\u001B[38;5;250m \u001B[39my_pred)\u001B[38;5;132;01m}\u001B[39;00m\u001B[38;5;124m\"\u001B[39m)\n",
      "File \u001B[1;32m~\\Python\\anaconda3\\envs\\ag\\lib\\site-packages\\sklearn\\utils\\_param_validation.py:213\u001B[0m, in \u001B[0;36mvalidate_params.<locals>.decorator.<locals>.wrapper\u001B[1;34m(*args, **kwargs)\u001B[0m\n\u001B[0;32m    207\u001B[0m \u001B[38;5;28;01mtry\u001B[39;00m:\n\u001B[0;32m    208\u001B[0m     \u001B[38;5;28;01mwith\u001B[39;00m config_context(\n\u001B[0;32m    209\u001B[0m         skip_parameter_validation\u001B[38;5;241m=\u001B[39m(\n\u001B[0;32m    210\u001B[0m             prefer_skip_nested_validation \u001B[38;5;129;01mor\u001B[39;00m global_skip_validation\n\u001B[0;32m    211\u001B[0m         )\n\u001B[0;32m    212\u001B[0m     ):\n\u001B[1;32m--> 213\u001B[0m         \u001B[38;5;28;01mreturn\u001B[39;00m func(\u001B[38;5;241m*\u001B[39margs, \u001B[38;5;241m*\u001B[39m\u001B[38;5;241m*\u001B[39mkwargs)\n\u001B[0;32m    214\u001B[0m \u001B[38;5;28;01mexcept\u001B[39;00m InvalidParameterError \u001B[38;5;28;01mas\u001B[39;00m e:\n\u001B[0;32m    215\u001B[0m     \u001B[38;5;66;03m# When the function is just a wrapper around an estimator, we allow\u001B[39;00m\n\u001B[0;32m    216\u001B[0m     \u001B[38;5;66;03m# the function to delegate validation to the estimator, but we replace\u001B[39;00m\n\u001B[0;32m    217\u001B[0m     \u001B[38;5;66;03m# the name of the estimator by the name of the function in the error\u001B[39;00m\n\u001B[0;32m    218\u001B[0m     \u001B[38;5;66;03m# message to avoid confusion.\u001B[39;00m\n\u001B[0;32m    219\u001B[0m     msg \u001B[38;5;241m=\u001B[39m re\u001B[38;5;241m.\u001B[39msub(\n\u001B[0;32m    220\u001B[0m         \u001B[38;5;124mr\u001B[39m\u001B[38;5;124m\"\u001B[39m\u001B[38;5;124mparameter of \u001B[39m\u001B[38;5;124m\\\u001B[39m\u001B[38;5;124mw+ must be\u001B[39m\u001B[38;5;124m\"\u001B[39m,\n\u001B[0;32m    221\u001B[0m         \u001B[38;5;124mf\u001B[39m\u001B[38;5;124m\"\u001B[39m\u001B[38;5;124mparameter of \u001B[39m\u001B[38;5;132;01m{\u001B[39;00mfunc\u001B[38;5;241m.\u001B[39m\u001B[38;5;18m__qualname__\u001B[39m\u001B[38;5;132;01m}\u001B[39;00m\u001B[38;5;124m must be\u001B[39m\u001B[38;5;124m\"\u001B[39m,\n\u001B[0;32m    222\u001B[0m         \u001B[38;5;28mstr\u001B[39m(e),\n\u001B[0;32m    223\u001B[0m     )\n",
      "File \u001B[1;32m~\\Python\\anaconda3\\envs\\ag\\lib\\site-packages\\sklearn\\metrics\\_regression.py:216\u001B[0m, in \u001B[0;36mmean_absolute_error\u001B[1;34m(y_true, y_pred, sample_weight, multioutput)\u001B[0m\n\u001B[0;32m    152\u001B[0m \u001B[38;5;129m@validate_params\u001B[39m(\n\u001B[0;32m    153\u001B[0m     {\n\u001B[0;32m    154\u001B[0m         \u001B[38;5;124m\"\u001B[39m\u001B[38;5;124my_true\u001B[39m\u001B[38;5;124m\"\u001B[39m: [\u001B[38;5;124m\"\u001B[39m\u001B[38;5;124marray-like\u001B[39m\u001B[38;5;124m\"\u001B[39m],\n\u001B[1;32m   (...)\u001B[0m\n\u001B[0;32m    162\u001B[0m     y_true, y_pred, \u001B[38;5;241m*\u001B[39m, sample_weight\u001B[38;5;241m=\u001B[39m\u001B[38;5;28;01mNone\u001B[39;00m, multioutput\u001B[38;5;241m=\u001B[39m\u001B[38;5;124m\"\u001B[39m\u001B[38;5;124muniform_average\u001B[39m\u001B[38;5;124m\"\u001B[39m\n\u001B[0;32m    163\u001B[0m ):\n\u001B[0;32m    164\u001B[0m \u001B[38;5;250m    \u001B[39m\u001B[38;5;124;03m\"\"\"Mean absolute error regression loss.\u001B[39;00m\n\u001B[0;32m    165\u001B[0m \n\u001B[0;32m    166\u001B[0m \u001B[38;5;124;03m    Read more in the :ref:`User Guide <mean_absolute_error>`.\u001B[39;00m\n\u001B[1;32m   (...)\u001B[0m\n\u001B[0;32m    214\u001B[0m \u001B[38;5;124;03m    0.85...\u001B[39;00m\n\u001B[0;32m    215\u001B[0m \u001B[38;5;124;03m    \"\"\"\u001B[39;00m\n\u001B[1;32m--> 216\u001B[0m     y_type, y_true, y_pred, multioutput \u001B[38;5;241m=\u001B[39m \u001B[43m_check_reg_targets\u001B[49m\u001B[43m(\u001B[49m\n\u001B[0;32m    217\u001B[0m \u001B[43m        \u001B[49m\u001B[43my_true\u001B[49m\u001B[43m,\u001B[49m\u001B[43m \u001B[49m\u001B[43my_pred\u001B[49m\u001B[43m,\u001B[49m\u001B[43m \u001B[49m\u001B[43mmultioutput\u001B[49m\n\u001B[0;32m    218\u001B[0m \u001B[43m    \u001B[49m\u001B[43m)\u001B[49m\n\u001B[0;32m    219\u001B[0m     check_consistent_length(y_true, y_pred, sample_weight)\n\u001B[0;32m    220\u001B[0m     output_errors \u001B[38;5;241m=\u001B[39m np\u001B[38;5;241m.\u001B[39maverage(np\u001B[38;5;241m.\u001B[39mabs(y_pred \u001B[38;5;241m-\u001B[39m y_true), weights\u001B[38;5;241m=\u001B[39msample_weight, axis\u001B[38;5;241m=\u001B[39m\u001B[38;5;241m0\u001B[39m)\n",
      "File \u001B[1;32m~\\Python\\anaconda3\\envs\\ag\\lib\\site-packages\\sklearn\\metrics\\_regression.py:111\u001B[0m, in \u001B[0;36m_check_reg_targets\u001B[1;34m(y_true, y_pred, multioutput, dtype, xp)\u001B[0m\n\u001B[0;32m     76\u001B[0m \u001B[38;5;250m\u001B[39m\u001B[38;5;124;03m\"\"\"Check that y_true and y_pred belong to the same regression task.\u001B[39;00m\n\u001B[0;32m     77\u001B[0m \n\u001B[0;32m     78\u001B[0m \u001B[38;5;124;03mParameters\u001B[39;00m\n\u001B[1;32m   (...)\u001B[0m\n\u001B[0;32m    107\u001B[0m \u001B[38;5;124;03m    correct keyword.\u001B[39;00m\n\u001B[0;32m    108\u001B[0m \u001B[38;5;124;03m\"\"\"\u001B[39;00m\n\u001B[0;32m    109\u001B[0m xp, _ \u001B[38;5;241m=\u001B[39m get_namespace(y_true, y_pred, multioutput, xp\u001B[38;5;241m=\u001B[39mxp)\n\u001B[1;32m--> 111\u001B[0m \u001B[43mcheck_consistent_length\u001B[49m\u001B[43m(\u001B[49m\u001B[43my_true\u001B[49m\u001B[43m,\u001B[49m\u001B[43m \u001B[49m\u001B[43my_pred\u001B[49m\u001B[43m)\u001B[49m\n\u001B[0;32m    112\u001B[0m y_true \u001B[38;5;241m=\u001B[39m check_array(y_true, ensure_2d\u001B[38;5;241m=\u001B[39m\u001B[38;5;28;01mFalse\u001B[39;00m, dtype\u001B[38;5;241m=\u001B[39mdtype)\n\u001B[0;32m    113\u001B[0m y_pred \u001B[38;5;241m=\u001B[39m check_array(y_pred, ensure_2d\u001B[38;5;241m=\u001B[39m\u001B[38;5;28;01mFalse\u001B[39;00m, dtype\u001B[38;5;241m=\u001B[39mdtype)\n",
      "File \u001B[1;32m~\\Python\\anaconda3\\envs\\ag\\lib\\site-packages\\sklearn\\utils\\validation.py:460\u001B[0m, in \u001B[0;36mcheck_consistent_length\u001B[1;34m(*arrays)\u001B[0m\n\u001B[0;32m    458\u001B[0m uniques \u001B[38;5;241m=\u001B[39m np\u001B[38;5;241m.\u001B[39munique(lengths)\n\u001B[0;32m    459\u001B[0m \u001B[38;5;28;01mif\u001B[39;00m \u001B[38;5;28mlen\u001B[39m(uniques) \u001B[38;5;241m>\u001B[39m \u001B[38;5;241m1\u001B[39m:\n\u001B[1;32m--> 460\u001B[0m     \u001B[38;5;28;01mraise\u001B[39;00m \u001B[38;5;167;01mValueError\u001B[39;00m(\n\u001B[0;32m    461\u001B[0m         \u001B[38;5;124m\"\u001B[39m\u001B[38;5;124mFound input variables with inconsistent numbers of samples: \u001B[39m\u001B[38;5;132;01m%r\u001B[39;00m\u001B[38;5;124m\"\u001B[39m\n\u001B[0;32m    462\u001B[0m         \u001B[38;5;241m%\u001B[39m [\u001B[38;5;28mint\u001B[39m(l) \u001B[38;5;28;01mfor\u001B[39;00m l \u001B[38;5;129;01min\u001B[39;00m lengths]\n\u001B[0;32m    463\u001B[0m     )\n",
      "\u001B[1;31mValueError\u001B[0m: Found input variables with inconsistent numbers of samples: [600, 2398]"
     ]
    }
   ],
   "source": [
    "train_multimodal(X_train_c19[['abstract', 'label']], pd.DataFrame(X_train_c19['abstract']), y_test_c19, 'binary')"
   ],
   "metadata": {
    "collapsed": false,
    "ExecuteTime": {
     "end_time": "2024-06-16T20:26:50.082655600Z",
     "start_time": "2024-06-16T20:16:29.278285100Z"
    }
   },
   "id": "20195e02f9dc533f"
  },
  {
   "cell_type": "code",
   "execution_count": 20,
   "outputs": [
    {
     "name": "stderr",
     "output_type": "stream",
     "text": [
      "Load pretrained checkpoint: C:\\Users\\vojta\\OneDrive\\Skola\\bachelor-thesis\\AutogluonModels\\ag-20240616_201629\\models\\MultiModalPredictor\\automm_model\\model.ckpt\n"
     ]
    },
    {
     "data": {
      "text/plain": "Predicting: 0it [00:00, ?it/s]",
      "application/vnd.jupyter.widget-view+json": {
       "version_major": 2,
       "version_minor": 0,
       "model_id": "50dd2ed37e5d47609758fa0b6b05822a"
      }
     },
     "metadata": {},
     "output_type": "display_data"
    },
    {
     "data": {
      "text/plain": "'Task: Classification'"
     },
     "metadata": {},
     "output_type": "display_data"
    },
    {
     "data": {
      "text/plain": "'Multimodal Predictor Accuracy score: 0.63'"
     },
     "metadata": {},
     "output_type": "display_data"
    },
    {
     "data": {
      "text/plain": "'Multimodal Predictor Recall score: 0.6360089621116698'"
     },
     "metadata": {},
     "output_type": "display_data"
    },
    {
     "data": {
      "text/plain": "'Multimodal Predictor F1 score: 0.628178072555522'"
     },
     "metadata": {},
     "output_type": "display_data"
    },
    {
     "data": {
      "text/plain": "'Multimodal Predictor Precision score: 0.6410268264774212'"
     },
     "metadata": {},
     "output_type": "display_data"
    },
    {
     "data": {
      "text/plain": "'Multimodal Predictor MAE score: 0.37'"
     },
     "metadata": {},
     "output_type": "display_data"
    },
    {
     "data": {
      "text/plain": "'Multimodal Predictor MSE score: 0.37'"
     },
     "metadata": {},
     "output_type": "display_data"
    },
    {
     "data": {
      "text/plain": "'Multimodal Predictor RMSE score: 0.6082762530298219'"
     },
     "metadata": {},
     "output_type": "display_data"
    }
   ],
   "source": [
    "predictor = TabularPredictor.load(\"AutogluonModels/ag-20240616_201629\")\n",
    "y_pred = predictor.predict(X_test_c19)\n",
    "y_test = y_test_c19\n",
    "display(\"Task: Classification\")\n",
    "display(f\"Multimodal Predictor Accuracy score: {accuracy_score(y_test, y_pred)}\")\n",
    "display(f\"Multimodal Predictor Recall score: {recall_score(y_test, y_pred, average='macro')}\")\n",
    "display(f\"Multimodal Predictor F1 score: {f1_score(y_test, y_pred, average='macro')}\")\n",
    "display(f\"Multimodal Predictor Precision score: {precision_score(y_test, y_pred, average='macro')}\")\n",
    "display(f\"Multimodal Predictor MAE score: {mean_absolute_error(y_test, y_pred)}\")\n",
    "display(f\"Multimodal Predictor MSE score: {mean_squared_error(y_test, y_pred)}\")\n",
    "display(f\"Multimodal Predictor RMSE score: {root_mean_squared_error(y_test, y_pred)}\")"
   ],
   "metadata": {
    "collapsed": false,
    "ExecuteTime": {
     "end_time": "2024-06-16T20:28:55.492867Z",
     "start_time": "2024-06-16T20:28:31.162006700Z"
    }
   },
   "id": "97e7dfce6013e614"
  },
  {
   "cell_type": "code",
   "execution_count": 10,
   "outputs": [
    {
     "name": "stderr",
     "output_type": "stream",
     "text": [
      "No path specified. Models will be saved in: \"AutogluonModels\\ag-20240616_170325\"\n",
      "No presets specified! To achieve strong results with AutoGluon, it is recommended to use the available presets.\n",
      "\tRecommended Presets (For more details refer to https://auto.gluon.ai/stable/tutorials/tabular/tabular-essentials.html#presets):\n",
      "\tpresets='best_quality'   : Maximize accuracy. Default time_limit=3600.\n",
      "\tpresets='high_quality'   : Strong accuracy with fast inference speed. Default time_limit=3600.\n",
      "\tpresets='good_quality'   : Good accuracy with very fast inference speed. Default time_limit=3600.\n",
      "\tpresets='medium_quality' : Fast training time, ideal for initial prototyping.\n",
      "Beginning AutoGluon training ...\n",
      "AutoGluon will save models to \"AutogluonModels\\ag-20240616_170325\"\n",
      "=================== System Info ===================\n",
      "AutoGluon Version:  1.0.0\n",
      "Python Version:     3.10.14\n",
      "Operating System:   Windows\n",
      "Platform Machine:   AMD64\n",
      "Platform Version:   10.0.22631\n",
      "CPU Count:          16\n",
      "Memory Avail:       14.73 GB / 31.92 GB (46.1%)\n",
      "Disk Space Avail:   206.01 GB / 930.81 GB (22.1%)\n",
      "===================================================\n",
      "Train Data Rows:    2398\n",
      "Train Data Columns: 64\n",
      "Label Column:       label\n",
      "Problem Type:       regression\n",
      "Preprocessing data ...\n",
      "Using Feature Generators to preprocess the data ...\n",
      "Fitting AutoMLPipelineFeatureGenerator...\n",
      "\tAvailable Memory:                    15089.11 MB\n",
      "\tTrain Data (Original)  Memory Usage: 8.24 MB (0.1% of available memory)\n",
      "\tInferring data type of each feature based on column values. Set feature_metadata_in to manually specify special dtypes of the features.\n",
      "\tStage 1 Generators:\n",
      "\t\tFitting AsTypeFeatureGenerator...\n",
      "\t\t\tNote: Converting 60 features to boolean dtype as they only contain 2 unique values.\n",
      "\tStage 2 Generators:\n",
      "\t\tFitting FillNaFeatureGenerator...\n",
      "\tStage 3 Generators:\n",
      "\t\tFitting IdentityFeatureGenerator...\n",
      "\t\tFitting IdentityFeatureGenerator...\n",
      "\t\t\tFitting RenameFeatureGenerator...\n",
      "\t\tFitting CategoryFeatureGenerator...\n",
      "\t\t\tFitting CategoryMemoryMinimizeFeatureGenerator...\n",
      "\t\tFitting TextSpecialFeatureGenerator...\n",
      "\t\t\tFitting BinnedFeatureGenerator...\n",
      "\t\t\tFitting DropDuplicatesFeatureGenerator...\n",
      "\t\tFitting TextNgramFeatureGenerator...\n",
      "\t\t\tFitting CountVectorizer for text features: ['title', 'abstract']\n",
      "\t\t\tCountVectorizer fit with vocabulary size = 3008\n",
      "\tStage 4 Generators:\n",
      "\t\tFitting DropUniqueFeatureGenerator...\n",
      "\tStage 5 Generators:\n",
      "\t\tFitting DropDuplicatesFeatureGenerator...\n",
      "\tTypes of features in original data (raw dtype, special dtypes):\n",
      "\t\t('float', [])        : 44 | ['rigor', 'novelty', 'accessibility', 'mathematics', 'computer_sciences', ...]\n",
      "\t\t('int', [])          : 18 | ['grammar', 'replicability', 'applied_research', 'conclusive_research', 'correlational_research', ...]\n",
      "\t\t('object', ['text']) :  2 | ['title', 'abstract']\n",
      "\tTypes of features in processed data (raw dtype, special dtypes):\n",
      "\t\t('category', ['text_as_category'])  :    1 | ['title']\n",
      "\t\t('float', [])                       :    2 | ['rigor', 'novelty']\n",
      "\t\t('int', ['binned', 'text_special']) :   40 | ['title.char_count', 'title.word_count', 'title.capital_ratio', 'title.lower_ratio', 'title.digit_ratio', ...]\n",
      "\t\t('int', ['bool'])                   :   60 | ['grammar', 'replicability', 'accessibility', 'mathematics', 'computer_sciences', ...]\n",
      "\t\t('int', ['text_ngram'])             : 2957 | ['__nlp__.000', '__nlp__.001', '__nlp__.01', '__nlp__.02', '__nlp__.020', ...]\n",
      "\t\t('object', ['text'])                :    2 | ['title_raw_text', 'abstract_raw_text']\n",
      "\t16.8s = Fit runtime\n",
      "\t64 features in original data used to generate 3062 features in processed data.\n",
      "\tTrain Data (Processed) Memory Usage: 20.90 MB (0.1% of available memory)\n",
      "Data preprocessing and feature engineering runtime = 16.99s ...\n",
      "AutoGluon will gauge predictive performance using evaluation metric: 'root_mean_squared_error'\n",
      "\tThis metric's sign has been flipped to adhere to being higher_is_better. The metric score can be multiplied by -1 to get the metric value.\n",
      "\tTo change this, specify the eval_metric parameter of Predictor()\n",
      "Automatically generating train/validation split with holdout_frac=0.2, Train Rows: 1918, Val Rows: 480\n",
      "User-specified model hyperparameters to be fit:\n",
      "{\n",
      "\t'NN_TORCH': {},\n",
      "\t'GBM': [{}, {'extra_trees': True, 'ag_args': {'name_suffix': 'XT'}}, 'GBMLarge'],\n",
      "\t'CAT': {},\n",
      "\t'XGB': {},\n",
      "\t'AG_AUTOMM': {},\n",
      "\t'VW': {},\n",
      "}\n",
      "Fitting 8 L1 models ...\n",
      "Fitting model: LightGBM ...\n",
      "\t-0.4685\t = Validation score   (-root_mean_squared_error)\n",
      "\t2.54s\t = Training   runtime\n",
      "\t0.03s\t = Validation runtime\n",
      "Fitting model: LightGBMXT ...\n",
      "\t-0.4683\t = Validation score   (-root_mean_squared_error)\n",
      "\t2.13s\t = Training   runtime\n",
      "\t0.04s\t = Validation runtime\n",
      "Fitting model: CatBoost ...\n",
      "\t-0.4622\t = Validation score   (-root_mean_squared_error)\n",
      "\t26.9s\t = Training   runtime\n",
      "\t0.12s\t = Validation runtime\n",
      "Fitting model: XGBoost ...\n",
      "\t-0.4777\t = Validation score   (-root_mean_squared_error)\n",
      "\t4.05s\t = Training   runtime\n",
      "\t0.03s\t = Validation runtime\n",
      "Fitting model: NeuralNetTorch ...\n",
      "\n",
      "The format of the columns of the 'remainder' transformer in ColumnTransformer.transformers_ will change in version 1.7 to match the format of the other transformers.\n",
      "At the moment the remainder columns are stored as indices (of type int). With the same ColumnTransformer configuration, in the future they will be stored as column names (of type str).\n",
      "To use the new behavior now and suppress this warning, use ColumnTransformer(force_int_remainder_cols=False).\n",
      "\n",
      "\t-0.4999\t = Validation score   (-root_mean_squared_error)\n",
      "\t1.78s\t = Training   runtime\n",
      "\t0.01s\t = Validation runtime\n",
      "Fitting model: VowpalWabbit ...\n",
      "\tWarning: Exception caused VowpalWabbit to fail during training (ImportError)... Skipping this model.\n",
      "\t\t`import vowpalwabbit` failed.\n",
      "A quick tip is to install via `pip install vowpalwabbit>=9,<9.9\n",
      "Fitting model: LightGBMLarge ...\n",
      "\t-0.4664\t = Validation score   (-root_mean_squared_error)\n",
      "\t5.46s\t = Training   runtime\n",
      "\t0.03s\t = Validation runtime\n",
      "Fitting model: MultiModalPredictor ...\n",
      "Global seed set to 0\n",
      "`resume_download` is deprecated and will be removed in version 1.0.0. Downloads always resume when possible. If you want to force a new download, use `force_download=True`.\n",
      "Using 16bit Automatic Mixed Precision (AMP)\n",
      "GPU available: True (cuda), used: True\n",
      "TPU available: False, using: 0 TPU cores\n",
      "IPU available: False, using: 0 IPUs\n",
      "HPU available: False, using: 0 HPUs\n",
      "LOCAL_RANK: 0 - CUDA_VISIBLE_DEVICES: [0]\n",
      "\n",
      "  | Name              | Type                | Params\n",
      "----------------------------------------------------------\n",
      "0 | model             | MultimodalFusionMLP | 110 M \n",
      "1 | validation_metric | MeanSquaredError    | 0     \n",
      "2 | loss_func         | MSELoss             | 0     \n",
      "----------------------------------------------------------\n",
      "110 M     Trainable params\n",
      "0         Non-trainable params\n",
      "110 M     Total params\n",
      "442.692   Total estimated model params size (MB)\n",
      "Epoch 0, global step 7: 'val_root_mean_squared_error' reached 1.07134 (best 1.07134), saving model to 'C:\\\\Users\\\\vojta\\\\OneDrive\\\\Skola\\\\bachelor-thesis\\\\AutogluonModels\\\\ag-20240616_170325\\\\models\\\\MultiModalPredictor\\\\automm_model\\\\epoch=0-step=7.ckpt' as top 3\n",
      "Epoch 0, global step 15: 'val_root_mean_squared_error' reached 1.09144 (best 1.07134), saving model to 'C:\\\\Users\\\\vojta\\\\OneDrive\\\\Skola\\\\bachelor-thesis\\\\AutogluonModels\\\\ag-20240616_170325\\\\models\\\\MultiModalPredictor\\\\automm_model\\\\epoch=0-step=15.ckpt' as top 3\n",
      "Epoch 1, global step 22: 'val_root_mean_squared_error' reached 1.00862 (best 1.00862), saving model to 'C:\\\\Users\\\\vojta\\\\OneDrive\\\\Skola\\\\bachelor-thesis\\\\AutogluonModels\\\\ag-20240616_170325\\\\models\\\\MultiModalPredictor\\\\automm_model\\\\epoch=1-step=22.ckpt' as top 3\n",
      "Epoch 1, global step 30: 'val_root_mean_squared_error' reached 1.03221 (best 1.00862), saving model to 'C:\\\\Users\\\\vojta\\\\OneDrive\\\\Skola\\\\bachelor-thesis\\\\AutogluonModels\\\\ag-20240616_170325\\\\models\\\\MultiModalPredictor\\\\automm_model\\\\epoch=1-step=30.ckpt' as top 3\n",
      "Epoch 2, global step 37: 'val_root_mean_squared_error' reached 0.96836 (best 0.96836), saving model to 'C:\\\\Users\\\\vojta\\\\OneDrive\\\\Skola\\\\bachelor-thesis\\\\AutogluonModels\\\\ag-20240616_170325\\\\models\\\\MultiModalPredictor\\\\automm_model\\\\epoch=2-step=37.ckpt' as top 3\n",
      "Epoch 2, global step 45: 'val_root_mean_squared_error' reached 0.96330 (best 0.96330), saving model to 'C:\\\\Users\\\\vojta\\\\OneDrive\\\\Skola\\\\bachelor-thesis\\\\AutogluonModels\\\\ag-20240616_170325\\\\models\\\\MultiModalPredictor\\\\automm_model\\\\epoch=2-step=45.ckpt' as top 3\n",
      "Epoch 3, global step 52: 'val_root_mean_squared_error' reached 0.96157 (best 0.96157), saving model to 'C:\\\\Users\\\\vojta\\\\OneDrive\\\\Skola\\\\bachelor-thesis\\\\AutogluonModels\\\\ag-20240616_170325\\\\models\\\\MultiModalPredictor\\\\automm_model\\\\epoch=3-step=52.ckpt' as top 3\n",
      "Epoch 3, global step 60: 'val_root_mean_squared_error' reached 0.95350 (best 0.95350), saving model to 'C:\\\\Users\\\\vojta\\\\OneDrive\\\\Skola\\\\bachelor-thesis\\\\AutogluonModels\\\\ag-20240616_170325\\\\models\\\\MultiModalPredictor\\\\automm_model\\\\epoch=3-step=60.ckpt' as top 3\n",
      "Epoch 4, global step 67: 'val_root_mean_squared_error' reached 0.94087 (best 0.94087), saving model to 'C:\\\\Users\\\\vojta\\\\OneDrive\\\\Skola\\\\bachelor-thesis\\\\AutogluonModels\\\\ag-20240616_170325\\\\models\\\\MultiModalPredictor\\\\automm_model\\\\epoch=4-step=67.ckpt' as top 3\n",
      "Epoch 4, global step 75: 'val_root_mean_squared_error' reached 0.91682 (best 0.91682), saving model to 'C:\\\\Users\\\\vojta\\\\OneDrive\\\\Skola\\\\bachelor-thesis\\\\AutogluonModels\\\\ag-20240616_170325\\\\models\\\\MultiModalPredictor\\\\automm_model\\\\epoch=4-step=75.ckpt' as top 3\n",
      "Epoch 5, global step 82: 'val_root_mean_squared_error' reached 0.94692 (best 0.91682), saving model to 'C:\\\\Users\\\\vojta\\\\OneDrive\\\\Skola\\\\bachelor-thesis\\\\AutogluonModels\\\\ag-20240616_170325\\\\models\\\\MultiModalPredictor\\\\automm_model\\\\epoch=5-step=82.ckpt' as top 3\n",
      "Epoch 5, global step 90: 'val_root_mean_squared_error' was not in top 3\n",
      "Epoch 6, global step 97: 'val_root_mean_squared_error' reached 0.92912 (best 0.91682), saving model to 'C:\\\\Users\\\\vojta\\\\OneDrive\\\\Skola\\\\bachelor-thesis\\\\AutogluonModels\\\\ag-20240616_170325\\\\models\\\\MultiModalPredictor\\\\automm_model\\\\epoch=6-step=97.ckpt' as top 3\n",
      "Epoch 6, global step 105: 'val_root_mean_squared_error' was not in top 3\n",
      "Epoch 7, global step 112: 'val_root_mean_squared_error' was not in top 3\n",
      "Epoch 7, global step 120: 'val_root_mean_squared_error' was not in top 3\n",
      "Epoch 8, global step 127: 'val_root_mean_squared_error' was not in top 3\n",
      "Epoch 8, global step 135: 'val_root_mean_squared_error' was not in top 3\n",
      "Epoch 9, global step 142: 'val_root_mean_squared_error' was not in top 3\n",
      "Epoch 9, global step 150: 'val_root_mean_squared_error' was not in top 3\n",
      "`Trainer.fit` stopped: `max_epochs=10` reached.\n",
      "\t-0.4703\t = Validation score   (-root_mean_squared_error)\n",
      "\t638.86s\t = Training   runtime\n",
      "\t22.45s\t = Validation runtime\n",
      "Fitting model: WeightedEnsemble_L2 ...\n",
      "\tEnsemble Weights: {'CatBoost': 0.343, 'MultiModalPredictor': 0.314, 'LightGBMLarge': 0.286, 'LightGBM': 0.057}\n",
      "\t-0.4571\t = Validation score   (-root_mean_squared_error)\n",
      "\t0.12s\t = Training   runtime\n",
      "\t0.0s\t = Validation runtime\n",
      "AutoGluon training complete, total runtime = 723.11s ... Best model: \"WeightedEnsemble_L2\"\n",
      "TabularPredictor saved. To load, use: predictor = TabularPredictor.load(\"AutogluonModels\\ag-20240616_170325\")\n",
      "Load pretrained checkpoint: C:\\Users\\vojta\\OneDrive\\Skola\\bachelor-thesis\\AutogluonModels\\ag-20240616_170325\\models\\MultiModalPredictor\\automm_model\\model.ckpt\n"
     ]
    },
    {
     "data": {
      "text/plain": "Predicting: 0it [00:00, ?it/s]",
      "application/vnd.jupyter.widget-view+json": {
       "version_major": 2,
       "version_minor": 0,
       "model_id": "45fb0e4bc48b4229b2a558ff4fec7cdf"
      }
     },
     "metadata": {},
     "output_type": "display_data"
    },
    {
     "data": {
      "text/plain": "'Task: Regression'"
     },
     "metadata": {},
     "output_type": "display_data"
    },
    {
     "data": {
      "text/plain": "'Multimodal Predictor MAE score before roudning: 0.43731759549429017'"
     },
     "metadata": {},
     "output_type": "display_data"
    },
    {
     "data": {
      "text/plain": "'Multimodal Predictor Accuracy score: 0.645'"
     },
     "metadata": {},
     "output_type": "display_data"
    },
    {
     "data": {
      "text/plain": "'Multimodal Predictor Recall score: 0.6507730378660366'"
     },
     "metadata": {},
     "output_type": "display_data"
    },
    {
     "data": {
      "text/plain": "'Multimodal Predictor F1 score: 0.64349376114082'"
     },
     "metadata": {},
     "output_type": "display_data"
    },
    {
     "data": {
      "text/plain": "'Multimodal Predictor Precision score: 0.6557146804199668'"
     },
     "metadata": {},
     "output_type": "display_data"
    },
    {
     "data": {
      "text/plain": "'Multimodal Predictor MAE score: 0.355'"
     },
     "metadata": {},
     "output_type": "display_data"
    },
    {
     "data": {
      "text/plain": "'Multimodal Predictor MSE score: 0.355'"
     },
     "metadata": {},
     "output_type": "display_data"
    },
    {
     "data": {
      "text/plain": "'Multimodal Predictor RMSE score: 0.5958187643906492'"
     },
     "metadata": {},
     "output_type": "display_data"
    },
    {
     "data": {
      "text/plain": "None"
     },
     "metadata": {},
     "output_type": "display_data"
    },
    {
     "data": {
      "text/plain": "<autogluon.tabular.predictor.predictor.TabularPredictor at 0x196c939b250>"
     },
     "execution_count": 10,
     "metadata": {},
     "output_type": "execute_result"
    },
    {
     "data": {
      "text/plain": "<Figure size 640x480 with 2 Axes>",
      "image/png": "[encoded data removed]"
     },
     "metadata": {},
     "output_type": "display_data"
    }
   ],
   "source": [
    "train_multimodal(X_train_c19, X_test_c19, y_test_c19, 'regression')"
   ],
   "metadata": {
    "collapsed": false,
    "ExecuteTime": {
     "end_time": "2024-06-16T17:15:53.434714800Z",
     "start_time": "2024-06-16T17:03:25.761293800Z"
    }
   },
   "id": "722bcbafead41f36"
  },
  {
   "cell_type": "code",
   "execution_count": 18,
   "outputs": [
    {
     "name": "stderr",
     "output_type": "stream",
     "text": [
      "No path specified. Models will be saved in: \"AutogluonModels\\ag-20240616_200553\"\n",
      "No presets specified! To achieve strong results with AutoGluon, it is recommended to use the available presets.\n",
      "\tRecommended Presets (For more details refer to https://auto.gluon.ai/stable/tutorials/tabular/tabular-essentials.html#presets):\n",
      "\tpresets='best_quality'   : Maximize accuracy. Default time_limit=3600.\n",
      "\tpresets='high_quality'   : Strong accuracy with fast inference speed. Default time_limit=3600.\n",
      "\tpresets='good_quality'   : Good accuracy with very fast inference speed. Default time_limit=3600.\n",
      "\tpresets='medium_quality' : Fast training time, ideal for initial prototyping.\n",
      "Beginning AutoGluon training ...\n",
      "AutoGluon will save models to \"AutogluonModels\\ag-20240616_200553\"\n",
      "=================== System Info ===================\n",
      "AutoGluon Version:  1.0.0\n",
      "Python Version:     3.10.14\n",
      "Operating System:   Windows\n",
      "Platform Machine:   AMD64\n",
      "Platform Version:   10.0.22631\n",
      "CPU Count:          16\n",
      "Memory Avail:       12.67 GB / 31.92 GB (39.7%)\n",
      "Disk Space Avail:   204.28 GB / 930.81 GB (21.9%)\n",
      "===================================================\n",
      "Train Data Rows:    1600\n",
      "Train Data Columns: 1\n",
      "Label Column:       label\n",
      "Problem Type:       multiclass\n",
      "Preprocessing data ...\n",
      "Train Data Class Count: 5\n",
      "Using Feature Generators to preprocess the data ...\n",
      "Fitting AutoMLPipelineFeatureGenerator...\n",
      "\tAvailable Memory:                    12998.55 MB\n",
      "\tTrain Data (Original)  Memory Usage: 2.64 MB (0.0% of available memory)\n",
      "\tInferring data type of each feature based on column values. Set feature_metadata_in to manually specify special dtypes of the features.\n",
      "\tStage 1 Generators:\n",
      "\t\tFitting AsTypeFeatureGenerator...\n",
      "\tStage 2 Generators:\n",
      "\t\tFitting FillNaFeatureGenerator...\n",
      "\tStage 3 Generators:\n",
      "\t\tFitting IdentityFeatureGenerator...\n",
      "\t\t\tFitting RenameFeatureGenerator...\n",
      "\t\tFitting CategoryFeatureGenerator...\n",
      "\t\t\tFitting CategoryMemoryMinimizeFeatureGenerator...\n",
      "\t\tFitting TextSpecialFeatureGenerator...\n",
      "\t\t\tFitting BinnedFeatureGenerator...\n",
      "\t\t\tFitting DropDuplicatesFeatureGenerator...\n",
      "\t\tFitting TextNgramFeatureGenerator...\n",
      "\t\t\tFitting CountVectorizer for text features: ['abstract']\n",
      "\t\t\tCountVectorizer fit with vocabulary size = 1238\n",
      "\t\tWarning: Due to memory constraints, ngram feature count is being reduced. Allocate more memory to maximize model quality.\n",
      "\t\tReducing Vectorizer vocab size from 1238 to 1032 to avoid OOM error\n",
      "\tStage 4 Generators:\n",
      "\t\tFitting DropUniqueFeatureGenerator...\n",
      "\tStage 5 Generators:\n",
      "\t\tFitting DropDuplicatesFeatureGenerator...\n",
      "\tTypes of features in original data (raw dtype, special dtypes):\n",
      "\t\t('object', ['text']) : 1 | ['abstract']\n",
      "\tTypes of features in processed data (raw dtype, special dtypes):\n",
      "\t\t('category', ['text_as_category'])  :    1 | ['abstract']\n",
      "\t\t('int', ['binned', 'text_special']) :   24 | ['abstract.char_count', 'abstract.word_count', 'abstract.capital_ratio', 'abstract.lower_ratio', 'abstract.digit_ratio', ...]\n",
      "\t\t('int', ['text_ngram'])             : 1028 | ['__nlp__.10', '__nlp__.100', '__nlp__.11', '__nlp__.12', '__nlp__.13', ...]\n",
      "\t\t('object', ['text'])                :    1 | ['abstract_raw_text']\n",
      "\t6.5s = Fit runtime\n",
      "\t1 features in original data used to generate 1054 features in processed data.\n",
      "\tTrain Data (Processed) Memory Usage: 5.82 MB (0.0% of available memory)\n",
      "Data preprocessing and feature engineering runtime = 6.59s ...\n",
      "AutoGluon will gauge predictive performance using evaluation metric: 'accuracy'\n",
      "\tTo change this, specify the eval_metric parameter of Predictor()\n",
      "Automatically generating train/validation split with holdout_frac=0.2, Train Rows: 1280, Val Rows: 320\n",
      "User-specified model hyperparameters to be fit:\n",
      "{\n",
      "\t'NN_TORCH': {},\n",
      "\t'GBM': [{}, {'extra_trees': True, 'ag_args': {'name_suffix': 'XT'}}, 'GBMLarge'],\n",
      "\t'CAT': {},\n",
      "\t'XGB': {},\n",
      "\t'AG_AUTOMM': {},\n",
      "\t'VW': {},\n",
      "}\n",
      "Fitting 8 L1 models ...\n",
      "Fitting model: LightGBM ...\n",
      "\t0.3406\t = Validation score   (accuracy)\n",
      "\t2.13s\t = Training   runtime\n",
      "\t0.02s\t = Validation runtime\n",
      "Fitting model: LightGBMXT ...\n",
      "\t0.3469\t = Validation score   (accuracy)\n",
      "\t1.84s\t = Training   runtime\n",
      "\t0.02s\t = Validation runtime\n",
      "Fitting model: CatBoost ...\n",
      "\tMany features detected (1053), dynamically setting 'colsample_bylevel' to 0.949667616334283 to speed up training (Default = 1).\n",
      "\tTo disable this functionality, explicitly specify 'colsample_bylevel' in the model hyperparameters.\n",
      "\t0.3406\t = Validation score   (accuracy)\n",
      "\t23.33s\t = Training   runtime\n",
      "\t0.04s\t = Validation runtime\n",
      "Fitting model: XGBoost ...\n",
      "\t0.3344\t = Validation score   (accuracy)\n",
      "\t2.86s\t = Training   runtime\n",
      "\t0.01s\t = Validation runtime\n",
      "Fitting model: NeuralNetTorch ...\n",
      "\t0.3156\t = Validation score   (accuracy)\n",
      "\t2.44s\t = Training   runtime\n",
      "\t0.01s\t = Validation runtime\n",
      "Fitting model: VowpalWabbit ...\n",
      "\tWarning: Exception caused VowpalWabbit to fail during training (ImportError)... Skipping this model.\n",
      "\t\t`import vowpalwabbit` failed.\n",
      "A quick tip is to install via `pip install vowpalwabbit>=9,<9.9\n",
      "Fitting model: LightGBMLarge ...\n",
      "\t0.3187\t = Validation score   (accuracy)\n",
      "\t5.24s\t = Training   runtime\n",
      "\t0.02s\t = Validation runtime\n",
      "Fitting model: MultiModalPredictor ...\n",
      "Global seed set to 0\n",
      "`resume_download` is deprecated and will be removed in version 1.0.0. Downloads always resume when possible. If you want to force a new download, use `force_download=True`.\n",
      "Using 16bit Automatic Mixed Precision (AMP)\n",
      "GPU available: True (cuda), used: True\n",
      "TPU available: False, using: 0 TPU cores\n",
      "IPU available: False, using: 0 IPUs\n",
      "HPU available: False, using: 0 HPUs\n",
      "LOCAL_RANK: 0 - CUDA_VISIBLE_DEVICES: [0]\n",
      "\n",
      "  | Name              | Type                         | Params\n",
      "-------------------------------------------------------------------\n",
      "0 | model             | HFAutoModelForTextPrediction | 108 M \n",
      "1 | validation_metric | MulticlassAccuracy           | 0     \n",
      "2 | loss_func         | CrossEntropyLoss             | 0     \n",
      "-------------------------------------------------------------------\n",
      "108 M     Trainable params\n",
      "0         Non-trainable params\n",
      "108 M     Total params\n",
      "435.582   Total estimated model params size (MB)\n",
      "Epoch 0, global step 5: 'val_accuracy' reached 0.24375 (best 0.24375), saving model to 'C:\\\\Users\\\\vojta\\\\OneDrive\\\\Skola\\\\bachelor-thesis\\\\AutogluonModels\\\\ag-20240616_200553\\\\models\\\\MultiModalPredictor\\\\automm_model\\\\epoch=0-step=5.ckpt' as top 3\n",
      "Epoch 0, global step 10: 'val_accuracy' reached 0.27187 (best 0.27187), saving model to 'C:\\\\Users\\\\vojta\\\\OneDrive\\\\Skola\\\\bachelor-thesis\\\\AutogluonModels\\\\ag-20240616_200553\\\\models\\\\MultiModalPredictor\\\\automm_model\\\\epoch=0-step=10.ckpt' as top 3\n",
      "Epoch 1, global step 15: 'val_accuracy' reached 0.33750 (best 0.33750), saving model to 'C:\\\\Users\\\\vojta\\\\OneDrive\\\\Skola\\\\bachelor-thesis\\\\AutogluonModels\\\\ag-20240616_200553\\\\models\\\\MultiModalPredictor\\\\automm_model\\\\epoch=1-step=15.ckpt' as top 3\n",
      "Epoch 1, global step 20: 'val_accuracy' reached 0.32188 (best 0.33750), saving model to 'C:\\\\Users\\\\vojta\\\\OneDrive\\\\Skola\\\\bachelor-thesis\\\\AutogluonModels\\\\ag-20240616_200553\\\\models\\\\MultiModalPredictor\\\\automm_model\\\\epoch=1-step=20.ckpt' as top 3\n",
      "Epoch 2, global step 25: 'val_accuracy' reached 0.37187 (best 0.37187), saving model to 'C:\\\\Users\\\\vojta\\\\OneDrive\\\\Skola\\\\bachelor-thesis\\\\AutogluonModels\\\\ag-20240616_200553\\\\models\\\\MultiModalPredictor\\\\automm_model\\\\epoch=2-step=25.ckpt' as top 3\n",
      "Epoch 2, global step 30: 'val_accuracy' was not in top 3\n",
      "Epoch 3, global step 35: 'val_accuracy' reached 0.33437 (best 0.37187), saving model to 'C:\\\\Users\\\\vojta\\\\OneDrive\\\\Skola\\\\bachelor-thesis\\\\AutogluonModels\\\\ag-20240616_200553\\\\models\\\\MultiModalPredictor\\\\automm_model\\\\epoch=3-step=35.ckpt' as top 3\n",
      "Epoch 3, global step 40: 'val_accuracy' reached 0.34375 (best 0.37187), saving model to 'C:\\\\Users\\\\vojta\\\\OneDrive\\\\Skola\\\\bachelor-thesis\\\\AutogluonModels\\\\ag-20240616_200553\\\\models\\\\MultiModalPredictor\\\\automm_model\\\\epoch=3-step=40.ckpt' as top 3\n",
      "Epoch 4, global step 45: 'val_accuracy' reached 0.35313 (best 0.37187), saving model to 'C:\\\\Users\\\\vojta\\\\OneDrive\\\\Skola\\\\bachelor-thesis\\\\AutogluonModels\\\\ag-20240616_200553\\\\models\\\\MultiModalPredictor\\\\automm_model\\\\epoch=4-step=45.ckpt' as top 3\n",
      "Epoch 4, global step 50: 'val_accuracy' was not in top 3\n",
      "Epoch 5, global step 55: 'val_accuracy' was not in top 3\n",
      "Epoch 5, global step 60: 'val_accuracy' reached 0.37187 (best 0.37187), saving model to 'C:\\\\Users\\\\vojta\\\\OneDrive\\\\Skola\\\\bachelor-thesis\\\\AutogluonModels\\\\ag-20240616_200553\\\\models\\\\MultiModalPredictor\\\\automm_model\\\\epoch=5-step=60.ckpt' as top 3\n",
      "Epoch 6, global step 65: 'val_accuracy' reached 0.35938 (best 0.37187), saving model to 'C:\\\\Users\\\\vojta\\\\OneDrive\\\\Skola\\\\bachelor-thesis\\\\AutogluonModels\\\\ag-20240616_200553\\\\models\\\\MultiModalPredictor\\\\automm_model\\\\epoch=6-step=65.ckpt' as top 3\n",
      "Epoch 6, global step 70: 'val_accuracy' was not in top 3\n",
      "Epoch 7, global step 75: 'val_accuracy' was not in top 3\n",
      "\t0.3719\t = Validation score   (accuracy)\n",
      "\t350.18s\t = Training   runtime\n",
      "\t21.49s\t = Validation runtime\n",
      "Fitting model: WeightedEnsemble_L2 ...\n",
      "\tEnsemble Weights: {'MultiModalPredictor': 0.444, 'CatBoost': 0.389, 'LightGBM': 0.111, 'XGBoost': 0.056}\n",
      "\t0.4031\t = Validation score   (accuracy)\n",
      "\t0.29s\t = Training   runtime\n",
      "\t0.0s\t = Validation runtime\n",
      "AutoGluon training complete, total runtime = 418.95s ... Best model: \"WeightedEnsemble_L2\"\n",
      "TabularPredictor saved. To load, use: predictor = TabularPredictor.load(\"AutogluonModels\\ag-20240616_200553\")\n",
      "Load pretrained checkpoint: C:\\Users\\vojta\\OneDrive\\Skola\\bachelor-thesis\\AutogluonModels\\ag-20240616_200553\\models\\MultiModalPredictor\\automm_model\\model.ckpt\n"
     ]
    },
    {
     "data": {
      "text/plain": "Predicting: 0it [00:00, ?it/s]",
      "application/vnd.jupyter.widget-view+json": {
       "version_major": 2,
       "version_minor": 0,
       "model_id": "eac03921059247e59dc56e937d0f1535"
      }
     },
     "metadata": {},
     "output_type": "display_data"
    },
    {
     "data": {
      "text/plain": "'Task: Regression'"
     },
     "metadata": {},
     "output_type": "display_data"
    },
    {
     "data": {
      "text/plain": "'Multimodal Predictor MAE score before roudning: 1.0075'"
     },
     "metadata": {},
     "output_type": "display_data"
    },
    {
     "data": {
      "text/plain": "'Multimodal Predictor Accuracy score: 0.3775'"
     },
     "metadata": {},
     "output_type": "display_data"
    },
    {
     "data": {
      "text/plain": "'Multimodal Predictor Recall score: 0.3693050262021667'"
     },
     "metadata": {},
     "output_type": "display_data"
    },
    {
     "data": {
      "text/plain": "'Multimodal Predictor F1 score: 0.32494219076875935'"
     },
     "metadata": {},
     "output_type": "display_data"
    },
    {
     "data": {
      "text/plain": "'Multimodal Predictor Precision score: 0.3312208725886968'"
     },
     "metadata": {},
     "output_type": "display_data"
    },
    {
     "data": {
      "text/plain": "'Multimodal Predictor MAE score: 1.0075'"
     },
     "metadata": {},
     "output_type": "display_data"
    },
    {
     "data": {
      "text/plain": "'Multimodal Predictor MSE score: 2.0975'"
     },
     "metadata": {},
     "output_type": "display_data"
    },
    {
     "data": {
      "text/plain": "'Multimodal Predictor RMSE score: 1.448274835796024'"
     },
     "metadata": {},
     "output_type": "display_data"
    },
    {
     "data": {
      "text/plain": "None"
     },
     "metadata": {},
     "output_type": "display_data"
    },
    {
     "data": {
      "text/plain": "<autogluon.tabular.predictor.predictor.TabularPredictor at 0x196c93b09a0>"
     },
     "execution_count": 18,
     "metadata": {},
     "output_type": "execute_result"
    },
    {
     "data": {
      "text/plain": "<Figure size 640x480 with 2 Axes>",
      "image/png": "[encoded data removed]"
     },
     "metadata": {},
     "output_type": "display_data"
    }
   ],
   "source": [
    "train_multimodal(X_train_m17[['abstract', 'label']], pd.DataFrame(X_test_m17['abstract']), y_test_m17, 'multiclass')\n"
   ],
   "metadata": {
    "collapsed": false,
    "ExecuteTime": {
     "end_time": "2024-06-16T20:13:17.867520900Z",
     "start_time": "2024-06-16T20:05:53.627296800Z"
    }
   },
   "id": "13b513a63497f1f1"
  },
  {
   "cell_type": "code",
   "execution_count": 11,
   "outputs": [
    {
     "name": "stderr",
     "output_type": "stream",
     "text": [
      "No path specified. Models will be saved in: \"AutogluonModels\\ag-20240616_171553\"\n",
      "No presets specified! To achieve strong results with AutoGluon, it is recommended to use the available presets.\n",
      "\tRecommended Presets (For more details refer to https://auto.gluon.ai/stable/tutorials/tabular/tabular-essentials.html#presets):\n",
      "\tpresets='best_quality'   : Maximize accuracy. Default time_limit=3600.\n",
      "\tpresets='high_quality'   : Strong accuracy with fast inference speed. Default time_limit=3600.\n",
      "\tpresets='good_quality'   : Good accuracy with very fast inference speed. Default time_limit=3600.\n",
      "\tpresets='medium_quality' : Fast training time, ideal for initial prototyping.\n",
      "Beginning AutoGluon training ...\n",
      "AutoGluon will save models to \"AutogluonModels\\ag-20240616_171553\"\n",
      "=================== System Info ===================\n",
      "AutoGluon Version:  1.0.0\n",
      "Python Version:     3.10.14\n",
      "Operating System:   Windows\n",
      "Platform Machine:   AMD64\n",
      "Platform Version:   10.0.22631\n",
      "CPU Count:          16\n",
      "Memory Avail:       12.85 GB / 31.92 GB (40.3%)\n",
      "Disk Space Avail:   205.56 GB / 930.81 GB (22.1%)\n",
      "===================================================\n",
      "Train Data Rows:    1600\n",
      "Train Data Columns: 64\n",
      "Label Column:       label\n",
      "Problem Type:       multiclass\n",
      "Preprocessing data ...\n",
      "Train Data Class Count: 5\n",
      "Using Feature Generators to preprocess the data ...\n",
      "Fitting AutoMLPipelineFeatureGenerator...\n",
      "\tAvailable Memory:                    13161.28 MB\n",
      "\tTrain Data (Original)  Memory Usage: 3.17 MB (0.0% of available memory)\n",
      "\tInferring data type of each feature based on column values. Set feature_metadata_in to manually specify special dtypes of the features.\n",
      "\tStage 1 Generators:\n",
      "\t\tFitting AsTypeFeatureGenerator...\n",
      "\t\t\tNote: Converting 59 features to boolean dtype as they only contain 2 unique values.\n",
      "\tStage 2 Generators:\n",
      "\t\tFitting FillNaFeatureGenerator...\n",
      "\tStage 3 Generators:\n",
      "\t\tFitting IdentityFeatureGenerator...\n",
      "\t\tFitting IdentityFeatureGenerator...\n",
      "\t\t\tFitting RenameFeatureGenerator...\n",
      "\t\tFitting CategoryFeatureGenerator...\n",
      "\t\t\tFitting CategoryMemoryMinimizeFeatureGenerator...\n",
      "\t\tFitting TextSpecialFeatureGenerator...\n",
      "\t\t\tFitting BinnedFeatureGenerator...\n",
      "\t\t\tFitting DropDuplicatesFeatureGenerator...\n",
      "\t\tFitting TextNgramFeatureGenerator...\n",
      "\t\t\tFitting CountVectorizer for text features: ['title', 'abstract']\n",
      "\t\t\tCountVectorizer fit with vocabulary size = 1288\n",
      "\t\tWarning: Due to memory constraints, ngram feature count is being reduced. Allocate more memory to maximize model quality.\n",
      "\t\tReducing Vectorizer vocab size from 1288 to 755 to avoid OOM error\n",
      "\tStage 4 Generators:\n",
      "\t\tFitting DropUniqueFeatureGenerator...\n",
      "\tStage 5 Generators:\n",
      "\t\tFitting DropDuplicatesFeatureGenerator...\n",
      "\tUnused Original Features (Count: 1): ['focus_groups']\n",
      "\t\tThese features were not used to generate any of the output features. Add a feature generator compatible with these features to utilize them.\n",
      "\t\tFeatures can also be unused if they carry very little information, such as being categorical but having almost entirely unique values or being duplicates of other features.\n",
      "\t\tThese features do not need to be present at inference time.\n",
      "\t\t('int', []) : 1 | ['focus_groups']\n",
      "\tTypes of features in original data (raw dtype, special dtypes):\n",
      "\t\t('float', [])        :  3 | ['novelty', 'rigor', 'accessibility']\n",
      "\t\t('int', [])          : 58 | ['grammar', 'replicability', 'mathematics', 'computer_and_information_sciences', 'physical_sciences', ...]\n",
      "\t\t('object', ['text']) :  2 | ['title', 'abstract']\n",
      "\tTypes of features in processed data (raw dtype, special dtypes):\n",
      "\t\t('category', ['text_as_category'])  :   2 | ['title', 'abstract']\n",
      "\t\t('float', [])                       :   3 | ['novelty', 'rigor', 'accessibility']\n",
      "\t\t('int', ['binned', 'text_special']) :  42 | ['title.char_count', 'title.word_count', 'title.capital_ratio', 'title.lower_ratio', 'title.digit_ratio', ...]\n",
      "\t\t('int', ['bool'])                   :  58 | ['grammar', 'replicability', 'mathematics', 'computer_and_information_sciences', 'physical_sciences', ...]\n",
      "\t\t('int', ['text_ngram'])             : 753 | ['__nlp__.10', '__nlp__.100', '__nlp__.11', '__nlp__.12', '__nlp__.15', ...]\n",
      "\t\t('object', ['text'])                :   2 | ['title_raw_text', 'abstract_raw_text']\n",
      "\t6.5s = Fit runtime\n",
      "\t63 features in original data used to generate 860 features in processed data.\n",
      "\tTrain Data (Processed) Memory Usage: 5.38 MB (0.0% of available memory)\n",
      "Data preprocessing and feature engineering runtime = 6.55s ...\n",
      "AutoGluon will gauge predictive performance using evaluation metric: 'accuracy'\n",
      "\tTo change this, specify the eval_metric parameter of Predictor()\n",
      "Automatically generating train/validation split with holdout_frac=0.2, Train Rows: 1280, Val Rows: 320\n",
      "User-specified model hyperparameters to be fit:\n",
      "{\n",
      "\t'NN_TORCH': {},\n",
      "\t'GBM': [{}, {'extra_trees': True, 'ag_args': {'name_suffix': 'XT'}}, 'GBMLarge'],\n",
      "\t'CAT': {},\n",
      "\t'XGB': {},\n",
      "\t'AG_AUTOMM': {},\n",
      "\t'VW': {},\n",
      "}\n",
      "Fitting 8 L1 models ...\n",
      "Fitting model: LightGBM ...\n",
      "\t0.4094\t = Validation score   (accuracy)\n",
      "\t2.46s\t = Training   runtime\n",
      "\t0.02s\t = Validation runtime\n",
      "Fitting model: LightGBMXT ...\n",
      "\t0.3906\t = Validation score   (accuracy)\n",
      "\t2.71s\t = Training   runtime\n",
      "\t0.02s\t = Validation runtime\n",
      "Fitting model: CatBoost ...\n",
      "\t0.3594\t = Validation score   (accuracy)\n",
      "\t23.71s\t = Training   runtime\n",
      "\t0.04s\t = Validation runtime\n",
      "Fitting model: XGBoost ...\n",
      "\t0.3844\t = Validation score   (accuracy)\n",
      "\t4.79s\t = Training   runtime\n",
      "\t0.02s\t = Validation runtime\n",
      "Fitting model: NeuralNetTorch ...\n",
      "\n",
      "The format of the columns of the 'remainder' transformer in ColumnTransformer.transformers_ will change in version 1.7 to match the format of the other transformers.\n",
      "At the moment the remainder columns are stored as indices (of type int). With the same ColumnTransformer configuration, in the future they will be stored as column names (of type str).\n",
      "To use the new behavior now and suppress this warning, use ColumnTransformer(force_int_remainder_cols=False).\n",
      "\n",
      "\t0.3594\t = Validation score   (accuracy)\n",
      "\t2.29s\t = Training   runtime\n",
      "\t0.02s\t = Validation runtime\n",
      "Fitting model: VowpalWabbit ...\n",
      "\tWarning: Exception caused VowpalWabbit to fail during training (ImportError)... Skipping this model.\n",
      "\t\t`import vowpalwabbit` failed.\n",
      "A quick tip is to install via `pip install vowpalwabbit>=9,<9.9\n",
      "Fitting model: LightGBMLarge ...\n",
      "\t0.3625\t = Validation score   (accuracy)\n",
      "\t4.42s\t = Training   runtime\n",
      "\t0.02s\t = Validation runtime\n",
      "Fitting model: MultiModalPredictor ...\n",
      "Global seed set to 0\n",
      "`resume_download` is deprecated and will be removed in version 1.0.0. Downloads always resume when possible. If you want to force a new download, use `force_download=True`.\n",
      "Using 16bit Automatic Mixed Precision (AMP)\n",
      "GPU available: True (cuda), used: True\n",
      "TPU available: False, using: 0 TPU cores\n",
      "IPU available: False, using: 0 IPUs\n",
      "HPU available: False, using: 0 HPUs\n",
      "LOCAL_RANK: 0 - CUDA_VISIBLE_DEVICES: [0]\n",
      "\n",
      "  | Name              | Type                | Params\n",
      "----------------------------------------------------------\n",
      "0 | model             | MultimodalFusionMLP | 110 M \n",
      "1 | validation_metric | MulticlassAccuracy  | 0     \n",
      "2 | loss_func         | CrossEntropyLoss    | 0     \n",
      "----------------------------------------------------------\n",
      "110 M     Trainable params\n",
      "0         Non-trainable params\n",
      "110 M     Total params\n",
      "442.708   Total estimated model params size (MB)\n",
      "Epoch 0, global step 5: 'val_accuracy' reached 0.20625 (best 0.20625), saving model to 'C:\\\\Users\\\\vojta\\\\OneDrive\\\\Skola\\\\bachelor-thesis\\\\AutogluonModels\\\\ag-20240616_171553\\\\models\\\\MultiModalPredictor\\\\automm_model\\\\epoch=0-step=5.ckpt' as top 3\n",
      "Epoch 0, global step 10: 'val_accuracy' reached 0.33437 (best 0.33437), saving model to 'C:\\\\Users\\\\vojta\\\\OneDrive\\\\Skola\\\\bachelor-thesis\\\\AutogluonModels\\\\ag-20240616_171553\\\\models\\\\MultiModalPredictor\\\\automm_model\\\\epoch=0-step=10.ckpt' as top 3\n",
      "Epoch 1, global step 15: 'val_accuracy' reached 0.31563 (best 0.33437), saving model to 'C:\\\\Users\\\\vojta\\\\OneDrive\\\\Skola\\\\bachelor-thesis\\\\AutogluonModels\\\\ag-20240616_171553\\\\models\\\\MultiModalPredictor\\\\automm_model\\\\epoch=1-step=15.ckpt' as top 3\n",
      "Epoch 1, global step 20: 'val_accuracy' reached 0.35938 (best 0.35938), saving model to 'C:\\\\Users\\\\vojta\\\\OneDrive\\\\Skola\\\\bachelor-thesis\\\\AutogluonModels\\\\ag-20240616_171553\\\\models\\\\MultiModalPredictor\\\\automm_model\\\\epoch=1-step=20.ckpt' as top 3\n",
      "Epoch 2, global step 25: 'val_accuracy' reached 0.36562 (best 0.36562), saving model to 'C:\\\\Users\\\\vojta\\\\OneDrive\\\\Skola\\\\bachelor-thesis\\\\AutogluonModels\\\\ag-20240616_171553\\\\models\\\\MultiModalPredictor\\\\automm_model\\\\epoch=2-step=25.ckpt' as top 3\n",
      "Epoch 2, global step 30: 'val_accuracy' was not in top 3\n",
      "Epoch 3, global step 35: 'val_accuracy' was not in top 3\n",
      "Epoch 3, global step 40: 'val_accuracy' reached 0.37813 (best 0.37813), saving model to 'C:\\\\Users\\\\vojta\\\\OneDrive\\\\Skola\\\\bachelor-thesis\\\\AutogluonModels\\\\ag-20240616_171553\\\\models\\\\MultiModalPredictor\\\\automm_model\\\\epoch=3-step=40.ckpt' as top 3\n",
      "Epoch 4, global step 45: 'val_accuracy' reached 0.38125 (best 0.38125), saving model to 'C:\\\\Users\\\\vojta\\\\OneDrive\\\\Skola\\\\bachelor-thesis\\\\AutogluonModels\\\\ag-20240616_171553\\\\models\\\\MultiModalPredictor\\\\automm_model\\\\epoch=4-step=45.ckpt' as top 3\n",
      "Epoch 4, global step 50: 'val_accuracy' reached 0.40312 (best 0.40312), saving model to 'C:\\\\Users\\\\vojta\\\\OneDrive\\\\Skola\\\\bachelor-thesis\\\\AutogluonModels\\\\ag-20240616_171553\\\\models\\\\MultiModalPredictor\\\\automm_model\\\\epoch=4-step=50.ckpt' as top 3\n",
      "Epoch 5, global step 55: 'val_accuracy' was not in top 3\n",
      "Epoch 5, global step 60: 'val_accuracy' reached 0.40625 (best 0.40625), saving model to 'C:\\\\Users\\\\vojta\\\\OneDrive\\\\Skola\\\\bachelor-thesis\\\\AutogluonModels\\\\ag-20240616_171553\\\\models\\\\MultiModalPredictor\\\\automm_model\\\\epoch=5-step=60.ckpt' as top 3\n",
      "Epoch 6, global step 65: 'val_accuracy' reached 0.40312 (best 0.40625), saving model to 'C:\\\\Users\\\\vojta\\\\OneDrive\\\\Skola\\\\bachelor-thesis\\\\AutogluonModels\\\\ag-20240616_171553\\\\models\\\\MultiModalPredictor\\\\automm_model\\\\epoch=6-step=65.ckpt' as top 3\n",
      "Epoch 6, global step 70: 'val_accuracy' was not in top 3\n",
      "Epoch 7, global step 75: 'val_accuracy' reached 0.42500 (best 0.42500), saving model to 'C:\\\\Users\\\\vojta\\\\OneDrive\\\\Skola\\\\bachelor-thesis\\\\AutogluonModels\\\\ag-20240616_171553\\\\models\\\\MultiModalPredictor\\\\automm_model\\\\epoch=7-step=75.ckpt' as top 3\n",
      "Epoch 7, global step 80: 'val_accuracy' reached 0.40625 (best 0.42500), saving model to 'C:\\\\Users\\\\vojta\\\\OneDrive\\\\Skola\\\\bachelor-thesis\\\\AutogluonModels\\\\ag-20240616_171553\\\\models\\\\MultiModalPredictor\\\\automm_model\\\\epoch=7-step=80.ckpt' as top 3\n",
      "Epoch 8, global step 85: 'val_accuracy' was not in top 3\n",
      "Epoch 8, global step 90: 'val_accuracy' was not in top 3\n",
      "Epoch 9, global step 95: 'val_accuracy' was not in top 3\n",
      "Epoch 9, global step 100: 'val_accuracy' was not in top 3\n",
      "`Trainer.fit` stopped: `max_epochs=10` reached.\n",
      "\t0.4469\t = Validation score   (accuracy)\n",
      "\t454.3s\t = Training   runtime\n",
      "\t22.36s\t = Validation runtime\n",
      "Fitting model: WeightedEnsemble_L2 ...\n",
      "\tEnsemble Weights: {'MultiModalPredictor': 0.75, 'LightGBMLarge': 0.167, 'XGBoost': 0.083}\n",
      "\t0.4625\t = Validation score   (accuracy)\n",
      "\t0.29s\t = Training   runtime\n",
      "\t0.0s\t = Validation runtime\n",
      "AutoGluon training complete, total runtime = 524.78s ... Best model: \"WeightedEnsemble_L2\"\n",
      "TabularPredictor saved. To load, use: predictor = TabularPredictor.load(\"AutogluonModels\\ag-20240616_171553\")\n",
      "Load pretrained checkpoint: C:\\Users\\vojta\\OneDrive\\Skola\\bachelor-thesis\\AutogluonModels\\ag-20240616_171553\\models\\MultiModalPredictor\\automm_model\\model.ckpt\n"
     ]
    },
    {
     "data": {
      "text/plain": "Predicting: 0it [00:00, ?it/s]",
      "application/vnd.jupyter.widget-view+json": {
       "version_major": 2,
       "version_minor": 0,
       "model_id": "1869abdf0540456f90d202f13b945314"
      }
     },
     "metadata": {},
     "output_type": "display_data"
    },
    {
     "data": {
      "text/plain": "'Task: Regression'"
     },
     "metadata": {},
     "output_type": "display_data"
    },
    {
     "data": {
      "text/plain": "'Multimodal Predictor MAE score before roudning: 0.855'"
     },
     "metadata": {},
     "output_type": "display_data"
    },
    {
     "data": {
      "text/plain": "'Multimodal Predictor Accuracy score: 0.395'"
     },
     "metadata": {},
     "output_type": "display_data"
    },
    {
     "data": {
      "text/plain": "'Multimodal Predictor Recall score: 0.3931680055721887'"
     },
     "metadata": {},
     "output_type": "display_data"
    },
    {
     "data": {
      "text/plain": "'Multimodal Predictor F1 score: 0.3892917975338523'"
     },
     "metadata": {},
     "output_type": "display_data"
    },
    {
     "data": {
      "text/plain": "'Multimodal Predictor Precision score: 0.39014845990639513'"
     },
     "metadata": {},
     "output_type": "display_data"
    },
    {
     "data": {
      "text/plain": "'Multimodal Predictor MAE score: 0.855'"
     },
     "metadata": {},
     "output_type": "display_data"
    },
    {
     "data": {
      "text/plain": "'Multimodal Predictor MSE score: 1.465'"
     },
     "metadata": {},
     "output_type": "display_data"
    },
    {
     "data": {
      "text/plain": "'Multimodal Predictor RMSE score: 1.2103718436910205'"
     },
     "metadata": {},
     "output_type": "display_data"
    },
    {
     "data": {
      "text/plain": "None"
     },
     "metadata": {},
     "output_type": "display_data"
    },
    {
     "data": {
      "text/plain": "<autogluon.tabular.predictor.predictor.TabularPredictor at 0x196cd065c90>"
     },
     "execution_count": 11,
     "metadata": {},
     "output_type": "execute_result"
    },
    {
     "data": {
      "text/plain": "<Figure size 640x480 with 2 Axes>",
      "image/png": "[encoded data removed]"
     },
     "metadata": {},
     "output_type": "display_data"
    }
   ],
   "source": [
    "train_multimodal(X_train_m17, X_test_m17, y_test_m17, 'multiclass')"
   ],
   "metadata": {
    "collapsed": false,
    "ExecuteTime": {
     "end_time": "2024-06-16T17:25:03.720512600Z",
     "start_time": "2024-06-16T17:15:53.436713500Z"
    }
   },
   "id": "43aa9f2f3025bd5"
  },
  {
   "cell_type": "code",
   "execution_count": 12,
   "outputs": [
    {
     "name": "stderr",
     "output_type": "stream",
     "text": [
      "No path specified. Models will be saved in: \"AutogluonModels\\ag-20240616_172503\"\n",
      "No presets specified! To achieve strong results with AutoGluon, it is recommended to use the available presets.\n",
      "\tRecommended Presets (For more details refer to https://auto.gluon.ai/stable/tutorials/tabular/tabular-essentials.html#presets):\n",
      "\tpresets='best_quality'   : Maximize accuracy. Default time_limit=3600.\n",
      "\tpresets='high_quality'   : Strong accuracy with fast inference speed. Default time_limit=3600.\n",
      "\tpresets='good_quality'   : Good accuracy with very fast inference speed. Default time_limit=3600.\n",
      "\tpresets='medium_quality' : Fast training time, ideal for initial prototyping.\n",
      "Beginning AutoGluon training ...\n",
      "AutoGluon will save models to \"AutogluonModels\\ag-20240616_172503\"\n",
      "=================== System Info ===================\n",
      "AutoGluon Version:  1.0.0\n",
      "Python Version:     3.10.14\n",
      "Operating System:   Windows\n",
      "Platform Machine:   AMD64\n",
      "Platform Version:   10.0.22631\n",
      "CPU Count:          16\n",
      "Memory Avail:       13.18 GB / 31.92 GB (41.3%)\n",
      "Disk Space Avail:   205.09 GB / 930.81 GB (22.0%)\n",
      "===================================================\n",
      "Train Data Rows:    1600\n",
      "Train Data Columns: 64\n",
      "Label Column:       label\n",
      "Problem Type:       regression\n",
      "Preprocessing data ...\n",
      "Using Feature Generators to preprocess the data ...\n",
      "Fitting AutoMLPipelineFeatureGenerator...\n",
      "\tAvailable Memory:                    13497.55 MB\n",
      "\tTrain Data (Original)  Memory Usage: 3.64 MB (0.0% of available memory)\n",
      "\tInferring data type of each feature based on column values. Set feature_metadata_in to manually specify special dtypes of the features.\n",
      "\tStage 1 Generators:\n",
      "\t\tFitting AsTypeFeatureGenerator...\n",
      "\t\t\tNote: Converting 59 features to boolean dtype as they only contain 2 unique values.\n",
      "\tStage 2 Generators:\n",
      "\t\tFitting FillNaFeatureGenerator...\n",
      "\tStage 3 Generators:\n",
      "\t\tFitting IdentityFeatureGenerator...\n",
      "\t\tFitting IdentityFeatureGenerator...\n",
      "\t\t\tFitting RenameFeatureGenerator...\n",
      "\t\tFitting CategoryFeatureGenerator...\n",
      "\t\t\tFitting CategoryMemoryMinimizeFeatureGenerator...\n",
      "\t\tFitting TextSpecialFeatureGenerator...\n",
      "\t\t\tFitting BinnedFeatureGenerator...\n",
      "\t\t\tFitting DropDuplicatesFeatureGenerator...\n",
      "\t\tFitting TextNgramFeatureGenerator...\n",
      "\t\t\tFitting CountVectorizer for text features: ['title', 'abstract']\n",
      "\t\t\tCountVectorizer fit with vocabulary size = 1288\n",
      "\t\tWarning: Due to memory constraints, ngram feature count is being reduced. Allocate more memory to maximize model quality.\n",
      "\t\tReducing Vectorizer vocab size from 1288 to 1071 to avoid OOM error\n",
      "\tStage 4 Generators:\n",
      "\t\tFitting DropUniqueFeatureGenerator...\n",
      "\tStage 5 Generators:\n",
      "\t\tFitting DropDuplicatesFeatureGenerator...\n",
      "\tUnused Original Features (Count: 1): ['focus_groups']\n",
      "\t\tThese features were not used to generate any of the output features. Add a feature generator compatible with these features to utilize them.\n",
      "\t\tFeatures can also be unused if they carry very little information, such as being categorical but having almost entirely unique values or being duplicates of other features.\n",
      "\t\tThese features do not need to be present at inference time.\n",
      "\t\t('int', []) : 1 | ['focus_groups']\n",
      "\tTypes of features in original data (raw dtype, special dtypes):\n",
      "\t\t('float', [])        :  3 | ['novelty', 'rigor', 'accessibility']\n",
      "\t\t('int', [])          : 58 | ['grammar', 'replicability', 'mathematics', 'computer_and_information_sciences', 'physical_sciences', ...]\n",
      "\t\t('object', ['text']) :  2 | ['title', 'abstract']\n",
      "\tTypes of features in processed data (raw dtype, special dtypes):\n",
      "\t\t('category', ['text_as_category'])  :    2 | ['title', 'abstract']\n",
      "\t\t('float', [])                       :    3 | ['novelty', 'rigor', 'accessibility']\n",
      "\t\t('int', ['binned', 'text_special']) :   42 | ['title.char_count', 'title.word_count', 'title.capital_ratio', 'title.lower_ratio', 'title.digit_ratio', ...]\n",
      "\t\t('int', ['bool'])                   :   58 | ['grammar', 'replicability', 'mathematics', 'computer_and_information_sciences', 'physical_sciences', ...]\n",
      "\t\t('int', ['text_ngram'])             : 1067 | ['__nlp__.10', '__nlp__.100', '__nlp__.11', '__nlp__.12', '__nlp__.13', ...]\n",
      "\t\t('object', ['text'])                :    2 | ['title_raw_text', 'abstract_raw_text']\n",
      "\t7.4s = Fit runtime\n",
      "\t63 features in original data used to generate 1174 features in processed data.\n",
      "\tTrain Data (Processed) Memory Usage: 6.34 MB (0.0% of available memory)\n",
      "Data preprocessing and feature engineering runtime = 7.5s ...\n",
      "AutoGluon will gauge predictive performance using evaluation metric: 'root_mean_squared_error'\n",
      "\tThis metric's sign has been flipped to adhere to being higher_is_better. The metric score can be multiplied by -1 to get the metric value.\n",
      "\tTo change this, specify the eval_metric parameter of Predictor()\n",
      "Automatically generating train/validation split with holdout_frac=0.2, Train Rows: 1280, Val Rows: 320\n",
      "User-specified model hyperparameters to be fit:\n",
      "{\n",
      "\t'NN_TORCH': {},\n",
      "\t'GBM': [{}, {'extra_trees': True, 'ag_args': {'name_suffix': 'XT'}}, 'GBMLarge'],\n",
      "\t'CAT': {},\n",
      "\t'XGB': {},\n",
      "\t'AG_AUTOMM': {},\n",
      "\t'VW': {},\n",
      "}\n",
      "Fitting 8 L1 models ...\n",
      "Fitting model: LightGBM ...\n",
      "\t-1.1644\t = Validation score   (-root_mean_squared_error)\n",
      "\t1.09s\t = Training   runtime\n",
      "\t0.02s\t = Validation runtime\n",
      "Fitting model: LightGBMXT ...\n",
      "\t-1.1522\t = Validation score   (-root_mean_squared_error)\n",
      "\t1.07s\t = Training   runtime\n",
      "\t0.02s\t = Validation runtime\n",
      "Fitting model: CatBoost ...\n",
      "\t-1.1413\t = Validation score   (-root_mean_squared_error)\n",
      "\t18.96s\t = Training   runtime\n",
      "\t0.04s\t = Validation runtime\n",
      "Fitting model: XGBoost ...\n",
      "\t-1.1756\t = Validation score   (-root_mean_squared_error)\n",
      "\t1.39s\t = Training   runtime\n",
      "\t0.01s\t = Validation runtime\n",
      "Fitting model: NeuralNetTorch ...\n",
      "\n",
      "The format of the columns of the 'remainder' transformer in ColumnTransformer.transformers_ will change in version 1.7 to match the format of the other transformers.\n",
      "At the moment the remainder columns are stored as indices (of type int). With the same ColumnTransformer configuration, in the future they will be stored as column names (of type str).\n",
      "To use the new behavior now and suppress this warning, use ColumnTransformer(force_int_remainder_cols=False).\n",
      "\n",
      "\t-1.2138\t = Validation score   (-root_mean_squared_error)\n",
      "\t1.43s\t = Training   runtime\n",
      "\t0.02s\t = Validation runtime\n",
      "Fitting model: VowpalWabbit ...\n",
      "\tWarning: Exception caused VowpalWabbit to fail during training (ImportError)... Skipping this model.\n",
      "\t\t`import vowpalwabbit` failed.\n",
      "A quick tip is to install via `pip install vowpalwabbit>=9,<9.9\n",
      "Fitting model: LightGBMLarge ...\n",
      "\t-1.1507\t = Validation score   (-root_mean_squared_error)\n",
      "\t3.07s\t = Training   runtime\n",
      "\t0.02s\t = Validation runtime\n",
      "Fitting model: MultiModalPredictor ...\n",
      "Global seed set to 0\n",
      "`resume_download` is deprecated and will be removed in version 1.0.0. Downloads always resume when possible. If you want to force a new download, use `force_download=True`.\n",
      "Using 16bit Automatic Mixed Precision (AMP)\n",
      "GPU available: True (cuda), used: True\n",
      "TPU available: False, using: 0 TPU cores\n",
      "IPU available: False, using: 0 IPUs\n",
      "HPU available: False, using: 0 HPUs\n",
      "LOCAL_RANK: 0 - CUDA_VISIBLE_DEVICES: [0]\n",
      "\n",
      "  | Name              | Type                | Params\n",
      "----------------------------------------------------------\n",
      "0 | model             | MultimodalFusionMLP | 110 M \n",
      "1 | validation_metric | MeanSquaredError    | 0     \n",
      "2 | loss_func         | MSELoss             | 0     \n",
      "----------------------------------------------------------\n",
      "110 M     Trainable params\n",
      "0         Non-trainable params\n",
      "110 M     Total params\n",
      "442.690   Total estimated model params size (MB)\n",
      "Epoch 0, global step 5: 'val_root_mean_squared_error' reached 1.41497 (best 1.41497), saving model to 'C:\\\\Users\\\\vojta\\\\OneDrive\\\\Skola\\\\bachelor-thesis\\\\AutogluonModels\\\\ag-20240616_172503\\\\models\\\\MultiModalPredictor\\\\automm_model\\\\epoch=0-step=5.ckpt' as top 3\n",
      "Epoch 0, global step 10: 'val_root_mean_squared_error' reached 0.98929 (best 0.98929), saving model to 'C:\\\\Users\\\\vojta\\\\OneDrive\\\\Skola\\\\bachelor-thesis\\\\AutogluonModels\\\\ag-20240616_172503\\\\models\\\\MultiModalPredictor\\\\automm_model\\\\epoch=0-step=10.ckpt' as top 3\n",
      "Epoch 1, global step 15: 'val_root_mean_squared_error' reached 0.85024 (best 0.85024), saving model to 'C:\\\\Users\\\\vojta\\\\OneDrive\\\\Skola\\\\bachelor-thesis\\\\AutogluonModels\\\\ag-20240616_172503\\\\models\\\\MultiModalPredictor\\\\automm_model\\\\epoch=1-step=15.ckpt' as top 3\n",
      "Epoch 1, global step 20: 'val_root_mean_squared_error' reached 0.87162 (best 0.85024), saving model to 'C:\\\\Users\\\\vojta\\\\OneDrive\\\\Skola\\\\bachelor-thesis\\\\AutogluonModels\\\\ag-20240616_172503\\\\models\\\\MultiModalPredictor\\\\automm_model\\\\epoch=1-step=20.ckpt' as top 3\n",
      "Epoch 2, global step 25: 'val_root_mean_squared_error' reached 0.84022 (best 0.84022), saving model to 'C:\\\\Users\\\\vojta\\\\OneDrive\\\\Skola\\\\bachelor-thesis\\\\AutogluonModels\\\\ag-20240616_172503\\\\models\\\\MultiModalPredictor\\\\automm_model\\\\epoch=2-step=25.ckpt' as top 3\n",
      "Epoch 2, global step 30: 'val_root_mean_squared_error' reached 0.76824 (best 0.76824), saving model to 'C:\\\\Users\\\\vojta\\\\OneDrive\\\\Skola\\\\bachelor-thesis\\\\AutogluonModels\\\\ag-20240616_172503\\\\models\\\\MultiModalPredictor\\\\automm_model\\\\epoch=2-step=30.ckpt' as top 3\n",
      "Epoch 3, global step 35: 'val_root_mean_squared_error' reached 0.77795 (best 0.76824), saving model to 'C:\\\\Users\\\\vojta\\\\OneDrive\\\\Skola\\\\bachelor-thesis\\\\AutogluonModels\\\\ag-20240616_172503\\\\models\\\\MultiModalPredictor\\\\automm_model\\\\epoch=3-step=35.ckpt' as top 3\n",
      "Epoch 3, global step 40: 'val_root_mean_squared_error' reached 0.76576 (best 0.76576), saving model to 'C:\\\\Users\\\\vojta\\\\OneDrive\\\\Skola\\\\bachelor-thesis\\\\AutogluonModels\\\\ag-20240616_172503\\\\models\\\\MultiModalPredictor\\\\automm_model\\\\epoch=3-step=40.ckpt' as top 3\n",
      "Epoch 4, global step 45: 'val_root_mean_squared_error' reached 0.75864 (best 0.75864), saving model to 'C:\\\\Users\\\\vojta\\\\OneDrive\\\\Skola\\\\bachelor-thesis\\\\AutogluonModels\\\\ag-20240616_172503\\\\models\\\\MultiModalPredictor\\\\automm_model\\\\epoch=4-step=45.ckpt' as top 3\n",
      "Epoch 4, global step 50: 'val_root_mean_squared_error' was not in top 3\n",
      "Epoch 5, global step 55: 'val_root_mean_squared_error' was not in top 3\n",
      "Epoch 5, global step 60: 'val_root_mean_squared_error' reached 0.75488 (best 0.75488), saving model to 'C:\\\\Users\\\\vojta\\\\OneDrive\\\\Skola\\\\bachelor-thesis\\\\AutogluonModels\\\\ag-20240616_172503\\\\models\\\\MultiModalPredictor\\\\automm_model\\\\epoch=5-step=60.ckpt' as top 3\n",
      "Epoch 6, global step 65: 'val_root_mean_squared_error' was not in top 3\n",
      "Epoch 6, global step 70: 'val_root_mean_squared_error' was not in top 3\n",
      "Epoch 7, global step 75: 'val_root_mean_squared_error' was not in top 3\n",
      "Epoch 7, global step 80: 'val_root_mean_squared_error' was not in top 3\n",
      "Epoch 8, global step 85: 'val_root_mean_squared_error' was not in top 3\n",
      "Epoch 8, global step 90: 'val_root_mean_squared_error' was not in top 3\n",
      "Epoch 9, global step 95: 'val_root_mean_squared_error' was not in top 3\n",
      "Epoch 9, global step 100: 'val_root_mean_squared_error' was not in top 3\n",
      "`Trainer.fit` stopped: `max_epochs=10` reached.\n",
      "\t-1.0783\t = Validation score   (-root_mean_squared_error)\n",
      "\t445.88s\t = Training   runtime\n",
      "\t22.14s\t = Validation runtime\n",
      "Fitting model: WeightedEnsemble_L2 ...\n",
      "\tEnsemble Weights: {'MultiModalPredictor': 0.656, 'LightGBMXT': 0.167, 'NeuralNetTorch': 0.156, 'LightGBMLarge': 0.021}\n",
      "\t-1.0536\t = Validation score   (-root_mean_squared_error)\n",
      "\t0.12s\t = Training   runtime\n",
      "\t0.0s\t = Validation runtime\n",
      "AutoGluon training complete, total runtime = 503.49s ... Best model: \"WeightedEnsemble_L2\"\n",
      "TabularPredictor saved. To load, use: predictor = TabularPredictor.load(\"AutogluonModels\\ag-20240616_172503\")\n",
      "Load pretrained checkpoint: C:\\Users\\vojta\\OneDrive\\Skola\\bachelor-thesis\\AutogluonModels\\ag-20240616_172503\\models\\MultiModalPredictor\\automm_model\\model.ckpt\n"
     ]
    },
    {
     "data": {
      "text/plain": "Predicting: 0it [00:00, ?it/s]",
      "application/vnd.jupyter.widget-view+json": {
       "version_major": 2,
       "version_minor": 0,
       "model_id": "f67bbed118084d249af94e825dc86edd"
      }
     },
     "metadata": {},
     "output_type": "display_data"
    },
    {
     "data": {
      "text/plain": "'Task: Regression'"
     },
     "metadata": {},
     "output_type": "display_data"
    },
    {
     "data": {
      "text/plain": "'Multimodal Predictor MAE score before roudning: 0.8748244374990464'"
     },
     "metadata": {},
     "output_type": "display_data"
    },
    {
     "data": {
      "text/plain": "'Multimodal Predictor Accuracy score: 0.34'"
     },
     "metadata": {},
     "output_type": "display_data"
    },
    {
     "data": {
      "text/plain": "'Multimodal Predictor Recall score: 0.33981637194305814'"
     },
     "metadata": {},
     "output_type": "display_data"
    },
    {
     "data": {
      "text/plain": "'Multimodal Predictor F1 score: 0.3301989798681597'"
     },
     "metadata": {},
     "output_type": "display_data"
    },
    {
     "data": {
      "text/plain": "'Multimodal Predictor Precision score: 0.4670208690392177'"
     },
     "metadata": {},
     "output_type": "display_data"
    },
    {
     "data": {
      "text/plain": "'Multimodal Predictor MAE score: 0.835'"
     },
     "metadata": {},
     "output_type": "display_data"
    },
    {
     "data": {
      "text/plain": "'Multimodal Predictor MSE score: 1.215'"
     },
     "metadata": {},
     "output_type": "display_data"
    },
    {
     "data": {
      "text/plain": "'Multimodal Predictor RMSE score: 1.1022703842524302'"
     },
     "metadata": {},
     "output_type": "display_data"
    },
    {
     "data": {
      "text/plain": "None"
     },
     "metadata": {},
     "output_type": "display_data"
    },
    {
     "data": {
      "text/plain": "<autogluon.tabular.predictor.predictor.TabularPredictor at 0x196ca7f07f0>"
     },
     "execution_count": 12,
     "metadata": {},
     "output_type": "execute_result"
    },
    {
     "data": {
      "text/plain": "<Figure size 640x480 with 2 Axes>",
      "image/png": "[encoded data removed]"
     },
     "metadata": {},
     "output_type": "display_data"
    }
   ],
   "source": [
    "train_multimodal(X_train_m17, X_test_m17, y_test_m17, 'regression')"
   ],
   "metadata": {
    "collapsed": false,
    "ExecuteTime": {
     "end_time": "2024-06-16T17:33:51.724139900Z",
     "start_time": "2024-06-16T17:25:03.722803900Z"
    }
   },
   "id": "b741a9ea628b4fd5"
  },
  {
   "cell_type": "markdown",
   "source": [
    "### Run Tabular"
   ],
   "metadata": {
    "collapsed": false
   },
   "id": "77899682dd2dca70"
  },
  {
   "cell_type": "code",
   "execution_count": 8,
   "outputs": [],
   "source": [
    "predictor = TabularPredictor.load(\"AutogluonModels/ag-20240620_144309\")"
   ],
   "metadata": {
    "collapsed": false,
    "ExecuteTime": {
     "end_time": "2024-06-24T19:52:41.089743400Z",
     "start_time": "2024-06-24T19:52:41.043960600Z"
    }
   },
   "id": "ea2c2bde6f2362c"
  },
  {
   "cell_type": "code",
   "execution_count": 9,
   "outputs": [],
   "source": [
    "X_test_c19['label'] = y_test_c19"
   ],
   "metadata": {
    "collapsed": false,
    "ExecuteTime": {
     "end_time": "2024-06-24T19:52:41.104820300Z",
     "start_time": "2024-06-24T19:52:41.090746Z"
    }
   },
   "id": "acbc63bb764e5b11"
  },
  {
   "cell_type": "code",
   "execution_count": 10,
   "outputs": [
    {
     "name": "stderr",
     "output_type": "stream",
     "text": [
      "\n",
      "Dask dataframe query planning is disabled because dask-expr is not installed.\n",
      "\n",
      "You can install it with `pip install dask[dataframe]` or `conda install dask`.\n",
      "This will raise in a future version.\n",
      "\n"
     ]
    }
   ],
   "source": [
    "fi = predictor.feature_importance(X_test_c19)"
   ],
   "metadata": {
    "collapsed": false,
    "ExecuteTime": {
     "end_time": "2024-06-24T19:54:48.112434300Z",
     "start_time": "2024-06-24T19:52:41.106820100Z"
    }
   },
   "id": "fd1930b839bb5861"
  },
  {
   "cell_type": "code",
   "execution_count": 12,
   "outputs": [
    {
     "data": {
      "text/plain": "abstract                      0.105333\nbiological_sciences           0.029000\ntitle                         0.028333\nbasic_medicine                0.025667\nrigor                         0.015000\nchemical_sciences             0.011000\ndescriptive_research          0.009000\neducation                     0.004667\nlanguages_and_literature      0.004667\nsociology                     0.003333\ncomputer_sciences             0.003333\nqualitative_research          0.003000\nindustrial_biotechnology      0.003000\nearth_and_related_sciences    0.002333\nphysical_sciences             0.002000\nobservation                   0.002000\nName: importance, dtype: float64"
     },
     "metadata": {},
     "output_type": "display_data"
    },
    {
     "data": {
      "text/plain": "<Figure size 640x480 with 1 Axes>",
      "image/png": "[encoded data removed]"
     },
     "metadata": {},
     "output_type": "display_data"
    }
   ],
   "source": [
    "import matplotlib.pyplot as plt\n",
    "importances = pd.Series(fi.importance, index=X_train_c19.columns)\n",
    "importances = importances.sort_values(ascending=False)[:16]\n",
    "display(importances)\n",
    "\n",
    "fig, ax = plt.subplots()\n",
    "importances.plot.bar(ax=ax)\n",
    "ax.set_title(\"Feature importances using permutation on full model\")\n",
    "ax.set_ylabel(\"Mean accuracy decrease\")\n",
    "fig.tight_layout()\n",
    "plt.show()"
   ],
   "metadata": {
    "collapsed": false,
    "ExecuteTime": {
     "end_time": "2024-06-24T19:55:07.074259400Z",
     "start_time": "2024-06-24T19:55:06.840069300Z"
    }
   },
   "id": "e7fcbf3844d3cab2"
  },
  {
   "cell_type": "code",
   "execution_count": 42,
   "outputs": [
    {
     "data": {
      "text/plain": "                                    importance    stddev   p_value  n  \\\nabstract                              0.105333  0.006390  0.000002  5   \nbiological_sciences                   0.029000  0.004503  0.000068  5   \ntitle                                 0.028333  0.010069  0.001630  5   \nbasic_medicine                        0.025667  0.005349  0.000214  5   \nrigor                                 0.015000  0.004082  0.000598  5   \n...                                        ...       ...       ... ..   \nchemical_engineering                 -0.002000  0.001826  0.964758  5   \nother_engineering_and_technologies   -0.002667  0.000913  0.998581  5   \ncivil_engineering                    -0.002667  0.000913  0.998581  5   \nother_social_sciences                -0.003000  0.000745  0.999578  5   \neconomics_and_business               -0.004333  0.000913  0.999777  5   \n\n                                    p99_high   p99_low  \nabstract                            0.118491  0.092176  \nbiological_sciences                 0.038272  0.019728  \ntitle                               0.049066  0.007601  \nbasic_medicine                      0.036680  0.014653  \nrigor                               0.023406  0.006594  \n...                                      ...       ...  \nchemical_engineering                0.001759 -0.005759  \nother_engineering_and_technologies -0.000787 -0.004546  \ncivil_engineering                  -0.000787 -0.004546  \nother_social_sciences              -0.001465 -0.004535  \neconomics_and_business             -0.002454 -0.006213  \n\n[64 rows x 6 columns]",
      "text/html": "<div>\n<style scoped>\n    .dataframe tbody tr th:only-of-type {\n        vertical-align: middle;\n    }\n\n    .dataframe tbody tr th {\n        vertical-align: top;\n    }\n\n    .dataframe thead th {\n        text-align: right;\n    }\n</style>\n<table border=\"1\" class=\"dataframe\">\n  <thead>\n    <tr style=\"text-align: right;\">\n      <th></th>\n      <th>importance</th>\n      <th>stddev</th>\n      <th>p_value</th>\n      <th>n</th>\n      <th>p99_high</th>\n      <th>p99_low</th>\n    </tr>\n  </thead>\n  <tbody>\n    <tr>\n      <th>abstract</th>\n      <td>0.105333</td>\n      <td>0.006390</td>\n      <td>0.000002</td>\n      <td>5</td>\n      <td>0.118491</td>\n      <td>0.092176</td>\n    </tr>\n    <tr>\n      <th>biological_sciences</th>\n      <td>0.029000</td>\n      <td>0.004503</td>\n      <td>0.000068</td>\n      <td>5</td>\n      <td>0.038272</td>\n      <td>0.019728</td>\n    </tr>\n    <tr>\n      <th>title</th>\n      <td>0.028333</td>\n      <td>0.010069</td>\n      <td>0.001630</td>\n      <td>5</td>\n      <td>0.049066</td>\n      <td>0.007601</td>\n    </tr>\n    <tr>\n      <th>basic_medicine</th>\n      <td>0.025667</td>\n      <td>0.005349</td>\n      <td>0.000214</td>\n      <td>5</td>\n      <td>0.036680</td>\n      <td>0.014653</td>\n    </tr>\n    <tr>\n      <th>rigor</th>\n      <td>0.015000</td>\n      <td>0.004082</td>\n      <td>0.000598</td>\n      <td>5</td>\n      <td>0.023406</td>\n      <td>0.006594</td>\n    </tr>\n    <tr>\n      <th>...</th>\n      <td>...</td>\n      <td>...</td>\n      <td>...</td>\n      <td>...</td>\n      <td>...</td>\n      <td>...</td>\n    </tr>\n    <tr>\n      <th>chemical_engineering</th>\n      <td>-0.002000</td>\n      <td>0.001826</td>\n      <td>0.964758</td>\n      <td>5</td>\n      <td>0.001759</td>\n      <td>-0.005759</td>\n    </tr>\n    <tr>\n      <th>other_engineering_and_technologies</th>\n      <td>-0.002667</td>\n      <td>0.000913</td>\n      <td>0.998581</td>\n      <td>5</td>\n      <td>-0.000787</td>\n      <td>-0.004546</td>\n    </tr>\n    <tr>\n      <th>civil_engineering</th>\n      <td>-0.002667</td>\n      <td>0.000913</td>\n      <td>0.998581</td>\n      <td>5</td>\n      <td>-0.000787</td>\n      <td>-0.004546</td>\n    </tr>\n    <tr>\n      <th>other_social_sciences</th>\n      <td>-0.003000</td>\n      <td>0.000745</td>\n      <td>0.999578</td>\n      <td>5</td>\n      <td>-0.001465</td>\n      <td>-0.004535</td>\n    </tr>\n    <tr>\n      <th>economics_and_business</th>\n      <td>-0.004333</td>\n      <td>0.000913</td>\n      <td>0.999777</td>\n      <td>5</td>\n      <td>-0.002454</td>\n      <td>-0.006213</td>\n    </tr>\n  </tbody>\n</table>\n<p>64 rows × 6 columns</p>\n</div>"
     },
     "execution_count": 42,
     "metadata": {},
     "output_type": "execute_result"
    }
   ],
   "source": [
    "fi"
   ],
   "metadata": {
    "collapsed": false,
    "ExecuteTime": {
     "end_time": "2024-06-20T14:59:26.337886500Z",
     "start_time": "2024-06-20T14:59:26.330375800Z"
    }
   },
   "id": "6004b857207496bf"
  },
  {
   "cell_type": "code",
   "execution_count": 12,
   "outputs": [
    {
     "data": {
      "text/plain": "                                                  title  \\\n1451  To What Extent Can Digitally-Mediated Team Com...   \n1842  The Association of Cardiovascular Diseases and...   \n798   How to Train Your Dragon: Harnessing Gamma Del...   \n997   COVID‐19 vaccine hesitancy and attitudes in Qa...   \n1791  Coronavirus: Older Persons With Cancer in Ital...   \n...                                                 ...   \n1417  Machine-Actionable Data Management Plans: A Kn...   \n435   Early Detection of Diabetic Peripheral Neuropa...   \n599   Elective cardiovascular care in the era of the...   \n2310  Real-Time Digital Contact Tracing: Development...   \n2614  Synthetic DNA Vaccines Adjuvanted with pIL-33 ...   \n\n                                               abstract  rigor  novelty  \\\n1451  Digital communication technologies can be used...    1.0      1.0   \n1842  Coronavirus disease 2019 (COVID-19) has become...    1.0      2.0   \n798   The emergence of viruses with pandemic potenti...    2.0      2.0   \n997   BACKGROUND: Vaccine hesitancy is a global thre...    1.0      1.0   \n1791  Italy is the European country that was hit fir...    1.0      2.0   \n...                                                 ...    ...      ...   \n1417  Funding bodies and other policy-makers are inc...    2.0      2.0   \n435   Diabetic peripheral neuropathy (DPN) is the mo...    2.0      2.0   \n599   The COVID-19 pandemic has led to significant m...    1.0      1.0   \n2310  BACKGROUND: Severe acute respiratory syndrome ...    2.0      2.0   \n2614  The need for a malaria vaccine is indisputable...    2.0      2.0   \n\n      grammar  replicability  accessibility  mathematics  computer_sciences  \\\n1451        0              1            2.0          0.0                0.0   \n1842        0              0            2.0          0.0                1.0   \n798         0              1            2.0          0.0                1.0   \n997         0              1            2.0          0.0                1.0   \n1791        0              1            2.0          0.0                0.0   \n...       ...            ...            ...          ...                ...   \n1417        0              1            2.0          0.0                1.0   \n435         0              1            2.0          0.0                1.0   \n599         0              0            1.0          0.0                0.0   \n2310        0              1            2.0          0.0                1.0   \n2614        0              1            2.0          0.0                0.0   \n\n      physical_sciences  ...  focus_groups  interviews  mixed_methods  \\\n1451                0.0  ...             0           0              0   \n1842                0.0  ...             0           0              0   \n798                 0.0  ...             0           0              1   \n997                 0.0  ...             0           0              0   \n1791                0.0  ...             0           0              0   \n...                 ...  ...           ...         ...            ...   \n1417                0.0  ...             0           0              1   \n435                 0.0  ...             0           0              1   \n599                 0.0  ...             0           0              0   \n2310                0.0  ...             0           0              1   \n2614                0.0  ...             0           0              1   \n\n      observation  qualitative_research  quantitative_research  \\\n1451            0                     0                      0   \n1842            0                     0                      0   \n798             0                     1                      0   \n997             0                     0                      0   \n1791            0                     0                      0   \n...           ...                   ...                    ...   \n1417            0                     1                      1   \n435             0                     1                      0   \n599             0                     0                      0   \n2310            0                     0                      1   \n2614            0                     1                      1   \n\n      questionnaires  secondary_research  survey_methodology  label  \n1451               0                   0                   0      0  \n1842               0                   0                   0      1  \n798                0                   0                   0      0  \n997                0                   0                   1      0  \n1791               0                   0                   0      1  \n...              ...                 ...                 ...    ...  \n1417               0                   0                   0      0  \n435                0                   0                   0      0  \n599                0                   0                   0      0  \n2310               0                   0                   0      1  \n2614               0                   0                   0      1  \n\n[600 rows x 65 columns]",
      "text/html": "<div>\n<style scoped>\n    .dataframe tbody tr th:only-of-type {\n        vertical-align: middle;\n    }\n\n    .dataframe tbody tr th {\n        vertical-align: top;\n    }\n\n    .dataframe thead th {\n        text-align: right;\n    }\n</style>\n<table border=\"1\" class=\"dataframe\">\n  <thead>\n    <tr style=\"text-align: right;\">\n      <th></th>\n      <th>title</th>\n      <th>abstract</th>\n      <th>rigor</th>\n      <th>novelty</th>\n      <th>grammar</th>\n      <th>replicability</th>\n      <th>accessibility</th>\n      <th>mathematics</th>\n      <th>computer_sciences</th>\n      <th>physical_sciences</th>\n      <th>...</th>\n      <th>focus_groups</th>\n      <th>interviews</th>\n      <th>mixed_methods</th>\n      <th>observation</th>\n      <th>qualitative_research</th>\n      <th>quantitative_research</th>\n      <th>questionnaires</th>\n      <th>secondary_research</th>\n      <th>survey_methodology</th>\n      <th>label</th>\n    </tr>\n  </thead>\n  <tbody>\n    <tr>\n      <th>1451</th>\n      <td>To What Extent Can Digitally-Mediated Team Com...</td>\n      <td>Digital communication technologies can be used...</td>\n      <td>1.0</td>\n      <td>1.0</td>\n      <td>0</td>\n      <td>1</td>\n      <td>2.0</td>\n      <td>0.0</td>\n      <td>0.0</td>\n      <td>0.0</td>\n      <td>...</td>\n      <td>0</td>\n      <td>0</td>\n      <td>0</td>\n      <td>0</td>\n      <td>0</td>\n      <td>0</td>\n      <td>0</td>\n      <td>0</td>\n      <td>0</td>\n      <td>0</td>\n    </tr>\n    <tr>\n      <th>1842</th>\n      <td>The Association of Cardiovascular Diseases and...</td>\n      <td>Coronavirus disease 2019 (COVID-19) has become...</td>\n      <td>1.0</td>\n      <td>2.0</td>\n      <td>0</td>\n      <td>0</td>\n      <td>2.0</td>\n      <td>0.0</td>\n      <td>1.0</td>\n      <td>0.0</td>\n      <td>...</td>\n      <td>0</td>\n      <td>0</td>\n      <td>0</td>\n      <td>0</td>\n      <td>0</td>\n      <td>0</td>\n      <td>0</td>\n      <td>0</td>\n      <td>0</td>\n      <td>1</td>\n    </tr>\n    <tr>\n      <th>798</th>\n      <td>How to Train Your Dragon: Harnessing Gamma Del...</td>\n      <td>The emergence of viruses with pandemic potenti...</td>\n      <td>2.0</td>\n      <td>2.0</td>\n      <td>0</td>\n      <td>1</td>\n      <td>2.0</td>\n      <td>0.0</td>\n      <td>1.0</td>\n      <td>0.0</td>\n      <td>...</td>\n      <td>0</td>\n      <td>0</td>\n      <td>1</td>\n      <td>0</td>\n      <td>1</td>\n      <td>0</td>\n      <td>0</td>\n      <td>0</td>\n      <td>0</td>\n      <td>0</td>\n    </tr>\n    <tr>\n      <th>997</th>\n      <td>COVID‐19 vaccine hesitancy and attitudes in Qa...</td>\n      <td>BACKGROUND: Vaccine hesitancy is a global thre...</td>\n      <td>1.0</td>\n      <td>1.0</td>\n      <td>0</td>\n      <td>1</td>\n      <td>2.0</td>\n      <td>0.0</td>\n      <td>1.0</td>\n      <td>0.0</td>\n      <td>...</td>\n      <td>0</td>\n      <td>0</td>\n      <td>0</td>\n      <td>0</td>\n      <td>0</td>\n      <td>0</td>\n      <td>0</td>\n      <td>0</td>\n      <td>1</td>\n      <td>0</td>\n    </tr>\n    <tr>\n      <th>1791</th>\n      <td>Coronavirus: Older Persons With Cancer in Ital...</td>\n      <td>Italy is the European country that was hit fir...</td>\n      <td>1.0</td>\n      <td>2.0</td>\n      <td>0</td>\n      <td>1</td>\n      <td>2.0</td>\n      <td>0.0</td>\n      <td>0.0</td>\n      <td>0.0</td>\n      <td>...</td>\n      <td>0</td>\n      <td>0</td>\n      <td>0</td>\n      <td>0</td>\n      <td>0</td>\n      <td>0</td>\n      <td>0</td>\n      <td>0</td>\n      <td>0</td>\n      <td>1</td>\n    </tr>\n    <tr>\n      <th>...</th>\n      <td>...</td>\n      <td>...</td>\n      <td>...</td>\n      <td>...</td>\n      <td>...</td>\n      <td>...</td>\n      <td>...</td>\n      <td>...</td>\n      <td>...</td>\n      <td>...</td>\n      <td>...</td>\n      <td>...</td>\n      <td>...</td>\n      <td>...</td>\n      <td>...</td>\n      <td>...</td>\n      <td>...</td>\n      <td>...</td>\n      <td>...</td>\n      <td>...</td>\n      <td>...</td>\n    </tr>\n    <tr>\n      <th>1417</th>\n      <td>Machine-Actionable Data Management Plans: A Kn...</td>\n      <td>Funding bodies and other policy-makers are inc...</td>\n      <td>2.0</td>\n      <td>2.0</td>\n      <td>0</td>\n      <td>1</td>\n      <td>2.0</td>\n      <td>0.0</td>\n      <td>1.0</td>\n      <td>0.0</td>\n      <td>...</td>\n      <td>0</td>\n      <td>0</td>\n      <td>1</td>\n      <td>0</td>\n      <td>1</td>\n      <td>1</td>\n      <td>0</td>\n      <td>0</td>\n      <td>0</td>\n      <td>0</td>\n    </tr>\n    <tr>\n      <th>435</th>\n      <td>Early Detection of Diabetic Peripheral Neuropa...</td>\n      <td>Diabetic peripheral neuropathy (DPN) is the mo...</td>\n      <td>2.0</td>\n      <td>2.0</td>\n      <td>0</td>\n      <td>1</td>\n      <td>2.0</td>\n      <td>0.0</td>\n      <td>1.0</td>\n      <td>0.0</td>\n      <td>...</td>\n      <td>0</td>\n      <td>0</td>\n      <td>1</td>\n      <td>0</td>\n      <td>1</td>\n      <td>0</td>\n      <td>0</td>\n      <td>0</td>\n      <td>0</td>\n      <td>0</td>\n    </tr>\n    <tr>\n      <th>599</th>\n      <td>Elective cardiovascular care in the era of the...</td>\n      <td>The COVID-19 pandemic has led to significant m...</td>\n      <td>1.0</td>\n      <td>1.0</td>\n      <td>0</td>\n      <td>0</td>\n      <td>1.0</td>\n      <td>0.0</td>\n      <td>0.0</td>\n      <td>0.0</td>\n      <td>...</td>\n      <td>0</td>\n      <td>0</td>\n      <td>0</td>\n      <td>0</td>\n      <td>0</td>\n      <td>0</td>\n      <td>0</td>\n      <td>0</td>\n      <td>0</td>\n      <td>0</td>\n    </tr>\n    <tr>\n      <th>2310</th>\n      <td>Real-Time Digital Contact Tracing: Development...</td>\n      <td>BACKGROUND: Severe acute respiratory syndrome ...</td>\n      <td>2.0</td>\n      <td>2.0</td>\n      <td>0</td>\n      <td>1</td>\n      <td>2.0</td>\n      <td>0.0</td>\n      <td>1.0</td>\n      <td>0.0</td>\n      <td>...</td>\n      <td>0</td>\n      <td>0</td>\n      <td>1</td>\n      <td>0</td>\n      <td>0</td>\n      <td>1</td>\n      <td>0</td>\n      <td>0</td>\n      <td>0</td>\n      <td>1</td>\n    </tr>\n    <tr>\n      <th>2614</th>\n      <td>Synthetic DNA Vaccines Adjuvanted with pIL-33 ...</td>\n      <td>The need for a malaria vaccine is indisputable...</td>\n      <td>2.0</td>\n      <td>2.0</td>\n      <td>0</td>\n      <td>1</td>\n      <td>2.0</td>\n      <td>0.0</td>\n      <td>0.0</td>\n      <td>0.0</td>\n      <td>...</td>\n      <td>0</td>\n      <td>0</td>\n      <td>1</td>\n      <td>0</td>\n      <td>1</td>\n      <td>1</td>\n      <td>0</td>\n      <td>0</td>\n      <td>0</td>\n      <td>1</td>\n    </tr>\n  </tbody>\n</table>\n<p>600 rows × 65 columns</p>\n</div>"
     },
     "execution_count": 12,
     "metadata": {},
     "output_type": "execute_result"
    }
   ],
   "source": [
    "X_test_c19"
   ],
   "metadata": {
    "collapsed": false,
    "ExecuteTime": {
     "end_time": "2024-06-20T13:56:01.516549400Z",
     "start_time": "2024-06-20T13:56:01.477934300Z"
    }
   },
   "id": "55663500dca40aee"
  },
  {
   "cell_type": "code",
   "execution_count": 13,
   "outputs": [
    {
     "data": {
      "text/plain": "                                                  title  \\\n545   Educational gains of in‐person vs. distance le...   \n624   Emetine suppresses SARS-CoV-2 replication by i...   \n2739  Gynecological laparoscopic surgery in the shad...   \n2786  Infections on the move: how transient phases o...   \n394   A New Method of Differentiation Between a Biol...   \n...                                                 ...   \n2619  Impacts of SARS on health-seeking behaviors in...   \n2078  Exercise-induced immune system response: Anti-...   \n890   SOFIA(®)RSV: prospective laboratory evaluation...   \n2517  Rapid response in the COVID-19 pandemic: a Del...   \n802   Pulmonary embolism in patients with COVID-19: ...   \n\n                                               abstract  rigor  novelty  \\\n545   Using data from a computer‐based formative fee...    2.0      2.0   \n624   Emetine is a FDA-approved drug for the treatme...    2.0      2.0   \n2739  A global public health problem with a high rat...    1.0      0.0   \n2786  Animal movement impacts the spread of human an...    2.0      2.0   \n394   The main obstacle in identifying a biological ...    1.0      2.0   \n...                                                 ...    ...      ...   \n2619  BACKGROUND. The severe acute respiratory syndr...    1.0      2.0   \n2078  Abstract A wide array of molecular pathways ha...    1.0      2.0   \n890   BACKGROUND: Respiratory syncytial virus (RSV) ...    2.0      2.0   \n2517  BACKGROUND: COVID-19 was declared a global hea...    2.0      2.0   \n802   BACKGROUND: Pulmonary embolism (PE) has been d...    2.0      2.0   \n\n      grammar  replicability  accessibility  mathematics  computer_sciences  \\\n545         0              1            2.0          0.0                0.0   \n624         0              1            2.0          0.0                1.0   \n2739        0              0            1.0          0.0                1.0   \n2786        0              1            2.0          0.0                1.0   \n394         0              1            2.0          0.0                1.0   \n...       ...            ...            ...          ...                ...   \n2619        0              1            2.0          1.0                1.0   \n2078        0              1            2.0          0.0                1.0   \n890         0              1            2.0          0.0                0.0   \n2517        0              1            2.0          0.0                1.0   \n802         0              1            2.0          0.0                0.0   \n\n      physical_sciences  ...  focus_groups  interviews  mixed_methods  \\\n545                 0.0  ...             0           0              0   \n624                 1.0  ...             0           0              0   \n2739                0.0  ...             0           0              0   \n2786                0.0  ...             0           0              1   \n394                 0.0  ...             0           0              0   \n...                 ...  ...           ...         ...            ...   \n2619                1.0  ...             0           0              1   \n2078                1.0  ...             0           0              0   \n890                 0.0  ...             0           0              1   \n2517                0.0  ...             0           0              1   \n802                 0.0  ...             0           0              1   \n\n      observation  qualitative_research  quantitative_research  \\\n545             0                     0                      0   \n624             0                     0                      0   \n2739            0                     0                      0   \n2786            0                     1                      0   \n394             0                     0                      0   \n...           ...                   ...                    ...   \n2619            0                     1                      0   \n2078            0                     0                      0   \n890             0                     1                      1   \n2517            0                     1                      0   \n802             0                     1                      1   \n\n      questionnaires  secondary_research  survey_methodology  label  \n545                0                   0                   0      0  \n624                0                   0                   0      0  \n2739               0                   0                   0      1  \n2786               0                   0                   0      1  \n394                0                   0                   0      0  \n...              ...                 ...                 ...    ...  \n2619               0                   0                   1      1  \n2078               0                   0                   0      1  \n890                0                   0                   0      0  \n2517               0                   0                   0      1  \n802                0                   0                   0      0  \n\n[2398 rows x 65 columns]",
      "text/html": "<div>\n<style scoped>\n    .dataframe tbody tr th:only-of-type {\n        vertical-align: middle;\n    }\n\n    .dataframe tbody tr th {\n        vertical-align: top;\n    }\n\n    .dataframe thead th {\n        text-align: right;\n    }\n</style>\n<table border=\"1\" class=\"dataframe\">\n  <thead>\n    <tr style=\"text-align: right;\">\n      <th></th>\n      <th>title</th>\n      <th>abstract</th>\n      <th>rigor</th>\n      <th>novelty</th>\n      <th>grammar</th>\n      <th>replicability</th>\n      <th>accessibility</th>\n      <th>mathematics</th>\n      <th>computer_sciences</th>\n      <th>physical_sciences</th>\n      <th>...</th>\n      <th>focus_groups</th>\n      <th>interviews</th>\n      <th>mixed_methods</th>\n      <th>observation</th>\n      <th>qualitative_research</th>\n      <th>quantitative_research</th>\n      <th>questionnaires</th>\n      <th>secondary_research</th>\n      <th>survey_methodology</th>\n      <th>label</th>\n    </tr>\n  </thead>\n  <tbody>\n    <tr>\n      <th>545</th>\n      <td>Educational gains of in‐person vs. distance le...</td>\n      <td>Using data from a computer‐based formative fee...</td>\n      <td>2.0</td>\n      <td>2.0</td>\n      <td>0</td>\n      <td>1</td>\n      <td>2.0</td>\n      <td>0.0</td>\n      <td>0.0</td>\n      <td>0.0</td>\n      <td>...</td>\n      <td>0</td>\n      <td>0</td>\n      <td>0</td>\n      <td>0</td>\n      <td>0</td>\n      <td>0</td>\n      <td>0</td>\n      <td>0</td>\n      <td>0</td>\n      <td>0</td>\n    </tr>\n    <tr>\n      <th>624</th>\n      <td>Emetine suppresses SARS-CoV-2 replication by i...</td>\n      <td>Emetine is a FDA-approved drug for the treatme...</td>\n      <td>2.0</td>\n      <td>2.0</td>\n      <td>0</td>\n      <td>1</td>\n      <td>2.0</td>\n      <td>0.0</td>\n      <td>1.0</td>\n      <td>1.0</td>\n      <td>...</td>\n      <td>0</td>\n      <td>0</td>\n      <td>0</td>\n      <td>0</td>\n      <td>0</td>\n      <td>0</td>\n      <td>0</td>\n      <td>0</td>\n      <td>0</td>\n      <td>0</td>\n    </tr>\n    <tr>\n      <th>2739</th>\n      <td>Gynecological laparoscopic surgery in the shad...</td>\n      <td>A global public health problem with a high rat...</td>\n      <td>1.0</td>\n      <td>0.0</td>\n      <td>0</td>\n      <td>0</td>\n      <td>1.0</td>\n      <td>0.0</td>\n      <td>1.0</td>\n      <td>0.0</td>\n      <td>...</td>\n      <td>0</td>\n      <td>0</td>\n      <td>0</td>\n      <td>0</td>\n      <td>0</td>\n      <td>0</td>\n      <td>0</td>\n      <td>0</td>\n      <td>0</td>\n      <td>1</td>\n    </tr>\n    <tr>\n      <th>2786</th>\n      <td>Infections on the move: how transient phases o...</td>\n      <td>Animal movement impacts the spread of human an...</td>\n      <td>2.0</td>\n      <td>2.0</td>\n      <td>0</td>\n      <td>1</td>\n      <td>2.0</td>\n      <td>0.0</td>\n      <td>1.0</td>\n      <td>0.0</td>\n      <td>...</td>\n      <td>0</td>\n      <td>0</td>\n      <td>1</td>\n      <td>0</td>\n      <td>1</td>\n      <td>0</td>\n      <td>0</td>\n      <td>0</td>\n      <td>0</td>\n      <td>1</td>\n    </tr>\n    <tr>\n      <th>394</th>\n      <td>A New Method of Differentiation Between a Biol...</td>\n      <td>The main obstacle in identifying a biological ...</td>\n      <td>1.0</td>\n      <td>2.0</td>\n      <td>0</td>\n      <td>1</td>\n      <td>2.0</td>\n      <td>0.0</td>\n      <td>1.0</td>\n      <td>0.0</td>\n      <td>...</td>\n      <td>0</td>\n      <td>0</td>\n      <td>0</td>\n      <td>0</td>\n      <td>0</td>\n      <td>0</td>\n      <td>0</td>\n      <td>0</td>\n      <td>0</td>\n      <td>0</td>\n    </tr>\n    <tr>\n      <th>...</th>\n      <td>...</td>\n      <td>...</td>\n      <td>...</td>\n      <td>...</td>\n      <td>...</td>\n      <td>...</td>\n      <td>...</td>\n      <td>...</td>\n      <td>...</td>\n      <td>...</td>\n      <td>...</td>\n      <td>...</td>\n      <td>...</td>\n      <td>...</td>\n      <td>...</td>\n      <td>...</td>\n      <td>...</td>\n      <td>...</td>\n      <td>...</td>\n      <td>...</td>\n      <td>...</td>\n    </tr>\n    <tr>\n      <th>2619</th>\n      <td>Impacts of SARS on health-seeking behaviors in...</td>\n      <td>BACKGROUND. The severe acute respiratory syndr...</td>\n      <td>1.0</td>\n      <td>2.0</td>\n      <td>0</td>\n      <td>1</td>\n      <td>2.0</td>\n      <td>1.0</td>\n      <td>1.0</td>\n      <td>1.0</td>\n      <td>...</td>\n      <td>0</td>\n      <td>0</td>\n      <td>1</td>\n      <td>0</td>\n      <td>1</td>\n      <td>0</td>\n      <td>0</td>\n      <td>0</td>\n      <td>1</td>\n      <td>1</td>\n    </tr>\n    <tr>\n      <th>2078</th>\n      <td>Exercise-induced immune system response: Anti-...</td>\n      <td>Abstract A wide array of molecular pathways ha...</td>\n      <td>1.0</td>\n      <td>2.0</td>\n      <td>0</td>\n      <td>1</td>\n      <td>2.0</td>\n      <td>0.0</td>\n      <td>1.0</td>\n      <td>1.0</td>\n      <td>...</td>\n      <td>0</td>\n      <td>0</td>\n      <td>0</td>\n      <td>0</td>\n      <td>0</td>\n      <td>0</td>\n      <td>0</td>\n      <td>0</td>\n      <td>0</td>\n      <td>1</td>\n    </tr>\n    <tr>\n      <th>890</th>\n      <td>SOFIA(®)RSV: prospective laboratory evaluation...</td>\n      <td>BACKGROUND: Respiratory syncytial virus (RSV) ...</td>\n      <td>2.0</td>\n      <td>2.0</td>\n      <td>0</td>\n      <td>1</td>\n      <td>2.0</td>\n      <td>0.0</td>\n      <td>0.0</td>\n      <td>0.0</td>\n      <td>...</td>\n      <td>0</td>\n      <td>0</td>\n      <td>1</td>\n      <td>0</td>\n      <td>1</td>\n      <td>1</td>\n      <td>0</td>\n      <td>0</td>\n      <td>0</td>\n      <td>0</td>\n    </tr>\n    <tr>\n      <th>2517</th>\n      <td>Rapid response in the COVID-19 pandemic: a Del...</td>\n      <td>BACKGROUND: COVID-19 was declared a global hea...</td>\n      <td>2.0</td>\n      <td>2.0</td>\n      <td>0</td>\n      <td>1</td>\n      <td>2.0</td>\n      <td>0.0</td>\n      <td>1.0</td>\n      <td>0.0</td>\n      <td>...</td>\n      <td>0</td>\n      <td>0</td>\n      <td>1</td>\n      <td>0</td>\n      <td>1</td>\n      <td>0</td>\n      <td>0</td>\n      <td>0</td>\n      <td>0</td>\n      <td>1</td>\n    </tr>\n    <tr>\n      <th>802</th>\n      <td>Pulmonary embolism in patients with COVID-19: ...</td>\n      <td>BACKGROUND: Pulmonary embolism (PE) has been d...</td>\n      <td>2.0</td>\n      <td>2.0</td>\n      <td>0</td>\n      <td>1</td>\n      <td>2.0</td>\n      <td>0.0</td>\n      <td>0.0</td>\n      <td>0.0</td>\n      <td>...</td>\n      <td>0</td>\n      <td>0</td>\n      <td>1</td>\n      <td>0</td>\n      <td>1</td>\n      <td>1</td>\n      <td>0</td>\n      <td>0</td>\n      <td>0</td>\n      <td>0</td>\n    </tr>\n  </tbody>\n</table>\n<p>2398 rows × 65 columns</p>\n</div>"
     },
     "execution_count": 13,
     "metadata": {},
     "output_type": "execute_result"
    }
   ],
   "source": [
    "X_train_c19"
   ],
   "metadata": {
    "collapsed": false,
    "ExecuteTime": {
     "end_time": "2024-06-20T13:56:15.690905800Z",
     "start_time": "2024-06-20T13:56:15.651768Z"
    }
   },
   "id": "fba7ec085f0fd9ac"
  },
  {
   "cell_type": "code",
   "execution_count": 7,
   "outputs": [
    {
     "name": "stderr",
     "output_type": "stream",
     "text": [
      "These features in provided data are not utilized by the predictor and will be ignored: ['focus_groups']\n",
      "\n",
      "Dask dataframe query planning is disabled because dask-expr is not installed.\n",
      "\n",
      "You can install it with `pip install dask[dataframe]` or `conda install dask`.\n",
      "This will raise in a future version.\n",
      "\n",
      "Load pretrained checkpoint: C:\\Users\\vojta\\OneDrive\\Skola\\bachelor-thesis\\AutogluonModels\\ag-20240616_171553\\models\\MultiModalPredictor\\automm_model\\model.ckpt\n",
      "You are using a CUDA device ('NVIDIA GeForce RTX 4070') that has Tensor Cores. To properly utilize them, you should set `torch.set_float32_matmul_precision('medium' | 'high')` which will trade-off precision for performance. For more details, read https://pytorch.org/docs/stable/generated/torch.set_float32_matmul_precision.html#torch.set_float32_matmul_precision\n"
     ]
    },
    {
     "data": {
      "text/plain": "Predicting: 0it [00:00, ?it/s]",
      "application/vnd.jupyter.widget-view+json": {
       "version_major": 2,
       "version_minor": 0,
       "model_id": "a4f2b700ec8f49f4bd22944678a224df"
      }
     },
     "metadata": {},
     "output_type": "display_data"
    },
    {
     "name": "stderr",
     "output_type": "stream",
     "text": [
      "\t7776.07s\t= Expected runtime (1555.21s per shuffle set)\n",
      "Load pretrained checkpoint: C:\\Users\\vojta\\OneDrive\\Skola\\bachelor-thesis\\AutogluonModels\\ag-20240616_171553\\models\\MultiModalPredictor\\automm_model\\model.ckpt\n"
     ]
    },
    {
     "data": {
      "text/plain": "Predicting: 0it [00:00, ?it/s]",
      "application/vnd.jupyter.widget-view+json": {
       "version_major": 2,
       "version_minor": 0,
       "model_id": "2e55b3835c184640b11f7dc3bff54022"
      }
     },
     "metadata": {},
     "output_type": "display_data"
    },
    {
     "name": "stderr",
     "output_type": "stream",
     "text": [
      "Load pretrained checkpoint: C:\\Users\\vojta\\OneDrive\\Skola\\bachelor-thesis\\AutogluonModels\\ag-20240616_171553\\models\\MultiModalPredictor\\automm_model\\model.ckpt\n"
     ]
    },
    {
     "data": {
      "text/plain": "Predicting: 0it [00:00, ?it/s]",
      "application/vnd.jupyter.widget-view+json": {
       "version_major": 2,
       "version_minor": 0,
       "model_id": "ad100e1c33d446febf9e8b2cdf25d6bb"
      }
     },
     "metadata": {},
     "output_type": "display_data"
    },
    {
     "name": "stderr",
     "output_type": "stream",
     "text": [
      "Load pretrained checkpoint: C:\\Users\\vojta\\OneDrive\\Skola\\bachelor-thesis\\AutogluonModels\\ag-20240616_171553\\models\\MultiModalPredictor\\automm_model\\model.ckpt\n"
     ]
    },
    {
     "data": {
      "text/plain": "Predicting: 0it [00:00, ?it/s]",
      "application/vnd.jupyter.widget-view+json": {
       "version_major": 2,
       "version_minor": 0,
       "model_id": "05e577e06a564210888544ceaf457159"
      }
     },
     "metadata": {},
     "output_type": "display_data"
    },
    {
     "name": "stderr",
     "output_type": "stream",
     "text": [
      "Load pretrained checkpoint: C:\\Users\\vojta\\OneDrive\\Skola\\bachelor-thesis\\AutogluonModels\\ag-20240616_171553\\models\\MultiModalPredictor\\automm_model\\model.ckpt\n"
     ]
    },
    {
     "data": {
      "text/plain": "Predicting: 0it [00:00, ?it/s]",
      "application/vnd.jupyter.widget-view+json": {
       "version_major": 2,
       "version_minor": 0,
       "model_id": "8f5c191832424580a61f1f9f91313371"
      }
     },
     "metadata": {},
     "output_type": "display_data"
    },
    {
     "name": "stderr",
     "output_type": "stream",
     "text": [
      "Load pretrained checkpoint: C:\\Users\\vojta\\OneDrive\\Skola\\bachelor-thesis\\AutogluonModels\\ag-20240616_171553\\models\\MultiModalPredictor\\automm_model\\model.ckpt\n"
     ]
    },
    {
     "data": {
      "text/plain": "Predicting: 0it [00:00, ?it/s]",
      "application/vnd.jupyter.widget-view+json": {
       "version_major": 2,
       "version_minor": 0,
       "model_id": "2afcdfdd1b844e85b7b1442b29e43453"
      }
     },
     "metadata": {},
     "output_type": "display_data"
    },
    {
     "name": "stderr",
     "output_type": "stream",
     "text": [
      "\t862.67s\t= Actual runtime (Completed 5 of 5 shuffle sets)\n"
     ]
    }
   ],
   "source": [
    "predictor = TabularPredictor.load(\"AutogluonModels/ag-20240616_171553\")\n",
    "X_test_m17['label'] = y_test_m17\n",
    "fi_m17 = predictor.feature_importance(X_test_m17)"
   ],
   "metadata": {
    "collapsed": false,
    "ExecuteTime": {
     "end_time": "2024-06-26T23:21:54.194234700Z",
     "start_time": "2024-06-26T23:07:31.459158800Z"
    }
   },
   "id": "a670abbb81e83c0e"
  },
  {
   "cell_type": "code",
   "execution_count": 8,
   "outputs": [
    {
     "data": {
      "text/plain": "                                          importance    stddev   p_value  n  \\\nabstract                                      0.1745  0.023278  0.000037  5   \nbasic_medicine                                0.0060  0.001369  0.000304  5   \ngrammar                                       0.0060  0.002236  0.001941  5   \nanimal_and_dairy_science                      0.0060  0.002236  0.001941  5   \nearth_and_related_environmental_sciences      0.0045  0.001118  0.000422  5   \n...                                              ...       ...       ... ..   \nreplicability                                -0.0020  0.002092  0.950350  5   \nchemical_engineering                         -0.0025  0.002500  0.955495  5   \nelectrical_engineering                       -0.0025  0.001768  0.982945  5   \nmechanical_engineering                       -0.0030  0.003260  0.945650  5   \ntitle                                        -0.0085  0.005755  0.985067  5   \n\n                                          p99_high   p99_low  \nabstract                                  0.222430  0.126570  \nbasic_medicine                            0.008819  0.003181  \ngrammar                                   0.010604  0.001396  \nanimal_and_dairy_science                  0.010604  0.001396  \nearth_and_related_environmental_sciences  0.006802  0.002198  \n...                                            ...       ...  \nreplicability                             0.002307 -0.006307  \nchemical_engineering                      0.002648 -0.007648  \nelectrical_engineering                    0.001140 -0.006140  \nmechanical_engineering                    0.003712 -0.009712  \ntitle                                     0.003351 -0.020351  \n\n[63 rows x 6 columns]",
      "text/html": "<div>\n<style scoped>\n    .dataframe tbody tr th:only-of-type {\n        vertical-align: middle;\n    }\n\n    .dataframe tbody tr th {\n        vertical-align: top;\n    }\n\n    .dataframe thead th {\n        text-align: right;\n    }\n</style>\n<table border=\"1\" class=\"dataframe\">\n  <thead>\n    <tr style=\"text-align: right;\">\n      <th></th>\n      <th>importance</th>\n      <th>stddev</th>\n      <th>p_value</th>\n      <th>n</th>\n      <th>p99_high</th>\n      <th>p99_low</th>\n    </tr>\n  </thead>\n  <tbody>\n    <tr>\n      <th>abstract</th>\n      <td>0.1745</td>\n      <td>0.023278</td>\n      <td>0.000037</td>\n      <td>5</td>\n      <td>0.222430</td>\n      <td>0.126570</td>\n    </tr>\n    <tr>\n      <th>basic_medicine</th>\n      <td>0.0060</td>\n      <td>0.001369</td>\n      <td>0.000304</td>\n      <td>5</td>\n      <td>0.008819</td>\n      <td>0.003181</td>\n    </tr>\n    <tr>\n      <th>grammar</th>\n      <td>0.0060</td>\n      <td>0.002236</td>\n      <td>0.001941</td>\n      <td>5</td>\n      <td>0.010604</td>\n      <td>0.001396</td>\n    </tr>\n    <tr>\n      <th>animal_and_dairy_science</th>\n      <td>0.0060</td>\n      <td>0.002236</td>\n      <td>0.001941</td>\n      <td>5</td>\n      <td>0.010604</td>\n      <td>0.001396</td>\n    </tr>\n    <tr>\n      <th>earth_and_related_environmental_sciences</th>\n      <td>0.0045</td>\n      <td>0.001118</td>\n      <td>0.000422</td>\n      <td>5</td>\n      <td>0.006802</td>\n      <td>0.002198</td>\n    </tr>\n    <tr>\n      <th>...</th>\n      <td>...</td>\n      <td>...</td>\n      <td>...</td>\n      <td>...</td>\n      <td>...</td>\n      <td>...</td>\n    </tr>\n    <tr>\n      <th>replicability</th>\n      <td>-0.0020</td>\n      <td>0.002092</td>\n      <td>0.950350</td>\n      <td>5</td>\n      <td>0.002307</td>\n      <td>-0.006307</td>\n    </tr>\n    <tr>\n      <th>chemical_engineering</th>\n      <td>-0.0025</td>\n      <td>0.002500</td>\n      <td>0.955495</td>\n      <td>5</td>\n      <td>0.002648</td>\n      <td>-0.007648</td>\n    </tr>\n    <tr>\n      <th>electrical_engineering</th>\n      <td>-0.0025</td>\n      <td>0.001768</td>\n      <td>0.982945</td>\n      <td>5</td>\n      <td>0.001140</td>\n      <td>-0.006140</td>\n    </tr>\n    <tr>\n      <th>mechanical_engineering</th>\n      <td>-0.0030</td>\n      <td>0.003260</td>\n      <td>0.945650</td>\n      <td>5</td>\n      <td>0.003712</td>\n      <td>-0.009712</td>\n    </tr>\n    <tr>\n      <th>title</th>\n      <td>-0.0085</td>\n      <td>0.005755</td>\n      <td>0.985067</td>\n      <td>5</td>\n      <td>0.003351</td>\n      <td>-0.020351</td>\n    </tr>\n  </tbody>\n</table>\n<p>63 rows × 6 columns</p>\n</div>"
     },
     "execution_count": 8,
     "metadata": {},
     "output_type": "execute_result"
    }
   ],
   "source": [
    "fi_m17"
   ],
   "metadata": {
    "collapsed": false,
    "ExecuteTime": {
     "end_time": "2024-06-26T23:21:54.238853100Z",
     "start_time": "2024-06-26T23:21:54.196300900Z"
    }
   },
   "id": "f36f71b4e25f5e6b"
  },
  {
   "cell_type": "code",
   "execution_count": null,
   "outputs": [],
   "source": [
    "import matplotlib.pyplot as plt\n",
    "importances = pd.Series(fi.importance, index=X_train_m17.columns)\n",
    "importances = importances.sort_values(ascending=False)[:16]\n",
    "display(importances)\n",
    "\n",
    "fig, ax = plt.subplots()\n",
    "importances.plot.bar(ax=ax)\n",
    "ax.set_title(\"Feature importances using permutation on full model\")\n",
    "ax.set_ylabel(\"Mean accuracy decrease\")\n",
    "fig.tight_layout()\n",
    "plt.show()"
   ],
   "metadata": {
    "collapsed": false
   },
   "id": "ec4660611f5e6efb"
  },
  {
   "cell_type": "code",
   "execution_count": 21,
   "outputs": [
    {
     "name": "stderr",
     "output_type": "stream",
     "text": [
      "Computing feature importance via permutation shuffling for 64 features using 600 rows with 5 shuffle sets...\n",
      "\t244.03s\t= Expected runtime (48.81s per shuffle set)\n",
      "\n",
      "KeyboardInterrupt\n",
      "\n"
     ]
    }
   ],
   "source": [
    "predictor.feature_importance(X_test_c19, silent=False)"
   ],
   "metadata": {
    "collapsed": false,
    "ExecuteTime": {
     "end_time": "2024-06-16T21:21:56.782250Z",
     "start_time": "2024-06-16T21:21:47.484729Z"
    }
   },
   "id": "36303850e5fa211c"
  }
 ],
 "metadata": {
  "kernelspec": {
   "display_name": "Python 3",
   "language": "python",
   "name": "python3"
  },
  "language_info": {
   "codemirror_mode": {
    "name": "ipython",
    "version": 2
   },
   "file_extension": ".py",
   "mimetype": "text/x-python",
   "name": "python",
   "nbconvert_exporter": "python",
   "pygments_lexer": "ipython2",
   "version": "2.7.6"
  }
 },
 "nbformat": 4,
 "nbformat_minor": 5
}
