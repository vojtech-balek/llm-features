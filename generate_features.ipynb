{
 "cells": [
  {
   "cell_type": "code",
   "execution_count": 1,
   "id": "initial_id",
   "metadata": {
    "ExecuteTime": {
     "end_time": "2024-04-14T13:38:50.254858600Z",
     "start_time": "2024-04-14T13:38:47.803381600Z"
    }
   },
   "outputs": [],
   "source": [
    "import pandas as pd\n",
    "from IPython.core.interactiveshell import InteractiveShell\n",
    "InteractiveShell.ast_node_interactivity = \"all\"\n",
    "import torch\n",
    "import re\n",
    "from transformers import set_seed\n",
    "import json\n",
    "from torch import cuda\n",
    "torch.cuda.empty_cache()"
   ]
  },
  {
   "cell_type": "code",
   "execution_count": 2,
   "id": "333061f98b3d9121",
   "metadata": {
    "ExecuteTime": {
     "end_time": "2024-04-14T13:38:50.293188900Z",
     "start_time": "2024-04-14T13:38:50.286381900Z"
    },
    "collapsed": false
   },
   "outputs": [
    {
     "data": {
      "text/plain": [
       "True"
      ]
     },
     "execution_count": 2,
     "metadata": {},
     "output_type": "execute_result"
    }
   ],
   "source": [
    "cuda.is_available()"
   ]
  },
  {
   "cell_type": "code",
   "execution_count": 3,
   "id": "37319b39b287399a",
   "metadata": {
    "ExecuteTime": {
     "end_time": "2024-04-14T13:38:50.343381400Z",
     "start_time": "2024-04-14T13:38:50.297193800Z"
    },
    "collapsed": false
   },
   "outputs": [],
   "source": [
    "# list of FORD categories \n",
    "ford_categories =  { \n",
    "    \"10100\": \"Mathematics\",\n",
    "    \"10200\": \"Computer and information sciences\",\n",
    "    \"10300\": \"Physical sciences\",\n",
    "    \"10400\": \"Chemical sciences\",\n",
    "    \"10500\": \"Earth and related environmental sciences\",\n",
    "    \"10600\": \"Biological sciences\",\n",
    "    \"10700\": \"Other natural sciences\",\n",
    "    \"20100\": \"Civil engineering\",\n",
    "    \"20200\": \"Electrical engineering, Electronic engineering, Information engineering\",\n",
    "    \"20300\": \"Mechanical engineering\",\n",
    "    \"20400\": \"Chemical engineering\",\n",
    "    \"20500\": \"Materials engineering\",\n",
    "    \"20600\": \"Environmental engineering\",\n",
    "    \"20800\": \"Evironmental biotechnology\",\n",
    "    \"20900\": \"Industrial biotechnology\",\n",
    "    \"21000\": \"Nano-technology\",\n",
    "    \"21100\": \"Other engineering and technologies\",\n",
    "    \"30100\": \"Basic medicine\",\n",
    "    \"30200\": \"Clinical medicine\",\n",
    "    \"30300\": \"Health sciences\",\n",
    "    \"30400\": \"Medical biotechnology\",\n",
    "    \"30500\": \"Other medical sciences\",\n",
    "    \"40100\": \"Agriculture, Forestry and Fisheries\",\n",
    "    \"40200\": \"Animal and Dairy science\",\n",
    "    \"40300\": \"Veterinary science\",\n",
    "    \"40400\": \"Agricultural biotechnology\",\n",
    "    \"40500\": \"Other agricultural sciences\",\n",
    "    \"50100\": \"Psychology and cognitive sciences\",\n",
    "    \"50200\": \"Economics and Business\",\n",
    "    \"50300\": \"Education\",\n",
    "    \"50400\": \"Sociology\",\n",
    "    \"50500\": \"Law\",\n",
    "    \"50600\": \"Political science\",\n",
    "    \"50700\": \"Social and economic geography\",\n",
    "    \"50800\": \"Media and communications\",\n",
    "    \"50900\": \"Other social sciences\",\n",
    "    \"60100\": \"History and Archaeology\",\n",
    "    \"60200\": \"Languages and Literature\",\n",
    "    \"60300\": \"Philosophy, Ethics and Religion\",\n",
    "    \"60400\": \"Arts (arts, history of arts, performing arts, music)\",\n",
    "    \"60500\": \"Other Humanities and the Arts\",    \n",
    "}"
   ]
  },
  {
   "cell_type": "code",
   "execution_count": 4,
   "id": "3ff6f8c4-a890-4936-a299-61d39d2ffd24",
   "metadata": {},
   "outputs": [],
   "source": [
    "# list of research types and their definitions\n",
    "research_dict = {\n",
    "    \"Quantitative research\": \"Involves the systematic collection and analysis of numerical data to describe and understand phenomena, test hypotheses, and establish patterns and relationships. Relies on statistical methods for data analysis.\",\n",
    "    \"Experiment\": \"A research method where researchers manipulate one or more variables under controlled conditions to observe the effect on another variable. Used to establish causality and relationships between variables.\",\n",
    "    \"Exploratory research\": \"Conducted to gain insights, identify research questions, and understand a problem more comprehensively. Often used in the early stages of research to explore new areas or phenomena.\",\n",
    "    \"Qualitative research\": \"Focuses on understanding human behavior, experiences, and perceptions through methods like interviews, observations, and textual analysis. Aims to uncover meanings and patterns.\",\n",
    "    \"Mixed methods\": \"Integrates qualitative and quantitative approaches in a single study to provide a more comprehensive understanding of a research problem. Combines strengths of both methods.\",\n",
    "    \"Observation\": \"Involves systematically watching and recording behaviors, events, or phenomena to gather data. Can be conducted in natural settings or controlled environments.\",\n",
    "    \"Applied research\": \"Aims to address specific practical problems and produce outcomes directly applicable to real-world situations. Often involves collaboration with stakeholders.\",\n",
    "    \"Descriptive research\": \"Seeks to describe characteristics or features of a population, phenomenon, or process without manipulating variables. Provides baseline information.\",\n",
    "    \"Focus groups\": \"Involve facilitated discussions with a small group of participants to gather insights, opinions, or attitudes on a specific topic. Provide qualitative data through group interactions.\",\n",
    "    \"Survey methodology\": \"Encompasses the design, implementation, and analysis of surveys to gather data from a sample of a population. Focuses on ensuring validity and reliability of survey instruments.\",\n",
    "    \"Correlational research\": \"Examines the relationship between variables to determine whether and how they co-vary. Assesses the strength and direction of associations but does not establish causation.\",\n",
    "    \"Interviews\": \"A method of data collection involving direct conversations with participants to gather detailed and in-depth information. Can be structured or unstructured.\",\n",
    "    \"Questionnaires\": \"Structured instruments consisting of a set of questions designed to gather standardized data from respondents. Used in survey research to collect quantitative data.\",\n",
    "    \"Secondary research\": \"Involves the use of existing data sources such as literature reviews, databases, or reports to address research questions. Provides a synthesis of existing knowledge.\",\n",
    "    \"Conclusive research\": \"Aims to provide final answers or conclusive findings to specific research questions or hypotheses. Often used to validate or refute existing theories or claims.\",\n",
    "    \"Ethnographic research\": \"Involves deep immersion in a social setting to understand the culture, behaviors, and practices of a group. Uses participant observation and qualitative methods.\"\n",
    "}\n"
   ]
  },
  {
   "cell_type": "code",
   "execution_count": 5,
   "id": "e83544178fb09c67",
   "metadata": {
    "ExecuteTime": {
     "end_time": "2024-04-14T13:38:50.348928500Z",
     "start_time": "2024-04-14T13:38:50.324863900Z"
    },
    "collapsed": false
   },
   "outputs": [],
   "source": [
    "detailed_ford_categories = {\"10101\": \"Pure mathematics\",\n",
    "                   \"10102\": \"Applied mathematics\",\n",
    "                   \"10103\": \"Statistics and probability\",\n",
    "                   \"10201\": \"Computer sciences, information science, bioinformathics; excluding hardware development, social aspect\",\n",
    "                   \"10301\": \"Atomic, molecular and chemical physics (physics of atoms and molecules including collision, interaction with radiation,magnetic resonances Mössbauer effect)\",\n",
    "                   \"10302\":\"Condensed matter physics (including formerly solid state physics, supercond.)\",\n",
    "                   \"10303\":\"Particles and field physics\",\n",
    "                   \"10304\":\"Nuclear physics \",\n",
    "                   \"10305\":\"5 Fluids and plasma physics (including surface physics)\",\n",
    "                   \"10306\":\"Optics (including laser optics and quantum optics)\",\n",
    "                   \"10307\":\"Acoustics\",\n",
    "                   \"10308\":\"Astronomy (including astrophysics, space science)\",\n",
    "                   \"10401\":\"Organic chemistry\",\n",
    "                   \"10402\":\"Inorganic and nuclear chemistry\",\n",
    "                   \"10403\":\"Physical chemistry\",\n",
    "                   \"10404\":\"Polymer science\",\n",
    "                   \"10405\":\"Electrochemistry (dry cells, batteries, fuel cells, corrosion metals, electrolysis)\",\n",
    "                   \"10406\":\"Analytical chemistry\",\n",
    "                   \"10501\":\"Hydrology\",\n",
    "                   \"10502\":\"Oceanography\",\n",
    "                   \"10503\":\"Water resources\",\n",
    "                   \"10504\":\"Mineralogy\",\n",
    "                   \"10505\":\"Geology\",\n",
    "                   \"10506\":\"Paleontology\",\n",
    "                   \"10507\":\"Volcanology\",\n",
    "                   \"10508\":\"Physical geography\",\n",
    "                   \"10509\":\"Meteorology and atmospheric sciences\",\n",
    "                   \"10510\":\"Climatic research\",\n",
    "                   \"10511\":\"Environmental sciences; excluding social aspects\",\n",
    "                   \"10601\":\"Cell biology\",\n",
    "                   \"10602\":\"Biology (theoretical, mathematical, thermal, cryobiology, biological rhythm), Evolutionary biology\",\n",
    "                   \"10603\":\"Genetics and heredity; excluding medical genetics\",\n",
    "                   \"10604\":\"Reproductive biology; excluding medical aspects\",\n",
    "                   \"10605\":\"Developmental biology \",\n",
    "                   \"10606\":\"Microbiology\",\n",
    "                   \"10607\":\"Virology\",\n",
    "                   \"10608\":\"Biochemistry and molecular biology\",\n",
    "                   \"10609\":\"Biochemical research methods\",\n",
    "                   \"10610\":\"Biophysics\",\n",
    "                   \"10611\":\"Plant sciences, botany\",\n",
    "                   \"10612\":\"Mycology\",\n",
    "                   \"10613\":\"Zoology\",\n",
    "                   \"10614\":\"Behavioral sciences biology\",\n",
    "                   \"10615\":\"Ornithology\",\n",
    "                   \"10616\":\"Entomology\",\n",
    "                   \"10617\":\"Marine biology, freshwater biology, limnology\",\n",
    "                   \"10618\":\"Ecology\",\n",
    "                   \"10619\":\"Biodiversity conservation, Other biological topics\",\n",
    "                   \"20101\":\"Civil engineering\",\n",
    "                   \"20102\":\"Construction engineering, Municipal and structural engineering\",\n",
    "                   \"20103\":\"Architecture engineering\",\n",
    "                   \"20104\":\"Transport engineering\",\n",
    "                   \"20201\":\"Electrical and electronic engineering\",\n",
    "                   \"20202\":\"Communication engineering and systems\",\n",
    "                   \"20203\":\"Telecommunications\",\n",
    "                   \"20204\":\"Robotics and automatic control\",\n",
    "                   \"20205\":\"Automation and control systems \",\n",
    "                   \"20206\":\"Computer hardware and architecture\",\n",
    "                   \"20301\":\"Mechanical engineering \",\n",
    "                   \"20302\":\"Applied mechanics\",\n",
    "                   \"20303\":\"Thermodynamics\",\n",
    "                   \"20304\":\"Aerospace engineering\",\n",
    "                   \"20305\":\"Nuclear related engineering, excluding nuclear physics; excluding nuclear physics\",\n",
    "                   \"20306\":\"Audio engineering, reliability analysis\",\n",
    "                   \"20401\":\"Chemical engineering (plants, products)\",\n",
    "                   \"20402\":\"Chemical process engineering\",\n",
    "                   \"20501\":\"Materials engineering\",\n",
    "                   \"20502\":\"Paper and wood\",\n",
    "                   \"20503\":\"Textiles; including synthetic dyes, colours, fibres, excluding Nanoscale materials and Biomaterials\",\n",
    "                   \"20504\":\"Ceramics\",\n",
    "                   \"20505\":\"Composites (including laminates, reinforced plastics, cermets, combined natural and synthetic fibre fabrics; filled composites)\",\n",
    "                   \"20506\":\"Coating and films\",\n",
    "                   \"20601\":\"Medical engineering\",\n",
    "                   \"20602\":\"Medical laboratory technology (including laboratory samples analysis; diagnostic technologies), excluding Biomaterials\",\n",
    "                   \"20701\":\"Environmental and geological engineering, geotechnics\",\n",
    "                   \"20702\":\"Petroleum engineering (fuel, oils)\",\n",
    "                   \"20703\":\"Mining and mineral processing\",\n",
    "                   \"20704\":\"Energy and fuels\",\n",
    "                   \"20705\":\"Remote sensing\",\n",
    "                   \"20706\":\"Marine engineering, sea vessels\",\n",
    "                   \"20707\":\"Ocean engineering\",\n",
    "                   \"20801\":\"Environmental biotechnology\",\n",
    "                   \"20802\":\"Bioremediation, diagnostic biotechnologies (DNA chips and biosensing devices) in environmental management\",\n",
    "                   \"20803\":\"Environmental biotechnology related ethics\",\n",
    "                   \"20901\":\"Industrial biotechnology\",\n",
    "                   \"20902\":\"Bioprocessing technologies (industrial processes relying on biological agents to drive the process) biocatalysis, fermentation\",\n",
    "                   \"20903\":\"Bioproducts (products that are manufactured using biological material as feedstock) biomaterials, bioplastics, biofuels, bioderived bulk and fine chemicals, bio-derived novel materials\",\n",
    "                   \"21001\":\"Nano-materials (production and properties)\",\n",
    "                   \"21002\":\"Nano-processes (applications on nano-scale), excluding biomaterials\",\n",
    "                   \"21101\":\"Food and beverages\",\n",
    "                   \"30101\":\"Human genetics\",\n",
    "                   \"30102\":\"Immunology\",\n",
    "                   \"30103\":\"Neurosciences including psychophysiology\",\n",
    "                   \"30104\":\"Pharmacology and pharmacy\",\n",
    "                   \"30105\":\"Physiology (including cytology)\",\n",
    "                   \"30106\":\"Anatomy and morphology, excluding plant science\",\n",
    "                   \"30107\":\"Medicinal chemistry\",\n",
    "                   \"30108\":\"Toxicology\",\n",
    "                   \"30109\":\"Pathology\",\n",
    "                   \"30201\":\"Cardiac and Cardiovascular systems\",\n",
    "                   \"30202\":\"Endocrinology and metabolism (including diabetes, hormones)\",\n",
    "                   \"30203\":\"Respiratory systems\",\n",
    "                   \"30204\":\"Oncology\",\n",
    "                   \"30205\":\"Hematology\",\n",
    "                   \"30206\":\"Otorhinolaryngology\",\n",
    "                   \"30207\":\"Ophthalmology\",\n",
    "                   \"30208\":\"Dentistry, oral surgery and medicine\",\n",
    "                   \"30209\":\"Paediatrics\",\n",
    "                   \"30210\":\"Clinical neurology\",\n",
    "                   \"30211\":\"Orthopaedics\",\n",
    "                   \"30212\":\"Surgery\",\n",
    "                   \"30213\":\"Transplantation\",\n",
    "                   \"30214\":\"Obstetrics and gynaecology\",\n",
    "                   \"30215\":\"Psychiatry\",\n",
    "                   \"30216\":\"Dermatology and venereal diseases\",\n",
    "                   \"30217\":\"Urology and nephrology\",\n",
    "                   \"30218\":\"General and internal medicine\",\n",
    "                   \"30219\":\"Gastroenterology and hepatology\",\n",
    "                   \"30220\":\"Andrology\",\n",
    "                   \"30221\":\"Critical care medicine and Emergency medicine\",\n",
    "                   \"30223\":\"Anaesthesiology\",\n",
    "                   \"30224\":\"Radiology, nuclear medicine and medical imaging\",\n",
    "                   \"30225\":\"Allergy\",\n",
    "                   \"30226\":\"Rheumatology\",\n",
    "                   \"30227\":\"Geriatrics and gerontology\",\n",
    "                   \"30229\":\"Integrative and complementary medicine (alternative practice systems)\",\n",
    "                   \"30230\":\"Other clinical medicine subjects\",\n",
    "                   \"30301\":\"Social biomedical sciences (includes family planning, sexual health, psycho-oncology, political and social effects of biomedical research)\",\n",
    "                   \"30302\":\"Epidemiology\",\n",
    "                   \"30303\":\"Infectious Diseases\",\n",
    "                   \"30304\":\"Public and environmental health\",\n",
    "                   \"30305\":\"Occupational health\",\n",
    "                   \"30306\":\"Sport and fitness sciences\",\n",
    "                   \"30307\":\"Nursing\",\n",
    "                   \"30308\":\"Nutrition, Dietetics\",\n",
    "                   \"30309\":\"Tropical medicine\",\n",
    "                   \"30310\":\"Parasitology\",\n",
    "                   \"30311\":\"Medical ethics\",\n",
    "                   \"30312\":\"Substance abuse\",\n",
    "                   \"30401\":\"Health-related biotechnology\",\n",
    "                   \"30402\":\"Technologies involving the manipulation of cells, tissues, organs or the whole organism (assisted reproduction)\",\n",
    "                   \"30403\":\"Technologies involving identifying the functioning of DNA, proteins and enzymes and how they influence the onset of disease and maintenance of wellbeing (gene-based diagnostics and therapeutic interventions (pharmacogenomics, gene-based therapeutics)\",\n",
    "                   \"30404\":\"Biomaterials (as related to medical implants, devices, sensors)\",\n",
    "                   \"30405\":\"Medical biotechnology related ethics\",\n",
    "                   \"30501\":\"Forensic science, Other medical science\",\n",
    "                   \"40101\":\"Agriculture\",\n",
    "                   \"40102\":\"Forestry\",\n",
    "                   \"40103\":\"Fishery\",\n",
    "                   \"40104\":\"Soil science\",\n",
    "                   \"40105\":\"Horticulture, viticulture\",\n",
    "                   \"40106\":\"Agronomy, plant breeding and\",\n",
    "                   \"40201\":\"Animal and dairy science; excluding Animal biotechnology\",\n",
    "                   \"40202\":\"Pets\",\n",
    "                   \"40203\":\"Husbandry\",\n",
    "                   \"40301\":\"Veterinary science\",\n",
    "                   \"40401\":\"Agricultural biotechnology and food biotechnology\",\n",
    "                   \"40402\":\"GM technology (crops and livestock), livestock cloning, marker assisted selection, diagnostics (DNA chips and biosensing devices for the early/accurate detection of diseases) biomass feedstock production technologies, biopharming\",\n",
    "                   \"40403\":\"Agricultural biotechnology related ethics\",\n",
    "                   \"50101\":\"Psychology (including human - machine relations)\",\n",
    "                   \"50102\":\"Psychology, special (including therapy for learning, speech, hearing, visual and other physical and mental disabilities);\",\n",
    "                   \"50103\":\"Cognitive sciences\",\n",
    "                   \"50201\":\"Economic Theory\",\n",
    "                   \"50202\":\"Applied Economics, Econometrics\",\n",
    "                   \"50203\":\"Industrial relations\",\n",
    "                   \"50204\":\"Business and management\",\n",
    "                   \"50205\":\"Accounting\",\n",
    "                   \"50206\":\"Finance\",\n",
    "                   \"50301\":\"Education, general; including training, pedagogy, didactics [and education systems]\",\n",
    "                   \"50302\":\"Education, special (to gifted persons, those with learning disabilities)\",\n",
    "                   \"50401\":\"Sociology\",\n",
    "                   \"50402\":\"Demography\",\n",
    "                   \"50403\":\"Social topics (Women´s and gender studies; Social issues; Family studies; Social work)\",\n",
    "                   \"50404\":\"Antropology, ethnology\",\n",
    "                   \"50501\":\"Law\",\n",
    "                   \"50502\":\"Criminology, penology\",\n",
    "                   \"50601\":\"Political science\",\n",
    "                   \"50602\":\"Public administration \",\n",
    "                   \"50603\":\"Organisation theory\",\n",
    "                   \"50701\":\"Cultural and economic geography\",\n",
    "                   \"50702\":\"Urban studies (planning and development)\",\n",
    "                   \"50703\":\"Transport planning and social aspects of transport; excluding transport engineering\",\n",
    "                   \"50704\":\"Environmental sciences (socialaspects)\",\n",
    "                   \"50801\":\"Journalism\",\n",
    "                   \"50802\":\"Media and socio-cultural communication\",\n",
    "                   \"50803\":\"Information science (social aspects)\",\n",
    "                   \"50804\":\"Library science\",\n",
    "                   \"50901\":\"Other social sciences\",\n",
    "                   \"60101\":\"History; except history of science and technology and history of specific sciences\",\n",
    "                   \"60102\":\"Archaeology\",\n",
    "                   \"60201\":\"General language studies\",\n",
    "                   \"60202\":\"Specific languages\",\n",
    "                   \"60203\":\"Linguistics\",\n",
    "                   \"60204\":\"General literature studies\",\n",
    "                   \"60205\":\"Literary theory\",\n",
    "                   \"60206\":\"Specific literatures\",\n",
    "                   \"60301\":\"Philosophy, History and Philosophy of science and technology\",\n",
    "                   \"60302\":\"Ethics (except ethics related to specific subfields)\",\n",
    "                   \"60303\":\"Theology\",\n",
    "                   \"60304\":\"Religious studies\",\n",
    "                   \"60401\":\"Arts, Art history\",\n",
    "                   \"60402\":\"Architectural design\",\n",
    "                   \"60403\":\"Performing arts studies (Musicology, Theater science, Dramaturgy)\",\n",
    "                   \"60404\":\"Folklore studies\",\n",
    "                   \"60405\":\"Studies on Film, Radio and Television\",\n",
    "                   \"60500\":\"Other Humanities and the Arts\",\n",
    "                   }"
   ]
  },
  {
   "cell_type": "code",
   "execution_count": 6,
   "id": "9dcc94434c960e52",
   "metadata": {
    "ExecuteTime": {
     "end_time": "2024-04-14T13:38:50.367907Z",
     "start_time": "2024-04-14T13:38:50.347926100Z"
    },
    "collapsed": false
   },
   "outputs": [
    {
     "data": {
      "text/plain": [
       "'Agricultural biotechnology and food biotechnology, GM technology (crops and livestock), livestock cloning, marker assisted selection, diagnostics (DNA chips and biosensing devices for the early/accurate detection of diseases) biomass feedstock production technologies, biopharming, Agricultural biotechnology related ethics'"
      ]
     },
     "execution_count": 6,
     "metadata": {},
     "output_type": "execute_result"
    }
   ],
   "source": [
    "def get_subclasses(ident):\n",
    "    \"\"\"Get subclasses for each FORD class\"\"\"\n",
    "    ident = ident[:3]\n",
    "    subclasses = \", \".join([detailed_ford_categories[cat] for cat in detailed_ford_categories.keys() if cat[:3] == ident])\n",
    "    return subclasses"
   ]
  },
  {
   "cell_type": "code",
   "execution_count": 7,
   "id": "d5bfaf34ec631256",
   "metadata": {
    "ExecuteTime": {
     "end_time": "2024-04-14T13:38:52.125780100Z",
     "start_time": "2024-04-14T13:38:50.366905900Z"
    },
    "collapsed": false
   },
   "outputs": [
    {
     "name": "stderr",
     "output_type": "stream",
     "text": [
      "2024-04-21 19:23:25.022291: I tensorflow/core/platform/cpu_feature_guard.cc:182] This TensorFlow binary is optimized to use available CPU instructions in performance-critical operations.\n",
      "To enable the following instructions: AVX2 FMA, in other operations, rebuild TensorFlow with the appropriate compiler flags.\n",
      "2024-04-21 19:23:25.854167: W tensorflow/compiler/tf2tensorrt/utils/py_utils.cc:38] TF-TRT Warning: Could not find TensorRT\n"
     ]
    }
   ],
   "source": [
    "HUGGING_FACE_API_KEY = \"\" # do not share\n",
    "set_seed(42)"
   ]
  },
  {
   "cell_type": "code",
   "execution_count": 8,
   "id": "5966d890951ba6e9",
   "metadata": {
    "ExecuteTime": {
     "end_time": "2024-04-14T13:38:52.183780200Z",
     "start_time": "2024-04-14T13:38:52.127784700Z"
    },
    "collapsed": false
   },
   "outputs": [],
   "source": [
    "df = pd.read_csv(\"preprocessed.csv\")"
   ]
  },
  {
   "cell_type": "code",
   "execution_count": 9,
   "id": "a6db165303df440f",
   "metadata": {
    "ExecuteTime": {
     "end_time": "2024-04-14T13:38:59.125348500Z",
     "start_time": "2024-04-14T13:38:52.185781100Z"
    },
    "collapsed": false,
    "scrolled": true
   },
   "outputs": [],
   "source": [
    "from transformers import AutoModelForCausalLM, AutoTokenizer\n",
    "\n",
    "model_id = \"TheBloke/Llama-2-13B-chat-GPTQ\"\n",
    "\n",
    "model = AutoModelForCausalLM.from_pretrained(model_id,\n",
    "                                             device_map=\"auto\",\n",
    "                                             trust_remote_code=False,\n",
    "                                             revision=\"main\")\n",
    "tokenizer = AutoTokenizer.from_pretrained(model_id, use_fast=True)"
   ]
  },
  {
   "cell_type": "code",
   "execution_count": 10,
   "id": "fc99947e5707b9dd",
   "metadata": {
    "ExecuteTime": {
     "end_time": "2024-04-14T13:38:59.130776600Z",
     "start_time": "2024-04-14T13:38:59.128852700Z"
    },
    "collapsed": false
   },
   "outputs": [],
   "source": [
    "def parse_output(output, category):\n",
    "    pattern = \"\\{\\n[\\s\\S]*?\\}\"\n",
    "    try:\n",
    "        match = re.search(pattern, output)\n",
    "        json_string = match.group()\n",
    "        feature_dict = json.loads(json_string)\n",
    "        return feature_dict[category]\n",
    "    except AttributeError:\n",
    "        print(output)\n",
    "        return None"
   ]
  },
  {
   "cell_type": "code",
   "execution_count": 17,
   "id": "5418b7bfd8b25acc",
   "metadata": {
    "ExecuteTime": {
     "end_time": "2024-04-14T13:39:51.546929900Z",
     "start_time": "2024-04-14T13:39:51.541052300Z"
    },
    "collapsed": false
   },
   "outputs": [],
   "source": [
    "def generate_features(title, abstract, category = None,discipline = None,):\n",
    "    prompt_template=f'''[INST] <<SYS>>\n",
    "    You are a categorization assistant. Your job will be to assign a certain characteristic to a research paper based on its abstract. \n",
    "    In this instance you will decide the rigor of the logic presented in the abstract.\n",
    "    Your job will be to assess the methodolical soundness and the quality of logic provided in the abstract.\n",
    "    You will choose between three levels of rigor: low, medium and high. Low being the least rigorous and high being the most. \n",
    "    Be concise, do not provide any explanations. Your answer will consist of an answer in json format like so:\n",
    "    {{\n",
    "        \"rigor\": \"value\"\n",
    "    }}\n",
    "    <</>>\n",
    "    Abstract to be evaluated: \n",
    "    {abstract}[/INST]\n",
    "    Response:\n",
    "    '''\n",
    "    input_ids = tokenizer(prompt_template, return_tensors='pt').input_ids.cuda()\n",
    "    output = model.generate(inputs=input_ids, do_sample=False, max_new_tokens=256)\n",
    "    features = tokenizer.decode(output[0]).split('Response:')[1]\n",
    "    if discipline:\n",
    "        features = features.replace(\" \", \"\").replace(\"\\n\", \"\").replace(\"</s>\", \"\")\n",
    "        features = features.replace(\"\\n\", \"\")\n",
    "        features = features.replace(\".\", \"\")\n",
    "    else:\n",
    "        features = parse_output(features, category)\n",
    "    del input_ids\n",
    "    del output\n",
    "    torch.cuda.empty_cache()  # Clear GPU memory\n",
    "    return features "
   ]
  },
  {
   "cell_type": "code",
   "execution_count": 12,
   "id": "bfb1e6e54f334587",
   "metadata": {
    "ExecuteTime": {
     "end_time": "2024-04-14T13:38:59.178060700Z",
     "start_time": "2024-04-14T13:38:59.161933700Z"
    },
    "collapsed": false
   },
   "outputs": [],
   "source": [
    "def generate_dummies(disciplines):\n",
    "    for discipline in disciplines:\n",
    "        res = []\n",
    "        for i, row in df.iterrows():\n",
    "            features = generate_features(row['title'], row[\"abstract\"], discipline=discipline)\n",
    "            res.append(features)\n",
    "            if i % 50 == 0:\n",
    "                print(f\"Done {i/df.shape[0]*100}%\")\n",
    "        df[discipline] = res\n",
    "        print(f\"Done {discipline}!\")\n",
    "        df.to_csv(\"disciplines_binary.csv\")"
   ]
  },
  {
   "cell_type": "code",
   "execution_count": 13,
   "id": "f62a8cfb02289264",
   "metadata": {
    "ExecuteTime": {
     "end_time": "2024-04-14T13:38:59.189597300Z",
     "start_time": "2024-04-14T13:38:59.185085300Z"
    },
    "collapsed": false
   },
   "outputs": [],
   "source": [
    "def generate_category(category):\n",
    "    res = []\n",
    "    for i, row in df.iterrows():\n",
    "        features = generate_features(row['title'], row[\"abstract\"], discipline = category)\n",
    "        res.append(features)\n",
    "        if i % 50 == 0:\n",
    "            print(f\"Done {i/df.shape[0]*100}%\")\n",
    "    df[category] = res\n",
    "    df.to_csv(f\"{category}.csv\")"
   ]
  },
  {
   "cell_type": "code",
   "execution_count": 18,
   "id": "fb763182fdb0c2d2",
   "metadata": {
    "ExecuteTime": {
     "start_time": "2024-04-14T13:38:59.192600500Z"
    },
    "collapsed": false,
    "scrolled": true
   },
   "outputs": [
    {
     "name": "stdout",
     "output_type": "stream",
     "text": [
      "Done 0.0%\n",
      "Done 37.59398496240601%\n",
      "Done 75.18796992481202%\n"
     ]
    }
   ],
   "source": [
    "generate_category(\"rigor\")"
   ]
  }
 ],
 "metadata": {
  "kernelspec": {
   "display_name": "Python 3 (ipykernel)",
   "language": "python",
   "name": "python3"
  },
  "language_info": {
   "codemirror_mode": {
    "name": "ipython",
    "version": 3
   },
   "file_extension": ".py",
   "mimetype": "text/x-python",
   "name": "python",
   "nbconvert_exporter": "python",
   "pygments_lexer": "ipython3",
   "version": "3.9.18"
  }
 },
 "nbformat": 4,
 "nbformat_minor": 5
}
